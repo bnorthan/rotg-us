{
 "cells": [
  {
   "cell_type": "code",
   "execution_count": 1,
   "metadata": {
    "collapsed": true
   },
   "outputs": [],
   "source": [
    "import pandas as pd"
   ]
  },
  {
   "cell_type": "code",
   "execution_count": 3,
   "metadata": {
    "collapsed": false
   },
   "outputs": [],
   "source": [
    "delmar=pd.read_csv('data/20160403_DelmarDash5Miler.csv')"
   ]
  },
  {
   "cell_type": "code",
   "execution_count": 23,
   "metadata": {
    "collapsed": false
   },
   "outputs": [
    {
     "data": {
      "text/html": [
       "<div>\n",
       "<table border=\"1\" class=\"dataframe\">\n",
       "  <thead>\n",
       "    <tr style=\"text-align: right;\">\n",
       "      <th></th>\n",
       "      <th>Place</th>\n",
       "      <th>Bib</th>\n",
       "      <th>First_Name</th>\n",
       "      <th>Last_Name</th>\n",
       "      <th>Age</th>\n",
       "      <th>Sex</th>\n",
       "      <th>City</th>\n",
       "      <th>State</th>\n",
       "      <th>Team</th>\n",
       "      <th>Div</th>\n",
       "      <th>...</th>\n",
       "      <th>SexPlace</th>\n",
       "      <th>1M</th>\n",
       "      <th>2M</th>\n",
       "      <th>3M</th>\n",
       "      <th>4M</th>\n",
       "      <th>5M</th>\n",
       "      <th>NET Time</th>\n",
       "      <th>NET Pace</th>\n",
       "      <th>Time</th>\n",
       "      <th>Pace</th>\n",
       "    </tr>\n",
       "  </thead>\n",
       "  <tbody>\n",
       "    <tr>\n",
       "      <th>439</th>\n",
       "      <td>440</td>\n",
       "      <td>274</td>\n",
       "      <td>Raymond W.</td>\n",
       "      <td>Lee Jr.</td>\n",
       "      <td>74</td>\n",
       "      <td>M</td>\n",
       "      <td>Halfmoon</td>\n",
       "      <td>NY</td>\n",
       "      <td>Adirondack Athletic Club</td>\n",
       "      <td>M7074</td>\n",
       "      <td>...</td>\n",
       "      <td>227</td>\n",
       "      <td>12:45</td>\n",
       "      <td>13:28</td>\n",
       "      <td>14:11</td>\n",
       "      <td>14:33</td>\n",
       "      <td>13:50</td>\n",
       "      <td>1:08:46</td>\n",
       "      <td>13:46</td>\n",
       "      <td>1:09:17</td>\n",
       "      <td>13:52</td>\n",
       "    </tr>\n",
       "    <tr>\n",
       "      <th>440</th>\n",
       "      <td>441</td>\n",
       "      <td>38</td>\n",
       "      <td>Eiko</td>\n",
       "      <td>Bogue</td>\n",
       "      <td>78</td>\n",
       "      <td>F</td>\n",
       "      <td>Schaghticoke</td>\n",
       "      <td>NY</td>\n",
       "      <td>Hudson Mohawk Road Runners Club</td>\n",
       "      <td>F75+</td>\n",
       "      <td>...</td>\n",
       "      <td>214</td>\n",
       "      <td>13:21</td>\n",
       "      <td>13:27</td>\n",
       "      <td>14:18</td>\n",
       "      <td>14:34</td>\n",
       "      <td>14:09</td>\n",
       "      <td>1:09:47</td>\n",
       "      <td>13:58</td>\n",
       "      <td>1:10:07</td>\n",
       "      <td>14:02</td>\n",
       "    </tr>\n",
       "  </tbody>\n",
       "</table>\n",
       "<p>2 rows × 21 columns</p>\n",
       "</div>"
      ],
      "text/plain": [
       "     Place  Bib  First_Name Last_Name  Age Sex          City State  \\\n",
       "439    440  274  Raymond W.   Lee Jr.   74   M      Halfmoon    NY   \n",
       "440    441   38        Eiko     Bogue   78   F  Schaghticoke    NY   \n",
       "\n",
       "                                Team    Div  ...    SexPlace     1M     2M  \\\n",
       "439         Adirondack Athletic Club  M7074  ...         227  12:45  13:28   \n",
       "440  Hudson Mohawk Road Runners Club   F75+  ...         214  13:21  13:27   \n",
       "\n",
       "        3M     4M     5M NET Time NET Pace     Time   Pace  \n",
       "439  14:11  14:33  13:50  1:08:46    13:46  1:09:17  13:52  \n",
       "440  14:18  14:34  14:09  1:09:47    13:58  1:10:07  14:02  \n",
       "\n",
       "[2 rows x 21 columns]"
      ]
     },
     "execution_count": 23,
     "metadata": {},
     "output_type": "execute_result"
    }
   ],
   "source": [
    "delmar.tail(2)"
   ]
  },
  {
   "cell_type": "code",
   "execution_count": 26,
   "metadata": {
    "collapsed": false
   },
   "outputs": [],
   "source": [
    "temp2=pd.DataFrame()\n",
    "#temp2['PLACE']=results.Place\n",
    "temp2['id']=rotg.index\n",
    "temp2['time']=delmar.Time.apply(lambda x: timetostr(x))\n",
    "temp2['race_id']=4\n",
    "temp2['runner_id']=0\n",
    "temp2['first_name']=delmar.First_Name\n",
    "temp2['last_name']=delmar.Last_Name\n",
    "temp2['gender']=delmar.Sex\n",
    "temp2['city']=delmar.City\n",
    "temp2['state']=delmar.State\n",
    "temp2['age']=delmar.Age\n",
    "temp2['bib']=delmar.Bib\n",
    "temp2['pace']=delmar['NET Pace']\n",
    "temp2['splits']=delmar['1M']+','+delmar['2M']+','+delmar['3M']+','+delmar['4M']+','+delmar['5M']\n",
    "#temp2['YEAR']=2016"
   ]
  },
  {
   "cell_type": "code",
   "execution_count": 35,
   "metadata": {
    "collapsed": false
   },
   "outputs": [
    {
     "data": {
      "text/html": [
       "<div>\n",
       "<table border=\"1\" class=\"dataframe\">\n",
       "  <thead>\n",
       "    <tr style=\"text-align: right;\">\n",
       "      <th></th>\n",
       "      <th>time</th>\n",
       "      <th>race_id</th>\n",
       "      <th>runner_id</th>\n",
       "      <th>first_name</th>\n",
       "      <th>last_name</th>\n",
       "      <th>gender</th>\n",
       "      <th>city</th>\n",
       "      <th>state</th>\n",
       "      <th>age</th>\n",
       "      <th>bib</th>\n",
       "      <th>pace</th>\n",
       "      <th>splits</th>\n",
       "    </tr>\n",
       "  </thead>\n",
       "  <tbody>\n",
       "    <tr>\n",
       "      <th>0</th>\n",
       "      <td>00:2522</td>\n",
       "      <td>4</td>\n",
       "      <td>0</td>\n",
       "      <td>Eric</td>\n",
       "      <td>Macknight</td>\n",
       "      <td>M</td>\n",
       "      <td>Ballston Lake</td>\n",
       "      <td>NY</td>\n",
       "      <td>27</td>\n",
       "      <td>295</td>\n",
       "      <td>5:05</td>\n",
       "      <td>4:59,5:04,5:07,5:14,4:59</td>\n",
       "    </tr>\n",
       "    <tr>\n",
       "      <th>1</th>\n",
       "      <td>00:2708</td>\n",
       "      <td>4</td>\n",
       "      <td>0</td>\n",
       "      <td>Aaron</td>\n",
       "      <td>Lozier</td>\n",
       "      <td>M</td>\n",
       "      <td>Albany</td>\n",
       "      <td>NY</td>\n",
       "      <td>27</td>\n",
       "      <td>291</td>\n",
       "      <td>5:26</td>\n",
       "      <td>5:07,5:26,5:29,5:42,5:26</td>\n",
       "    </tr>\n",
       "    <tr>\n",
       "      <th>2</th>\n",
       "      <td>00:2721</td>\n",
       "      <td>4</td>\n",
       "      <td>0</td>\n",
       "      <td>John</td>\n",
       "      <td>Farley</td>\n",
       "      <td>M</td>\n",
       "      <td>Albany</td>\n",
       "      <td>NY</td>\n",
       "      <td>27</td>\n",
       "      <td>154</td>\n",
       "      <td>5:28</td>\n",
       "      <td>5:34,5:20,5:23,5:41,5:23</td>\n",
       "    </tr>\n",
       "    <tr>\n",
       "      <th>3</th>\n",
       "      <td>00:2730</td>\n",
       "      <td>4</td>\n",
       "      <td>0</td>\n",
       "      <td>Alex</td>\n",
       "      <td>Benway</td>\n",
       "      <td>M</td>\n",
       "      <td>Saratoga Springs</td>\n",
       "      <td>NY</td>\n",
       "      <td>25</td>\n",
       "      <td>32</td>\n",
       "      <td>5:30</td>\n",
       "      <td>5:34,5:16,5:34,5:43,5:23</td>\n",
       "    </tr>\n",
       "    <tr>\n",
       "      <th>4</th>\n",
       "      <td>00:2736</td>\n",
       "      <td>4</td>\n",
       "      <td>0</td>\n",
       "      <td>Richard</td>\n",
       "      <td>Messineo</td>\n",
       "      <td>M</td>\n",
       "      <td>Albany</td>\n",
       "      <td>NY</td>\n",
       "      <td>27</td>\n",
       "      <td>328</td>\n",
       "      <td>5:32</td>\n",
       "      <td>5:26,5:25,5:21,5:47,5:39</td>\n",
       "    </tr>\n",
       "  </tbody>\n",
       "</table>\n",
       "</div>"
      ],
      "text/plain": [
       "      time  race_id  runner_id first_name  last_name gender              city  \\\n",
       "0  00:2522        4          0       Eric  Macknight      M     Ballston Lake   \n",
       "1  00:2708        4          0      Aaron     Lozier      M            Albany   \n",
       "2  00:2721        4          0       John     Farley      M            Albany   \n",
       "3  00:2730        4          0       Alex     Benway      M  Saratoga Springs   \n",
       "4  00:2736        4          0    Richard   Messineo      M            Albany   \n",
       "\n",
       "  state  age  bib  pace                    splits  \n",
       "0    NY   27  295  5:05  4:59,5:04,5:07,5:14,4:59  \n",
       "1    NY   27  291  5:26  5:07,5:26,5:29,5:42,5:26  \n",
       "2    NY   27  154  5:28  5:34,5:20,5:23,5:41,5:23  \n",
       "3    NY   25   32  5:30  5:34,5:16,5:34,5:43,5:23  \n",
       "4    NY   27  328  5:32  5:26,5:25,5:21,5:47,5:39  "
      ]
     },
     "execution_count": 35,
     "metadata": {},
     "output_type": "execute_result"
    }
   ],
   "source": [
    "temp2.head()"
   ]
  },
  {
   "cell_type": "code",
   "execution_count": 36,
   "metadata": {
    "collapsed": false
   },
   "outputs": [],
   "source": [
    "def timetostr(time):\n",
    "    ts=time.split(':')\n",
    "    if int(ts[0])>10:\n",
    "        strtime='00:'+ts[0]+':'+ts[1]\n",
    "    else:    \n",
    "        strtime=ts[0]+':'+ts[1]+':'+ts[2]\n",
    "    return strtime"
   ]
  },
  {
   "cell_type": "code",
   "execution_count": 29,
   "metadata": {
    "collapsed": true
   },
   "outputs": [],
   "source": [
    "import sqlite3\n",
    "conn=sqlite3.connect('../site/runnin/db.sqlite3')\n",
    "cursor=conn.cursor()"
   ]
  },
  {
   "cell_type": "code",
   "execution_count": 30,
   "metadata": {
    "collapsed": false
   },
   "outputs": [
    {
     "data": {
      "text/plain": [
       "[(u'django_migrations',),\n",
       " (u'sqlite_sequence',),\n",
       " (u'auth_group',),\n",
       " (u'auth_group_permissions',),\n",
       " (u'auth_user_groups',),\n",
       " (u'auth_user_user_permissions',),\n",
       " (u'django_admin_log',),\n",
       " (u'django_content_type',),\n",
       " (u'auth_permission',),\n",
       " (u'auth_user',),\n",
       " (u'django_session',),\n",
       " (u'results_race',),\n",
       " (u'results_runner',),\n",
       " (u'results_result',)]"
      ]
     },
     "execution_count": 30,
     "metadata": {},
     "output_type": "execute_result"
    }
   ],
   "source": [
    "cursor.execute(\"SELECT name FROM sqlite_master WHERE type='table';\")\n",
    "cursor.fetchall()"
   ]
  },
  {
   "cell_type": "code",
   "execution_count": 31,
   "metadata": {
    "collapsed": true
   },
   "outputs": [],
   "source": [
    "df=pd.read_sql(\"select * from results_result\",conn)"
   ]
  },
  {
   "cell_type": "code",
   "execution_count": 32,
   "metadata": {
    "collapsed": false
   },
   "outputs": [
    {
     "data": {
      "text/plain": [
       "(304, 13)"
      ]
     },
     "execution_count": 32,
     "metadata": {},
     "output_type": "execute_result"
    }
   ],
   "source": [
    "df.shape"
   ]
  },
  {
   "cell_type": "code",
   "execution_count": 34,
   "metadata": {
    "collapsed": true
   },
   "outputs": [],
   "source": [
    "temp2.to_sql('results_result',conn, if_exists='append',index=False)"
   ]
  },
  {
   "cell_type": "code",
   "execution_count": null,
   "metadata": {
    "collapsed": true
   },
   "outputs": [],
   "source": []
  }
 ],
 "metadata": {
  "kernelspec": {
   "display_name": "Python 2",
   "language": "python",
   "name": "python2"
  },
  "language_info": {
   "codemirror_mode": {
    "name": "ipython",
    "version": 2
   },
   "file_extension": ".py",
   "mimetype": "text/x-python",
   "name": "python",
   "nbconvert_exporter": "python",
   "pygments_lexer": "ipython2",
   "version": "2.7.11"
  }
 },
 "nbformat": 4,
 "nbformat_minor": 0
}
