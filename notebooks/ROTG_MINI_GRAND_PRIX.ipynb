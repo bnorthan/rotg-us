{
 "cells": [
  {
   "cell_type": "code",
   "execution_count": 110,
   "metadata": {
    "collapsed": true
   },
   "outputs": [],
   "source": [
    "import pandas as pd\n",
    "import datetime"
   ]
  },
  {
   "cell_type": "code",
   "execution_count": 127,
   "metadata": {
    "collapsed": false
   },
   "outputs": [
    {
     "data": {
      "text/html": [
       "<div>\n",
       "<table border=\"1\" class=\"dataframe\">\n",
       "  <thead>\n",
       "    <tr style=\"text-align: right;\">\n",
       "      <th></th>\n",
       "      <th>Name</th>\n",
       "      <th>Age</th>\n",
       "      <th>S</th>\n",
       "      <th>Time</th>\n",
       "      <th>Agegrd%</th>\n",
       "    </tr>\n",
       "  </thead>\n",
       "  <tbody>\n",
       "    <tr>\n",
       "      <th>0</th>\n",
       "      <td>Derrick Staley</td>\n",
       "      <td>57</td>\n",
       "      <td>M</td>\n",
       "      <td>22:42</td>\n",
       "      <td>89.27</td>\n",
       "    </tr>\n",
       "    <tr>\n",
       "      <th>1</th>\n",
       "      <td>Bob Giambalvo</td>\n",
       "      <td>66</td>\n",
       "      <td>M</td>\n",
       "      <td>24:52</td>\n",
       "      <td>88.14</td>\n",
       "    </tr>\n",
       "    <tr>\n",
       "      <th>2</th>\n",
       "      <td>Beth Stalker</td>\n",
       "      <td>56</td>\n",
       "      <td>F</td>\n",
       "      <td>26:37</td>\n",
       "      <td>86.63</td>\n",
       "    </tr>\n",
       "    <tr>\n",
       "      <th>3</th>\n",
       "      <td>Emily Bryans</td>\n",
       "      <td>48</td>\n",
       "      <td>F</td>\n",
       "      <td>24:17</td>\n",
       "      <td>86.61</td>\n",
       "    </tr>\n",
       "    <tr>\n",
       "      <th>4</th>\n",
       "      <td>Renee Tolan</td>\n",
       "      <td>41</td>\n",
       "      <td>F</td>\n",
       "      <td>23:12</td>\n",
       "      <td>85.38</td>\n",
       "    </tr>\n",
       "  </tbody>\n",
       "</table>\n",
       "</div>"
      ],
      "text/plain": [
       "             Name  Age  S   Time  Agegrd%\n",
       "0  Derrick Staley   57  M  22:42    89.27\n",
       "1   Bob Giambalvo   66  M  24:52    88.14\n",
       "2    Beth Stalker   56  F  26:37    86.63\n",
       "3    Emily Bryans   48  F  24:17    86.61\n",
       "4     Renee Tolan   41  F  23:12    85.38"
      ]
     },
     "execution_count": 127,
     "metadata": {},
     "output_type": "execute_result"
    }
   ],
   "source": [
    "# import the results\n",
    "results=pd.read_fwf('../data/2017_agegraded.txt')\n",
    "results=results.drop(['Place','Div','City','St'],1)\n",
    "\n",
    "results.head()\n"
   ]
  },
  {
   "cell_type": "code",
   "execution_count": 128,
   "metadata": {
    "collapsed": true
   },
   "outputs": [],
   "source": [
    "def convert(s): \n",
    "    try:\n",
    "        time=datetime.datetime.strptime(s,'%M:%S')\n",
    "    except:\n",
    "        time=datetime.datetime.strptime(s,'%M:%S.%f')\n",
    "    return time"
   ]
  },
  {
   "cell_type": "code",
   "execution_count": 129,
   "metadata": {
    "collapsed": true
   },
   "outputs": [],
   "source": [
    "def agegrade(time, agegrade):\n",
    "    return datetime.timedelta(seconds=time.total_seconds()/(.01*agegrade))"
   ]
  },
  {
   "cell_type": "code",
   "execution_count": 130,
   "metadata": {
    "collapsed": false
   },
   "outputs": [
    {
     "name": "stdout",
     "output_type": "stream",
     "text": [
      "0:16:54\n",
      "0:01:41.400000\n",
      "<type 'int'>\n",
      "0:18:46.666667\n"
     ]
    }
   ],
   "source": [
    "basetime=convert('16:54')-datetime.datetime.strptime('00:00.0','%M:%S.%f')\n",
    "print basetime\n",
    "print basetime*100/1000\n",
    "print type(1000)\n",
    "print agegrade(basetime, 90)"
   ]
  },
  {
   "cell_type": "code",
   "execution_count": 131,
   "metadata": {
    "collapsed": false
   },
   "outputs": [
    {
     "data": {
      "text/html": [
       "<div>\n",
       "<table border=\"1\" class=\"dataframe\">\n",
       "  <thead>\n",
       "    <tr style=\"text-align: right;\">\n",
       "      <th></th>\n",
       "      <th>Name</th>\n",
       "      <th>Age</th>\n",
       "      <th>S</th>\n",
       "      <th>Time</th>\n",
       "      <th>Agegrd%</th>\n",
       "      <th>TimeAG</th>\n",
       "    </tr>\n",
       "  </thead>\n",
       "  <tbody>\n",
       "    <tr>\n",
       "      <th>0</th>\n",
       "      <td>Derrick Staley</td>\n",
       "      <td>57</td>\n",
       "      <td>M</td>\n",
       "      <td>00:22:42</td>\n",
       "      <td>89.27</td>\n",
       "      <td>00:18:55.879915</td>\n",
       "    </tr>\n",
       "    <tr>\n",
       "      <th>1</th>\n",
       "      <td>Bob Giambalvo</td>\n",
       "      <td>66</td>\n",
       "      <td>M</td>\n",
       "      <td>00:24:52</td>\n",
       "      <td>88.14</td>\n",
       "      <td>00:19:10.442478</td>\n",
       "    </tr>\n",
       "    <tr>\n",
       "      <th>2</th>\n",
       "      <td>Beth Stalker</td>\n",
       "      <td>56</td>\n",
       "      <td>F</td>\n",
       "      <td>00:26:37</td>\n",
       "      <td>86.63</td>\n",
       "      <td>00:19:30.495210</td>\n",
       "    </tr>\n",
       "    <tr>\n",
       "      <th>3</th>\n",
       "      <td>Emily Bryans</td>\n",
       "      <td>48</td>\n",
       "      <td>F</td>\n",
       "      <td>00:24:17</td>\n",
       "      <td>86.61</td>\n",
       "      <td>00:19:30.765501</td>\n",
       "    </tr>\n",
       "    <tr>\n",
       "      <th>4</th>\n",
       "      <td>Renee Tolan</td>\n",
       "      <td>41</td>\n",
       "      <td>F</td>\n",
       "      <td>00:23:12</td>\n",
       "      <td>85.38</td>\n",
       "      <td>00:19:47.631764</td>\n",
       "    </tr>\n",
       "    <tr>\n",
       "      <th>5</th>\n",
       "      <td>Julia Flower</td>\n",
       "      <td>17</td>\n",
       "      <td>F</td>\n",
       "      <td>00:23:04</td>\n",
       "      <td>85.06</td>\n",
       "      <td>00:19:52.099694</td>\n",
       "    </tr>\n",
       "    <tr>\n",
       "      <th>6</th>\n",
       "      <td>Eric Macknight</td>\n",
       "      <td>27</td>\n",
       "      <td>M</td>\n",
       "      <td>00:19:57</td>\n",
       "      <td>84.71</td>\n",
       "      <td>00:19:57.025145</td>\n",
       "    </tr>\n",
       "    <tr>\n",
       "      <th>7</th>\n",
       "      <td>Thomas Kracker</td>\n",
       "      <td>51</td>\n",
       "      <td>M</td>\n",
       "      <td>00:23:14</td>\n",
       "      <td>83.05</td>\n",
       "      <td>00:20:20.951234</td>\n",
       "    </tr>\n",
       "    <tr>\n",
       "      <th>8</th>\n",
       "      <td>Aaron Lozier</td>\n",
       "      <td>27</td>\n",
       "      <td>M</td>\n",
       "      <td>00:20:22</td>\n",
       "      <td>82.98</td>\n",
       "      <td>00:20:21.981200</td>\n",
       "    </tr>\n",
       "    <tr>\n",
       "      <th>9</th>\n",
       "      <td>John Stadtlander</td>\n",
       "      <td>50</td>\n",
       "      <td>M</td>\n",
       "      <td>00:23:06</td>\n",
       "      <td>82.86</td>\n",
       "      <td>00:20:23.750905</td>\n",
       "    </tr>\n",
       "  </tbody>\n",
       "</table>\n",
       "</div>"
      ],
      "text/plain": [
       "               Name  Age  S     Time  Agegrd%          TimeAG\n",
       "0    Derrick Staley   57  M 00:22:42    89.27 00:18:55.879915\n",
       "1     Bob Giambalvo   66  M 00:24:52    88.14 00:19:10.442478\n",
       "2      Beth Stalker   56  F 00:26:37    86.63 00:19:30.495210\n",
       "3      Emily Bryans   48  F 00:24:17    86.61 00:19:30.765501\n",
       "4       Renee Tolan   41  F 00:23:12    85.38 00:19:47.631764\n",
       "5      Julia Flower   17  F 00:23:04    85.06 00:19:52.099694\n",
       "6    Eric Macknight   27  M 00:19:57    84.71 00:19:57.025145\n",
       "7    Thomas Kracker   51  M 00:23:14    83.05 00:20:20.951234\n",
       "8      Aaron Lozier   27  M 00:20:22    82.98 00:20:21.981200\n",
       "9  John Stadtlander   50  M 00:23:06    82.86 00:20:23.750905"
      ]
     },
     "execution_count": 131,
     "metadata": {},
     "output_type": "execute_result"
    }
   ],
   "source": [
    "results.Time = results.Time.apply(lambda x: convert(x))\n",
    "# create time delta by subtracting a base time\n",
    "results.Time=results.Time - datetime.datetime.strptime('00:00.0','%M:%S.%f')\n",
    "results['TimeAG']=results['Agegrd%'].apply(lambda x:agegrade(basetime, x))\n",
    "#imedelta(seconds=multiplier * passed_time.total_seconds())\n",
    "results.iloc[0:10]"
   ]
  },
  {
   "cell_type": "code",
   "execution_count": 132,
   "metadata": {
    "collapsed": true
   },
   "outputs": [],
   "source": [
    "teams=[]\n",
    "# define the teams\n",
    "teams.append(['team_big', 'Eric Macknight', 'Mollie Turner', 'Bob Giambalvo', 'Volker Burkowski'])"
   ]
  },
  {
   "cell_type": "code",
   "execution_count": 139,
   "metadata": {
    "collapsed": false
   },
   "outputs": [
    {
     "name": "stdout",
     "output_type": "stream",
     "text": [
      "Empty DataFrame\n",
      "Columns: []\n",
      "Index: []\n",
      "   index              Name  Age  S     Time  Agegrd%          TimeAG  \\\n",
      "0      6    Eric Macknight   27  M 00:19:57    84.71 00:19:57.025145   \n",
      "1     29     Mollie Turner   36  F 00:24:55    77.61 00:21:46.532663   \n",
      "2      1     Bob Giambalvo   66  M 00:24:52    88.14 00:19:10.442478   \n",
      "3     14  Volker Burkowski   44  M 00:22:38    80.74 00:20:55.883081   \n",
      "\n",
      "       ScoredTime  \n",
      "0        00:19:57  \n",
      "1        00:24:55  \n",
      "2 00:19:10.442478  \n",
      "3 00:20:55.883081  \n",
      "0 days 01:24:58.325559\n"
     ]
    }
   ],
   "source": [
    "for team in teams:\n",
    "    team_df=pd.DataFrame()\n",
    "    print team_df\n",
    "    for i in range(4):\n",
    "        name=team[i+1]\n",
    "        team_df=team_df.append(results.loc[results['Name']==name])\n",
    "        \n",
    "    team_df=team_df.reset_index()\n",
    "   \n",
    "    team_df['ScoredTime']=pd.Series([team_df.Time.iloc[0],team_df.Time.iloc[1],team_df.TimeAG.iloc[2],team_df.TimeAG.iloc[3]])\n",
    "    print team_df\n",
    "    print team_df.ScoredTime.sum()\n",
    "    \n",
    "    "
   ]
  },
  {
   "cell_type": "code",
   "execution_count": null,
   "metadata": {
    "collapsed": true
   },
   "outputs": [],
   "source": []
  }
 ],
 "metadata": {
  "kernelspec": {
   "display_name": "Python 2",
   "language": "python",
   "name": "python2"
  },
  "language_info": {
   "codemirror_mode": {
    "name": "ipython",
    "version": 2
   },
   "file_extension": ".py",
   "mimetype": "text/x-python",
   "name": "python",
   "nbconvert_exporter": "python",
   "pygments_lexer": "ipython2",
   "version": "2.7.11"
  }
 },
 "nbformat": 4,
 "nbformat_minor": 0
}
