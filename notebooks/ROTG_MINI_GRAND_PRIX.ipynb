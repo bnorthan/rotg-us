{
 "cells": [
  {
   "cell_type": "code",
   "execution_count": 17,
   "metadata": {
    "collapsed": false
   },
   "outputs": [],
   "source": [
    "# import the libraries we will need\n",
    "\n",
    "import pandas as pd\n",
    "import datetime\n",
    "from IPython.display import display\n",
    "import numpy"
   ]
  },
  {
   "cell_type": "code",
   "execution_count": 2,
   "metadata": {
    "collapsed": false
   },
   "outputs": [
    {
     "data": {
      "text/html": [
       "<div>\n",
       "<table border=\"1\" class=\"dataframe\">\n",
       "  <thead>\n",
       "    <tr style=\"text-align: right;\">\n",
       "      <th></th>\n",
       "      <th>Name</th>\n",
       "      <th>Age</th>\n",
       "      <th>S</th>\n",
       "      <th>Time</th>\n",
       "      <th>Agegrd%</th>\n",
       "    </tr>\n",
       "  </thead>\n",
       "  <tbody>\n",
       "    <tr>\n",
       "      <th>0</th>\n",
       "      <td>Derrick Staley</td>\n",
       "      <td>57</td>\n",
       "      <td>M</td>\n",
       "      <td>22:42</td>\n",
       "      <td>89.27</td>\n",
       "    </tr>\n",
       "    <tr>\n",
       "      <th>1</th>\n",
       "      <td>Bob Giambalvo</td>\n",
       "      <td>66</td>\n",
       "      <td>M</td>\n",
       "      <td>24:52</td>\n",
       "      <td>88.14</td>\n",
       "    </tr>\n",
       "    <tr>\n",
       "      <th>2</th>\n",
       "      <td>Beth Stalker</td>\n",
       "      <td>56</td>\n",
       "      <td>F</td>\n",
       "      <td>26:37</td>\n",
       "      <td>86.63</td>\n",
       "    </tr>\n",
       "    <tr>\n",
       "      <th>3</th>\n",
       "      <td>Emily Bryans</td>\n",
       "      <td>48</td>\n",
       "      <td>F</td>\n",
       "      <td>24:17</td>\n",
       "      <td>86.61</td>\n",
       "    </tr>\n",
       "    <tr>\n",
       "      <th>4</th>\n",
       "      <td>Renee Tolan</td>\n",
       "      <td>41</td>\n",
       "      <td>F</td>\n",
       "      <td>23:12</td>\n",
       "      <td>85.38</td>\n",
       "    </tr>\n",
       "  </tbody>\n",
       "</table>\n",
       "</div>"
      ],
      "text/plain": [
       "             Name  Age  S   Time  Agegrd%\n",
       "0  Derrick Staley   57  M  22:42    89.27\n",
       "1   Bob Giambalvo   66  M  24:52    88.14\n",
       "2    Beth Stalker   56  F  26:37    86.63\n",
       "3    Emily Bryans   48  F  24:17    86.61\n",
       "4     Renee Tolan   41  F  23:12    85.38"
      ]
     },
     "execution_count": 2,
     "metadata": {},
     "output_type": "execute_result"
    }
   ],
   "source": [
    "# import the agegraded results\n",
    "results=pd.read_fwf('../data/2017_agegraded.txt')\n",
    "results=results.drop(['Place','Div','City','St'],1)\n",
    "\n",
    "results.head()"
   ]
  },
  {
   "cell_type": "code",
   "execution_count": 3,
   "metadata": {
    "collapsed": true
   },
   "outputs": [],
   "source": [
    "# define a function that converts a string to a time delta\n",
    "def convert(timeString): \n",
    "    try:\n",
    "        time=datetime.datetime.strptime(timeString,'%M:%S')\n",
    "    except:\n",
    "        time=datetime.datetime.strptime(timeString,'%M:%S.%f')\n",
    "        \n",
    "    # subtract the python based time to make it a time delta and return\n",
    "    return time-datetime.datetime.strptime('00:00.0','%M:%S.%f')"
   ]
  },
  {
   "cell_type": "code",
   "execution_count": 4,
   "metadata": {
    "collapsed": true
   },
   "outputs": [],
   "source": [
    "def roundtime(t):\n",
    "    mil=datetime.timedelta(microseconds=t.microseconds)\n",
    "    roundmil=1000000*round(t.microseconds/1000000.)\n",
    "    return t-mil+datetime.timedelta(microseconds=roundmil)"
   ]
  },
  {
   "cell_type": "code",
   "execution_count": 5,
   "metadata": {
    "collapsed": true
   },
   "outputs": [],
   "source": [
    "def agegrade(time, agegrade):\n",
    "    return datetime.timedelta(seconds=time.total_seconds()/(.01*agegrade))"
   ]
  },
  {
   "cell_type": "code",
   "execution_count": 6,
   "metadata": {
    "collapsed": false
   },
   "outputs": [
    {
     "name": "stdout",
     "output_type": "stream",
     "text": [
      "<type 'datetime.timedelta'>\n",
      "0:16:54\n",
      "0:01:41.400000\n",
      "<type 'int'>\n",
      "<type 'datetime.timedelta'>\n",
      "0:20:21.981200\n",
      "0:20:21\n",
      "0:20:22\n"
     ]
    }
   ],
   "source": [
    "basetime=convert('16:54')\n",
    "print type(basetime)\n",
    "print basetime\n",
    "print basetime*100/1000\n",
    "print type(1000)\n",
    "agetime= agegrade(basetime, 82.98)\n",
    "print type(agetime)\n",
    "print agetime\n",
    "print agetime-datetime.timedelta(microseconds=agetime.microseconds)\n",
    "print roundtime(agetime)\n"
   ]
  },
  {
   "cell_type": "code",
   "execution_count": 7,
   "metadata": {
    "collapsed": false
   },
   "outputs": [
    {
     "data": {
      "text/html": [
       "<div>\n",
       "<table border=\"1\" class=\"dataframe\">\n",
       "  <thead>\n",
       "    <tr style=\"text-align: right;\">\n",
       "      <th></th>\n",
       "      <th>Name</th>\n",
       "      <th>Age</th>\n",
       "      <th>S</th>\n",
       "      <th>Time</th>\n",
       "      <th>Agegrd%</th>\n",
       "      <th>TimeAG</th>\n",
       "    </tr>\n",
       "  </thead>\n",
       "  <tbody>\n",
       "    <tr>\n",
       "      <th>0</th>\n",
       "      <td>Derrick Staley</td>\n",
       "      <td>57</td>\n",
       "      <td>M</td>\n",
       "      <td>00:22:42</td>\n",
       "      <td>89.27</td>\n",
       "      <td>00:18:56</td>\n",
       "    </tr>\n",
       "    <tr>\n",
       "      <th>1</th>\n",
       "      <td>Bob Giambalvo</td>\n",
       "      <td>66</td>\n",
       "      <td>M</td>\n",
       "      <td>00:24:52</td>\n",
       "      <td>88.14</td>\n",
       "      <td>00:19:10</td>\n",
       "    </tr>\n",
       "    <tr>\n",
       "      <th>2</th>\n",
       "      <td>Beth Stalker</td>\n",
       "      <td>56</td>\n",
       "      <td>F</td>\n",
       "      <td>00:26:37</td>\n",
       "      <td>86.63</td>\n",
       "      <td>00:19:30</td>\n",
       "    </tr>\n",
       "    <tr>\n",
       "      <th>3</th>\n",
       "      <td>Emily Bryans</td>\n",
       "      <td>48</td>\n",
       "      <td>F</td>\n",
       "      <td>00:24:17</td>\n",
       "      <td>86.61</td>\n",
       "      <td>00:19:31</td>\n",
       "    </tr>\n",
       "    <tr>\n",
       "      <th>4</th>\n",
       "      <td>Renee Tolan</td>\n",
       "      <td>41</td>\n",
       "      <td>F</td>\n",
       "      <td>00:23:12</td>\n",
       "      <td>85.38</td>\n",
       "      <td>00:19:48</td>\n",
       "    </tr>\n",
       "    <tr>\n",
       "      <th>5</th>\n",
       "      <td>Julia Flower</td>\n",
       "      <td>17</td>\n",
       "      <td>F</td>\n",
       "      <td>00:23:04</td>\n",
       "      <td>85.06</td>\n",
       "      <td>00:19:52</td>\n",
       "    </tr>\n",
       "    <tr>\n",
       "      <th>6</th>\n",
       "      <td>Eric Macknight</td>\n",
       "      <td>27</td>\n",
       "      <td>M</td>\n",
       "      <td>00:19:57</td>\n",
       "      <td>84.71</td>\n",
       "      <td>00:19:57</td>\n",
       "    </tr>\n",
       "    <tr>\n",
       "      <th>7</th>\n",
       "      <td>Thomas Kracker</td>\n",
       "      <td>51</td>\n",
       "      <td>M</td>\n",
       "      <td>00:23:14</td>\n",
       "      <td>83.05</td>\n",
       "      <td>00:20:21</td>\n",
       "    </tr>\n",
       "    <tr>\n",
       "      <th>8</th>\n",
       "      <td>Aaron Lozier</td>\n",
       "      <td>27</td>\n",
       "      <td>M</td>\n",
       "      <td>00:20:22</td>\n",
       "      <td>82.98</td>\n",
       "      <td>00:20:22</td>\n",
       "    </tr>\n",
       "    <tr>\n",
       "      <th>9</th>\n",
       "      <td>John Stadtlander</td>\n",
       "      <td>50</td>\n",
       "      <td>M</td>\n",
       "      <td>00:23:06</td>\n",
       "      <td>82.86</td>\n",
       "      <td>00:20:24</td>\n",
       "    </tr>\n",
       "    <tr>\n",
       "      <th>10</th>\n",
       "      <td>Lee Pollock</td>\n",
       "      <td>63</td>\n",
       "      <td>M</td>\n",
       "      <td>00:25:47</td>\n",
       "      <td>82.75</td>\n",
       "      <td>00:20:25</td>\n",
       "    </tr>\n",
       "    <tr>\n",
       "      <th>11</th>\n",
       "      <td>John Noonan</td>\n",
       "      <td>56</td>\n",
       "      <td>M</td>\n",
       "      <td>00:24:36</td>\n",
       "      <td>81.69</td>\n",
       "      <td>00:20:41</td>\n",
       "    </tr>\n",
       "    <tr>\n",
       "      <th>12</th>\n",
       "      <td>Alex Benway</td>\n",
       "      <td>25</td>\n",
       "      <td>M</td>\n",
       "      <td>00:20:52</td>\n",
       "      <td>80.99</td>\n",
       "      <td>00:20:52</td>\n",
       "    </tr>\n",
       "    <tr>\n",
       "      <th>13</th>\n",
       "      <td>Erin Corcoran</td>\n",
       "      <td>41</td>\n",
       "      <td>F</td>\n",
       "      <td>00:24:30</td>\n",
       "      <td>80.85</td>\n",
       "      <td>00:20:54</td>\n",
       "    </tr>\n",
       "    <tr>\n",
       "      <th>14</th>\n",
       "      <td>Volker Burkowski</td>\n",
       "      <td>44</td>\n",
       "      <td>M</td>\n",
       "      <td>00:22:38</td>\n",
       "      <td>80.74</td>\n",
       "      <td>00:20:56</td>\n",
       "    </tr>\n",
       "    <tr>\n",
       "      <th>15</th>\n",
       "      <td>Shaun Donegan</td>\n",
       "      <td>30</td>\n",
       "      <td>M</td>\n",
       "      <td>00:20:58</td>\n",
       "      <td>80.71</td>\n",
       "      <td>00:20:56</td>\n",
       "    </tr>\n",
       "    <tr>\n",
       "      <th>16</th>\n",
       "      <td>Mark Stephenson</td>\n",
       "      <td>52</td>\n",
       "      <td>M</td>\n",
       "      <td>00:24:09</td>\n",
       "      <td>80.54</td>\n",
       "      <td>00:20:59</td>\n",
       "    </tr>\n",
       "    <tr>\n",
       "      <th>17</th>\n",
       "      <td>Kim Law</td>\n",
       "      <td>58</td>\n",
       "      <td>F</td>\n",
       "      <td>00:29:23</td>\n",
       "      <td>80.41</td>\n",
       "      <td>00:21:01</td>\n",
       "    </tr>\n",
       "    <tr>\n",
       "      <th>18</th>\n",
       "      <td>David Roy</td>\n",
       "      <td>61</td>\n",
       "      <td>M</td>\n",
       "      <td>00:26:12</td>\n",
       "      <td>80.03</td>\n",
       "      <td>00:21:07</td>\n",
       "    </tr>\n",
       "    <tr>\n",
       "      <th>19</th>\n",
       "      <td>Chuck Terry</td>\n",
       "      <td>33</td>\n",
       "      <td>M</td>\n",
       "      <td>00:21:21</td>\n",
       "      <td>79.81</td>\n",
       "      <td>00:21:11</td>\n",
       "    </tr>\n",
       "    <tr>\n",
       "      <th>20</th>\n",
       "      <td>Macky Lloyd</td>\n",
       "      <td>25</td>\n",
       "      <td>M</td>\n",
       "      <td>00:21:13</td>\n",
       "      <td>79.65</td>\n",
       "      <td>00:21:13</td>\n",
       "    </tr>\n",
       "    <tr>\n",
       "      <th>21</th>\n",
       "      <td>Nancy Taormina</td>\n",
       "      <td>56</td>\n",
       "      <td>F</td>\n",
       "      <td>00:28:58</td>\n",
       "      <td>79.60</td>\n",
       "      <td>00:21:14</td>\n",
       "    </tr>\n",
       "    <tr>\n",
       "      <th>22</th>\n",
       "      <td>Jon Rocco</td>\n",
       "      <td>49</td>\n",
       "      <td>M</td>\n",
       "      <td>00:23:53</td>\n",
       "      <td>79.52</td>\n",
       "      <td>00:21:15</td>\n",
       "    </tr>\n",
       "    <tr>\n",
       "      <th>23</th>\n",
       "      <td>Colleen Brackett</td>\n",
       "      <td>56</td>\n",
       "      <td>F</td>\n",
       "      <td>00:29:05</td>\n",
       "      <td>79.28</td>\n",
       "      <td>00:21:19</td>\n",
       "    </tr>\n",
       "    <tr>\n",
       "      <th>24</th>\n",
       "      <td>Dave Glass</td>\n",
       "      <td>69</td>\n",
       "      <td>M</td>\n",
       "      <td>00:28:47</td>\n",
       "      <td>78.34</td>\n",
       "      <td>00:21:34</td>\n",
       "    </tr>\n",
       "    <tr>\n",
       "      <th>25</th>\n",
       "      <td>Ray Webster</td>\n",
       "      <td>41</td>\n",
       "      <td>M</td>\n",
       "      <td>00:22:49</td>\n",
       "      <td>78.32</td>\n",
       "      <td>00:21:35</td>\n",
       "    </tr>\n",
       "    <tr>\n",
       "      <th>26</th>\n",
       "      <td>Robert Irwin</td>\n",
       "      <td>43</td>\n",
       "      <td>M</td>\n",
       "      <td>00:23:12</td>\n",
       "      <td>78.18</td>\n",
       "      <td>00:21:37</td>\n",
       "    </tr>\n",
       "    <tr>\n",
       "      <th>27</th>\n",
       "      <td>Pat Carroll</td>\n",
       "      <td>24</td>\n",
       "      <td>M</td>\n",
       "      <td>00:21:38</td>\n",
       "      <td>78.12</td>\n",
       "      <td>00:21:38</td>\n",
       "    </tr>\n",
       "    <tr>\n",
       "      <th>28</th>\n",
       "      <td>Martha C. Degrazia</td>\n",
       "      <td>65</td>\n",
       "      <td>F</td>\n",
       "      <td>00:33:14</td>\n",
       "      <td>77.81</td>\n",
       "      <td>00:21:43</td>\n",
       "    </tr>\n",
       "    <tr>\n",
       "      <th>29</th>\n",
       "      <td>Mollie Turner</td>\n",
       "      <td>36</td>\n",
       "      <td>F</td>\n",
       "      <td>00:24:55</td>\n",
       "      <td>77.61</td>\n",
       "      <td>00:21:47</td>\n",
       "    </tr>\n",
       "  </tbody>\n",
       "</table>\n",
       "</div>"
      ],
      "text/plain": [
       "                  Name  Age  S     Time  Agegrd%   TimeAG\n",
       "0       Derrick Staley   57  M 00:22:42    89.27 00:18:56\n",
       "1        Bob Giambalvo   66  M 00:24:52    88.14 00:19:10\n",
       "2         Beth Stalker   56  F 00:26:37    86.63 00:19:30\n",
       "3         Emily Bryans   48  F 00:24:17    86.61 00:19:31\n",
       "4          Renee Tolan   41  F 00:23:12    85.38 00:19:48\n",
       "5         Julia Flower   17  F 00:23:04    85.06 00:19:52\n",
       "6       Eric Macknight   27  M 00:19:57    84.71 00:19:57\n",
       "7       Thomas Kracker   51  M 00:23:14    83.05 00:20:21\n",
       "8         Aaron Lozier   27  M 00:20:22    82.98 00:20:22\n",
       "9     John Stadtlander   50  M 00:23:06    82.86 00:20:24\n",
       "10         Lee Pollock   63  M 00:25:47    82.75 00:20:25\n",
       "11         John Noonan   56  M 00:24:36    81.69 00:20:41\n",
       "12         Alex Benway   25  M 00:20:52    80.99 00:20:52\n",
       "13       Erin Corcoran   41  F 00:24:30    80.85 00:20:54\n",
       "14    Volker Burkowski   44  M 00:22:38    80.74 00:20:56\n",
       "15       Shaun Donegan   30  M 00:20:58    80.71 00:20:56\n",
       "16     Mark Stephenson   52  M 00:24:09    80.54 00:20:59\n",
       "17             Kim Law   58  F 00:29:23    80.41 00:21:01\n",
       "18           David Roy   61  M 00:26:12    80.03 00:21:07\n",
       "19         Chuck Terry   33  M 00:21:21    79.81 00:21:11\n",
       "20         Macky Lloyd   25  M 00:21:13    79.65 00:21:13\n",
       "21      Nancy Taormina   56  F 00:28:58    79.60 00:21:14\n",
       "22           Jon Rocco   49  M 00:23:53    79.52 00:21:15\n",
       "23    Colleen Brackett   56  F 00:29:05    79.28 00:21:19\n",
       "24          Dave Glass   69  M 00:28:47    78.34 00:21:34\n",
       "25         Ray Webster   41  M 00:22:49    78.32 00:21:35\n",
       "26        Robert Irwin   43  M 00:23:12    78.18 00:21:37\n",
       "27         Pat Carroll   24  M 00:21:38    78.12 00:21:38\n",
       "28  Martha C. Degrazia   65  F 00:33:14    77.81 00:21:43\n",
       "29       Mollie Turner   36  F 00:24:55    77.61 00:21:47"
      ]
     },
     "execution_count": 7,
     "metadata": {},
     "output_type": "execute_result"
    }
   ],
   "source": [
    "results.Time = results.Time.apply(lambda x: convert(x))\n",
    "# create time delta by subtracting a base time\n",
    "results['TimeAG']=results['Agegrd%'].apply(lambda x:agegrade(basetime, x))\n",
    "results['TimeAG']=results['TimeAG'].apply(lambda x:roundtime(x))\n",
    "\n",
    "#imedelta(seconds=multiplier * passed_time.total_seconds())\n",
    "results.iloc[0:30]"
   ]
  },
  {
   "cell_type": "code",
   "execution_count": 8,
   "metadata": {
    "collapsed": false
   },
   "outputs": [
    {
     "data": {
      "text/html": [
       "<div>\n",
       "<table border=\"1\" class=\"dataframe\">\n",
       "  <thead>\n",
       "    <tr style=\"text-align: right;\">\n",
       "      <th></th>\n",
       "      <th>Name</th>\n",
       "      <th>Age</th>\n",
       "      <th>S</th>\n",
       "      <th>Time</th>\n",
       "      <th>Agegrd%</th>\n",
       "      <th>TimeAG</th>\n",
       "    </tr>\n",
       "  </thead>\n",
       "  <tbody>\n",
       "    <tr>\n",
       "      <th>90</th>\n",
       "      <td>Anny Stockman</td>\n",
       "      <td>83</td>\n",
       "      <td>F</td>\n",
       "      <td>00:54:24</td>\n",
       "      <td>63.97</td>\n",
       "      <td>00:26:25</td>\n",
       "    </tr>\n",
       "    <tr>\n",
       "      <th>91</th>\n",
       "      <td>Jay Quinn</td>\n",
       "      <td>51</td>\n",
       "      <td>M</td>\n",
       "      <td>00:30:17</td>\n",
       "      <td>63.71</td>\n",
       "      <td>00:26:32</td>\n",
       "    </tr>\n",
       "    <tr>\n",
       "      <th>92</th>\n",
       "      <td>Kirsten Leblanc</td>\n",
       "      <td>52</td>\n",
       "      <td>F</td>\n",
       "      <td>00:34:33</td>\n",
       "      <td>63.67</td>\n",
       "      <td>00:26:33</td>\n",
       "    </tr>\n",
       "    <tr>\n",
       "      <th>93</th>\n",
       "      <td>Frederick Kopff</td>\n",
       "      <td>47</td>\n",
       "      <td>M</td>\n",
       "      <td>00:29:40</td>\n",
       "      <td>63.03</td>\n",
       "      <td>00:26:49</td>\n",
       "    </tr>\n",
       "    <tr>\n",
       "      <th>94</th>\n",
       "      <td>Hilary Claggett</td>\n",
       "      <td>51</td>\n",
       "      <td>F</td>\n",
       "      <td>00:34:31</td>\n",
       "      <td>63.01</td>\n",
       "      <td>00:26:49</td>\n",
       "    </tr>\n",
       "    <tr>\n",
       "      <th>95</th>\n",
       "      <td>Paul Cirillo</td>\n",
       "      <td>40</td>\n",
       "      <td>M</td>\n",
       "      <td>00:28:14</td>\n",
       "      <td>62.83</td>\n",
       "      <td>00:26:54</td>\n",
       "    </tr>\n",
       "    <tr>\n",
       "      <th>96</th>\n",
       "      <td>Tom Law</td>\n",
       "      <td>44</td>\n",
       "      <td>M</td>\n",
       "      <td>00:29:11</td>\n",
       "      <td>62.62</td>\n",
       "      <td>00:26:59</td>\n",
       "    </tr>\n",
       "    <tr>\n",
       "      <th>97</th>\n",
       "      <td>Stephen Montanaro</td>\n",
       "      <td>50</td>\n",
       "      <td>M</td>\n",
       "      <td>00:30:58</td>\n",
       "      <td>61.81</td>\n",
       "      <td>00:27:21</td>\n",
       "    </tr>\n",
       "    <tr>\n",
       "      <th>98</th>\n",
       "      <td>Joseph Richardson</td>\n",
       "      <td>76</td>\n",
       "      <td>M</td>\n",
       "      <td>00:40:19</td>\n",
       "      <td>61.81</td>\n",
       "      <td>00:27:21</td>\n",
       "    </tr>\n",
       "    <tr>\n",
       "      <th>99</th>\n",
       "      <td>Chester Tumidajewi</td>\n",
       "      <td>61</td>\n",
       "      <td>M</td>\n",
       "      <td>00:34:00</td>\n",
       "      <td>61.67</td>\n",
       "      <td>00:27:24</td>\n",
       "    </tr>\n",
       "    <tr>\n",
       "      <th>100</th>\n",
       "      <td>Cathy Soloyna</td>\n",
       "      <td>62</td>\n",
       "      <td>F</td>\n",
       "      <td>00:40:21</td>\n",
       "      <td>61.60</td>\n",
       "      <td>00:27:26</td>\n",
       "    </tr>\n",
       "    <tr>\n",
       "      <th>101</th>\n",
       "      <td>Meaghan Podlaski</td>\n",
       "      <td>18</td>\n",
       "      <td>F</td>\n",
       "      <td>00:31:47</td>\n",
       "      <td>60.90</td>\n",
       "      <td>00:27:45</td>\n",
       "    </tr>\n",
       "    <tr>\n",
       "      <th>102</th>\n",
       "      <td>Anthony Lupo</td>\n",
       "      <td>53</td>\n",
       "      <td>M</td>\n",
       "      <td>00:32:32</td>\n",
       "      <td>60.27</td>\n",
       "      <td>00:28:02</td>\n",
       "    </tr>\n",
       "    <tr>\n",
       "      <th>103</th>\n",
       "      <td>Perry Gava</td>\n",
       "      <td>57</td>\n",
       "      <td>M</td>\n",
       "      <td>00:34:04</td>\n",
       "      <td>59.48</td>\n",
       "      <td>00:28:25</td>\n",
       "    </tr>\n",
       "    <tr>\n",
       "      <th>104</th>\n",
       "      <td>Eiko Bogue</td>\n",
       "      <td>78</td>\n",
       "      <td>F</td>\n",
       "      <td>00:53:51</td>\n",
       "      <td>58.24</td>\n",
       "      <td>00:29:01</td>\n",
       "    </tr>\n",
       "    <tr>\n",
       "      <th>105</th>\n",
       "      <td>Tim Leonard</td>\n",
       "      <td>67</td>\n",
       "      <td>M</td>\n",
       "      <td>00:38:07</td>\n",
       "      <td>58.03</td>\n",
       "      <td>00:29:07</td>\n",
       "    </tr>\n",
       "    <tr>\n",
       "      <th>106</th>\n",
       "      <td>Diane Thompson</td>\n",
       "      <td>61</td>\n",
       "      <td>F</td>\n",
       "      <td>00:42:41</td>\n",
       "      <td>57.48</td>\n",
       "      <td>00:29:24</td>\n",
       "    </tr>\n",
       "    <tr>\n",
       "      <th>107</th>\n",
       "      <td>Sharon Strodl</td>\n",
       "      <td>41</td>\n",
       "      <td>F</td>\n",
       "      <td>00:35:46</td>\n",
       "      <td>55.38</td>\n",
       "      <td>00:30:31</td>\n",
       "    </tr>\n",
       "    <tr>\n",
       "      <th>108</th>\n",
       "      <td>Anne Miralles</td>\n",
       "      <td>48</td>\n",
       "      <td>F</td>\n",
       "      <td>00:38:17</td>\n",
       "      <td>54.94</td>\n",
       "      <td>00:30:46</td>\n",
       "    </tr>\n",
       "    <tr>\n",
       "      <th>109</th>\n",
       "      <td>Nina Lynch</td>\n",
       "      <td>35</td>\n",
       "      <td>F</td>\n",
       "      <td>00:36:25</td>\n",
       "      <td>52.94</td>\n",
       "      <td>00:31:55</td>\n",
       "    </tr>\n",
       "  </tbody>\n",
       "</table>\n",
       "</div>"
      ],
      "text/plain": [
       "                   Name  Age  S     Time  Agegrd%   TimeAG\n",
       "90        Anny Stockman   83  F 00:54:24    63.97 00:26:25\n",
       "91            Jay Quinn   51  M 00:30:17    63.71 00:26:32\n",
       "92      Kirsten Leblanc   52  F 00:34:33    63.67 00:26:33\n",
       "93      Frederick Kopff   47  M 00:29:40    63.03 00:26:49\n",
       "94      Hilary Claggett   51  F 00:34:31    63.01 00:26:49\n",
       "95         Paul Cirillo   40  M 00:28:14    62.83 00:26:54\n",
       "96              Tom Law   44  M 00:29:11    62.62 00:26:59\n",
       "97    Stephen Montanaro   50  M 00:30:58    61.81 00:27:21\n",
       "98    Joseph Richardson   76  M 00:40:19    61.81 00:27:21\n",
       "99   Chester Tumidajewi   61  M 00:34:00    61.67 00:27:24\n",
       "100       Cathy Soloyna   62  F 00:40:21    61.60 00:27:26\n",
       "101    Meaghan Podlaski   18  F 00:31:47    60.90 00:27:45\n",
       "102        Anthony Lupo   53  M 00:32:32    60.27 00:28:02\n",
       "103          Perry Gava   57  M 00:34:04    59.48 00:28:25\n",
       "104          Eiko Bogue   78  F 00:53:51    58.24 00:29:01\n",
       "105         Tim Leonard   67  M 00:38:07    58.03 00:29:07\n",
       "106      Diane Thompson   61  F 00:42:41    57.48 00:29:24\n",
       "107       Sharon Strodl   41  F 00:35:46    55.38 00:30:31\n",
       "108       Anne Miralles   48  F 00:38:17    54.94 00:30:46\n",
       "109          Nina Lynch   35  F 00:36:25    52.94 00:31:55"
      ]
     },
     "execution_count": 8,
     "metadata": {},
     "output_type": "execute_result"
    }
   ],
   "source": [
    "results.iloc[90:110]"
   ]
  },
  {
   "cell_type": "code",
   "execution_count": 9,
   "metadata": {
    "collapsed": false
   },
   "outputs": [
    {
     "data": {
      "text/html": [
       "<div>\n",
       "<table border=\"1\" class=\"dataframe\">\n",
       "  <thead>\n",
       "    <tr style=\"text-align: right;\">\n",
       "      <th></th>\n",
       "      <th>Team Name</th>\n",
       "      <th>Open Male</th>\n",
       "      <th>Open Female</th>\n",
       "      <th>Agegraded1</th>\n",
       "      <th>Agegraded2</th>\n",
       "      <th>Extra 1</th>\n",
       "      <th>Extra 2</th>\n",
       "    </tr>\n",
       "  </thead>\n",
       "  <tbody>\n",
       "    <tr>\n",
       "      <th>0</th>\n",
       "      <td>team_one</td>\n",
       "      <td>Eric Mcknight</td>\n",
       "      <td>Mollie Turner</td>\n",
       "      <td>Bob Giambalvo</td>\n",
       "      <td>Volker Burkowski</td>\n",
       "      <td>NaN</td>\n",
       "      <td>NaN</td>\n",
       "    </tr>\n",
       "    <tr>\n",
       "      <th>1</th>\n",
       "      <td>team_two</td>\n",
       "      <td>Aaron Lozier</td>\n",
       "      <td>Julia Flower</td>\n",
       "      <td>John Stadtlander</td>\n",
       "      <td>Lee Pollock</td>\n",
       "      <td>NaN</td>\n",
       "      <td>NaN</td>\n",
       "    </tr>\n",
       "    <tr>\n",
       "      <th>2</th>\n",
       "      <td>team_three</td>\n",
       "      <td>Shaun Donegan</td>\n",
       "      <td>Erin Corcoran</td>\n",
       "      <td>Kim Law</td>\n",
       "      <td>Beth Stalker</td>\n",
       "      <td>NaN</td>\n",
       "      <td>NaN</td>\n",
       "    </tr>\n",
       "    <tr>\n",
       "      <th>3</th>\n",
       "      <td>team_four</td>\n",
       "      <td>Tom Law</td>\n",
       "      <td>Eiko Bogue</td>\n",
       "      <td>Chester Tumidajewi</td>\n",
       "      <td>Anny Stockman</td>\n",
       "      <td>NaN</td>\n",
       "      <td>NaN</td>\n",
       "    </tr>\n",
       "  </tbody>\n",
       "</table>\n",
       "</div>"
      ],
      "text/plain": [
       "    Team Name      Open Male    Open Female          Agegraded1  \\\n",
       "0    team_one  Eric Mcknight  Mollie Turner       Bob Giambalvo   \n",
       "1    team_two   Aaron Lozier   Julia Flower    John Stadtlander   \n",
       "2  team_three  Shaun Donegan  Erin Corcoran             Kim Law   \n",
       "3   team_four        Tom Law     Eiko Bogue  Chester Tumidajewi   \n",
       "\n",
       "         Agegraded2  Extra 1  Extra 2  \n",
       "0  Volker Burkowski      NaN      NaN  \n",
       "1       Lee Pollock      NaN      NaN  \n",
       "2      Beth Stalker      NaN      NaN  \n",
       "3     Anny Stockman      NaN      NaN  "
      ]
     },
     "metadata": {},
     "output_type": "display_data"
    },
    {
     "name": "stdout",
     "output_type": "stream",
     "text": [
      "John Stadtlander\n"
     ]
    }
   ],
   "source": [
    "teams=pd.read_csv('faketeams.csv')\n",
    "\n",
    "display(teams.head())\n",
    "print teams.iloc[1,3]\n",
    "# define the teams\n",
    "#teams.append(['team_one', 'Eric Macknight', 'Mollie Turner', 'Bob Giambalvo', 'Volker Burkowski'])\n",
    "#teams.append(['team_two', 'Aaron Lozier', 'Julia Flower', 'John Stadtlander', 'Lee Pollock'])\n",
    "#teams.append(['team_clue', 'Shaun Donegan', 'Erin Corcoran', 'Kim Law', 'Beth Stalker'])\n",
    "#teams.append(['team_four', 'Tom Law', 'Eiko Bogue', 'Chester Tumidajewi', 'Anny Stockman'])"
   ]
  },
  {
   "cell_type": "code",
   "execution_count": 47,
   "metadata": {
    "collapsed": false
   },
   "outputs": [
    {
     "data": {
      "text/html": [
       "<div>\n",
       "<table border=\"1\" class=\"dataframe\">\n",
       "  <thead>\n",
       "    <tr style=\"text-align: right;\">\n",
       "      <th></th>\n",
       "      <th>Name</th>\n",
       "      <th>Age</th>\n",
       "      <th>S</th>\n",
       "      <th>Time</th>\n",
       "      <th>Agegrd%</th>\n",
       "      <th>TimeAG</th>\n",
       "    </tr>\n",
       "  </thead>\n",
       "  <tbody>\n",
       "    <tr>\n",
       "      <th>0</th>\n",
       "      <td>Derrick Staley</td>\n",
       "      <td>57</td>\n",
       "      <td>M</td>\n",
       "      <td>00:22:42</td>\n",
       "      <td>89.27</td>\n",
       "      <td>00:18:56</td>\n",
       "    </tr>\n",
       "    <tr>\n",
       "      <th>1</th>\n",
       "      <td>Bob Giambalvo</td>\n",
       "      <td>66</td>\n",
       "      <td>M</td>\n",
       "      <td>00:24:52</td>\n",
       "      <td>88.14</td>\n",
       "      <td>00:19:10</td>\n",
       "    </tr>\n",
       "    <tr>\n",
       "      <th>2</th>\n",
       "      <td>Beth Stalker</td>\n",
       "      <td>56</td>\n",
       "      <td>F</td>\n",
       "      <td>00:26:37</td>\n",
       "      <td>86.63</td>\n",
       "      <td>00:19:30</td>\n",
       "    </tr>\n",
       "    <tr>\n",
       "      <th>3</th>\n",
       "      <td>Emily Bryans</td>\n",
       "      <td>48</td>\n",
       "      <td>F</td>\n",
       "      <td>00:24:17</td>\n",
       "      <td>86.61</td>\n",
       "      <td>00:19:31</td>\n",
       "    </tr>\n",
       "    <tr>\n",
       "      <th>4</th>\n",
       "      <td>Renee Tolan</td>\n",
       "      <td>41</td>\n",
       "      <td>F</td>\n",
       "      <td>00:23:12</td>\n",
       "      <td>85.38</td>\n",
       "      <td>00:19:48</td>\n",
       "    </tr>\n",
       "  </tbody>\n",
       "</table>\n",
       "</div>"
      ],
      "text/plain": [
       "             Name  Age  S     Time  Agegrd%   TimeAG\n",
       "0  Derrick Staley   57  M 00:22:42    89.27 00:18:56\n",
       "1   Bob Giambalvo   66  M 00:24:52    88.14 00:19:10\n",
       "2    Beth Stalker   56  F 00:26:37    86.63 00:19:30\n",
       "3    Emily Bryans   48  F 00:24:17    86.61 00:19:31\n",
       "4     Renee Tolan   41  F 00:23:12    85.38 00:19:48"
      ]
     },
     "metadata": {},
     "output_type": "display_data"
    },
    {
     "name": "stdout",
     "output_type": "stream",
     "text": [
      "False\n",
      "True\n"
     ]
    },
    {
     "data": {
      "text/plain": [
       "True"
      ]
     },
     "execution_count": 47,
     "metadata": {},
     "output_type": "execute_result"
    }
   ],
   "source": [
    "display(results.head())\n",
    "\n",
    "print 'Beth Staflker' in results.Name.tolist()\n",
    "print results.Name.iloc[2]=='Beth Stalker'\n",
    "7 in [1,2,3,7]"
   ]
  },
  {
   "cell_type": "code",
   "execution_count": 53,
   "metadata": {
    "collapsed": false
   },
   "outputs": [
    {
     "name": "stdout",
     "output_type": "stream",
     "text": [
      "Problem!!!!!\n"
     ]
    },
    {
     "data": {
      "text/html": [
       "<div>\n",
       "<table border=\"1\" class=\"dataframe\">\n",
       "  <thead>\n",
       "    <tr style=\"text-align: right;\">\n",
       "      <th></th>\n",
       "      <th>Name</th>\n",
       "      <th>Age</th>\n",
       "      <th>S</th>\n",
       "      <th>Time</th>\n",
       "      <th>Agegrd%</th>\n",
       "      <th>TimeAG</th>\n",
       "    </tr>\n",
       "  </thead>\n",
       "  <tbody>\n",
       "    <tr>\n",
       "      <th>0</th>\n",
       "      <td>Mollie Turner</td>\n",
       "      <td>36</td>\n",
       "      <td>F</td>\n",
       "      <td>00:24:55</td>\n",
       "      <td>77.61</td>\n",
       "      <td>00:21:47</td>\n",
       "    </tr>\n",
       "    <tr>\n",
       "      <th>1</th>\n",
       "      <td>Bob Giambalvo</td>\n",
       "      <td>66</td>\n",
       "      <td>M</td>\n",
       "      <td>00:24:52</td>\n",
       "      <td>88.14</td>\n",
       "      <td>00:19:10</td>\n",
       "    </tr>\n",
       "    <tr>\n",
       "      <th>2</th>\n",
       "      <td>Volker Burkowski</td>\n",
       "      <td>44</td>\n",
       "      <td>M</td>\n",
       "      <td>00:22:38</td>\n",
       "      <td>80.74</td>\n",
       "      <td>00:20:56</td>\n",
       "    </tr>\n",
       "  </tbody>\n",
       "</table>\n",
       "</div>"
      ],
      "text/plain": [
       "               Name  Age  S     Time  Agegrd%   TimeAG\n",
       "0     Mollie Turner   36  F 00:24:55    77.61 00:21:47\n",
       "1     Bob Giambalvo   66  M 00:24:52    88.14 00:19:10\n",
       "2  Volker Burkowski   44  M 00:22:38    80.74 00:20:56"
      ]
     },
     "metadata": {},
     "output_type": "display_data"
    },
    {
     "data": {
      "text/html": [
       "<div>\n",
       "<table border=\"1\" class=\"dataframe\">\n",
       "  <thead>\n",
       "    <tr style=\"text-align: right;\">\n",
       "      <th></th>\n",
       "      <th>Name</th>\n",
       "      <th>Age</th>\n",
       "      <th>S</th>\n",
       "      <th>Time</th>\n",
       "      <th>Agegrd%</th>\n",
       "      <th>TimeAG</th>\n",
       "      <th>ScoredTime</th>\n",
       "    </tr>\n",
       "  </thead>\n",
       "  <tbody>\n",
       "    <tr>\n",
       "      <th>0</th>\n",
       "      <td>Aaron Lozier</td>\n",
       "      <td>27</td>\n",
       "      <td>M</td>\n",
       "      <td>00:20:22</td>\n",
       "      <td>82.98</td>\n",
       "      <td>00:20:22</td>\n",
       "      <td>00:20:22</td>\n",
       "    </tr>\n",
       "    <tr>\n",
       "      <th>1</th>\n",
       "      <td>Julia Flower</td>\n",
       "      <td>17</td>\n",
       "      <td>F</td>\n",
       "      <td>00:23:04</td>\n",
       "      <td>85.06</td>\n",
       "      <td>00:19:52</td>\n",
       "      <td>00:23:04</td>\n",
       "    </tr>\n",
       "    <tr>\n",
       "      <th>2</th>\n",
       "      <td>John Stadtlander</td>\n",
       "      <td>50</td>\n",
       "      <td>M</td>\n",
       "      <td>00:23:06</td>\n",
       "      <td>82.86</td>\n",
       "      <td>00:20:24</td>\n",
       "      <td>00:20:24</td>\n",
       "    </tr>\n",
       "    <tr>\n",
       "      <th>3</th>\n",
       "      <td>Lee Pollock</td>\n",
       "      <td>63</td>\n",
       "      <td>M</td>\n",
       "      <td>00:25:47</td>\n",
       "      <td>82.75</td>\n",
       "      <td>00:20:25</td>\n",
       "      <td>00:20:25</td>\n",
       "    </tr>\n",
       "  </tbody>\n",
       "</table>\n",
       "</div>"
      ],
      "text/plain": [
       "               Name  Age  S     Time  Agegrd%   TimeAG  ScoredTime\n",
       "0      Aaron Lozier   27  M 00:20:22    82.98 00:20:22    00:20:22\n",
       "1      Julia Flower   17  F 00:23:04    85.06 00:19:52    00:23:04\n",
       "2  John Stadtlander   50  M 00:23:06    82.86 00:20:24    00:20:24\n",
       "3       Lee Pollock   63  M 00:25:47    82.75 00:20:25    00:20:25"
      ]
     },
     "metadata": {},
     "output_type": "display_data"
    },
    {
     "name": "stdout",
     "output_type": "stream",
     "text": [
      "0 days 01:24:15\n"
     ]
    },
    {
     "data": {
      "text/html": [
       "<div>\n",
       "<table border=\"1\" class=\"dataframe\">\n",
       "  <thead>\n",
       "    <tr style=\"text-align: right;\">\n",
       "      <th></th>\n",
       "      <th>Name</th>\n",
       "      <th>Age</th>\n",
       "      <th>S</th>\n",
       "      <th>Time</th>\n",
       "      <th>Agegrd%</th>\n",
       "      <th>TimeAG</th>\n",
       "      <th>ScoredTime</th>\n",
       "    </tr>\n",
       "  </thead>\n",
       "  <tbody>\n",
       "    <tr>\n",
       "      <th>0</th>\n",
       "      <td>Shaun Donegan</td>\n",
       "      <td>30</td>\n",
       "      <td>M</td>\n",
       "      <td>00:20:58</td>\n",
       "      <td>80.71</td>\n",
       "      <td>00:20:56</td>\n",
       "      <td>00:20:58</td>\n",
       "    </tr>\n",
       "    <tr>\n",
       "      <th>1</th>\n",
       "      <td>Erin Corcoran</td>\n",
       "      <td>41</td>\n",
       "      <td>F</td>\n",
       "      <td>00:24:30</td>\n",
       "      <td>80.85</td>\n",
       "      <td>00:20:54</td>\n",
       "      <td>00:24:30</td>\n",
       "    </tr>\n",
       "    <tr>\n",
       "      <th>2</th>\n",
       "      <td>Kim Law</td>\n",
       "      <td>58</td>\n",
       "      <td>F</td>\n",
       "      <td>00:29:23</td>\n",
       "      <td>80.41</td>\n",
       "      <td>00:21:01</td>\n",
       "      <td>00:21:01</td>\n",
       "    </tr>\n",
       "    <tr>\n",
       "      <th>3</th>\n",
       "      <td>Beth Stalker</td>\n",
       "      <td>56</td>\n",
       "      <td>F</td>\n",
       "      <td>00:26:37</td>\n",
       "      <td>86.63</td>\n",
       "      <td>00:19:30</td>\n",
       "      <td>00:19:30</td>\n",
       "    </tr>\n",
       "  </tbody>\n",
       "</table>\n",
       "</div>"
      ],
      "text/plain": [
       "            Name  Age  S     Time  Agegrd%   TimeAG  ScoredTime\n",
       "0  Shaun Donegan   30  M 00:20:58    80.71 00:20:56    00:20:58\n",
       "1  Erin Corcoran   41  F 00:24:30    80.85 00:20:54    00:24:30\n",
       "2        Kim Law   58  F 00:29:23    80.41 00:21:01    00:21:01\n",
       "3   Beth Stalker   56  F 00:26:37    86.63 00:19:30    00:19:30"
      ]
     },
     "metadata": {},
     "output_type": "display_data"
    },
    {
     "name": "stdout",
     "output_type": "stream",
     "text": [
      "0 days 01:25:59\n"
     ]
    },
    {
     "data": {
      "text/html": [
       "<div>\n",
       "<table border=\"1\" class=\"dataframe\">\n",
       "  <thead>\n",
       "    <tr style=\"text-align: right;\">\n",
       "      <th></th>\n",
       "      <th>Name</th>\n",
       "      <th>Age</th>\n",
       "      <th>S</th>\n",
       "      <th>Time</th>\n",
       "      <th>Agegrd%</th>\n",
       "      <th>TimeAG</th>\n",
       "      <th>ScoredTime</th>\n",
       "    </tr>\n",
       "  </thead>\n",
       "  <tbody>\n",
       "    <tr>\n",
       "      <th>0</th>\n",
       "      <td>Tom Law</td>\n",
       "      <td>44</td>\n",
       "      <td>M</td>\n",
       "      <td>00:29:11</td>\n",
       "      <td>62.62</td>\n",
       "      <td>00:26:59</td>\n",
       "      <td>00:29:11</td>\n",
       "    </tr>\n",
       "    <tr>\n",
       "      <th>1</th>\n",
       "      <td>Eiko Bogue</td>\n",
       "      <td>78</td>\n",
       "      <td>F</td>\n",
       "      <td>00:53:51</td>\n",
       "      <td>58.24</td>\n",
       "      <td>00:29:01</td>\n",
       "      <td>00:53:51</td>\n",
       "    </tr>\n",
       "    <tr>\n",
       "      <th>2</th>\n",
       "      <td>Chester Tumidajewi</td>\n",
       "      <td>61</td>\n",
       "      <td>M</td>\n",
       "      <td>00:34:00</td>\n",
       "      <td>61.67</td>\n",
       "      <td>00:27:24</td>\n",
       "      <td>00:27:24</td>\n",
       "    </tr>\n",
       "    <tr>\n",
       "      <th>3</th>\n",
       "      <td>Anny Stockman</td>\n",
       "      <td>83</td>\n",
       "      <td>F</td>\n",
       "      <td>00:54:24</td>\n",
       "      <td>63.97</td>\n",
       "      <td>00:26:25</td>\n",
       "      <td>00:26:25</td>\n",
       "    </tr>\n",
       "  </tbody>\n",
       "</table>\n",
       "</div>"
      ],
      "text/plain": [
       "                 Name  Age  S     Time  Agegrd%   TimeAG  ScoredTime\n",
       "0             Tom Law   44  M 00:29:11    62.62 00:26:59    00:29:11\n",
       "1          Eiko Bogue   78  F 00:53:51    58.24 00:29:01    00:53:51\n",
       "2  Chester Tumidajewi   61  M 00:34:00    61.67 00:27:24    00:27:24\n",
       "3       Anny Stockman   83  F 00:54:24    63.97 00:26:25    00:26:25"
      ]
     },
     "metadata": {},
     "output_type": "display_data"
    },
    {
     "name": "stdout",
     "output_type": "stream",
     "text": [
      "0 days 02:16:51\n"
     ]
    }
   ],
   "source": [
    "team_dfs=pd.DataFrame(columns=('time','teamdf'))\n",
    "team_dfs_invalid=[]\n",
    "\n",
    "j=0;\n",
    "\n",
    "for index, team in teams.iterrows():\n",
    "#for team in teams:\n",
    "    team_df=pd.DataFrame()\n",
    "    #print team\n",
    "    for i in range(4):\n",
    "        name=team.iloc[i+1]\n",
    "        if (name in results.Name.tolist()):\n",
    "            team_df=team_df.append(results.loc[results['Name']==name])\n",
    "        \n",
    "    team_df=team_df.reset_index(drop=True)\n",
    "   \n",
    "    if (team_df.shape[0]>=4):\n",
    "        team_df['ScoredTime']=pd.Series([team_df.Time.iloc[0],team_df.Time.iloc[1],team_df.TimeAG.iloc[2],team_df.TimeAG.iloc[3]])\n",
    "        display(team_df)\n",
    "        print team_df.ScoredTime.sum()\n",
    "    \n",
    "        team_dfs.loc[j]=[team_df.ScoredTime.sum(), team_df]\n",
    "    else:\n",
    "        team_dfs_invalid.append(team_df)\n",
    "        print \"Problem!!!!!\"\n",
    "        display(team_df)\n",
    "    \n",
    "    j=j+1\n",
    "    \n",
    "    "
   ]
  },
  {
   "cell_type": "code",
   "execution_count": 54,
   "metadata": {
    "collapsed": false
   },
   "outputs": [
    {
     "data": {
      "text/html": [
       "<div>\n",
       "<table border=\"1\" class=\"dataframe\">\n",
       "  <thead>\n",
       "    <tr style=\"text-align: right;\">\n",
       "      <th></th>\n",
       "      <th>time</th>\n",
       "      <th>teamdf</th>\n",
       "    </tr>\n",
       "  </thead>\n",
       "  <tbody>\n",
       "    <tr>\n",
       "      <th>1</th>\n",
       "      <td>01:24:15</td>\n",
       "      <td>Name  Age  S     Time  Agegrd% ...</td>\n",
       "    </tr>\n",
       "    <tr>\n",
       "      <th>2</th>\n",
       "      <td>01:25:59</td>\n",
       "      <td>Name  Age  S     Time  Agegrd%   T...</td>\n",
       "    </tr>\n",
       "    <tr>\n",
       "      <th>3</th>\n",
       "      <td>02:16:51</td>\n",
       "      <td>Name  Age  S     Time  Agegrd...</td>\n",
       "    </tr>\n",
       "  </tbody>\n",
       "</table>\n",
       "</div>"
      ],
      "text/plain": [
       "      time                                             teamdf\n",
       "1 01:24:15                 Name  Age  S     Time  Agegrd% ...\n",
       "2 01:25:59              Name  Age  S     Time  Agegrd%   T...\n",
       "3 02:16:51                   Name  Age  S     Time  Agegrd..."
      ]
     },
     "execution_count": 54,
     "metadata": {},
     "output_type": "execute_result"
    }
   ],
   "source": [
    "team_dfs"
   ]
  },
  {
   "cell_type": "code",
   "execution_count": 59,
   "metadata": {
    "collapsed": false
   },
   "outputs": [
    {
     "name": "stderr",
     "output_type": "stream",
     "text": [
      "/home/bnorthan/anaconda/lib/python2.7/site-packages/IPython/kernel/__main__.py:1: FutureWarning: sort(columns=....) is deprecated, use sort_values(by=.....)\n",
      "  if __name__ == '__main__':\n"
     ]
    },
    {
     "data": {
      "text/html": [
       "<div>\n",
       "<table border=\"1\" class=\"dataframe\">\n",
       "  <thead>\n",
       "    <tr style=\"text-align: right;\">\n",
       "      <th></th>\n",
       "      <th>Name</th>\n",
       "      <th>Age</th>\n",
       "      <th>S</th>\n",
       "      <th>Time</th>\n",
       "      <th>Agegrd%</th>\n",
       "      <th>TimeAG</th>\n",
       "      <th>ScoredTime</th>\n",
       "    </tr>\n",
       "  </thead>\n",
       "  <tbody>\n",
       "    <tr>\n",
       "      <th>0</th>\n",
       "      <td>Aaron Lozier</td>\n",
       "      <td>27</td>\n",
       "      <td>M</td>\n",
       "      <td>00:20:22</td>\n",
       "      <td>82.98</td>\n",
       "      <td>00:20:22</td>\n",
       "      <td>00:20:22</td>\n",
       "    </tr>\n",
       "    <tr>\n",
       "      <th>1</th>\n",
       "      <td>Julia Flower</td>\n",
       "      <td>17</td>\n",
       "      <td>F</td>\n",
       "      <td>00:23:04</td>\n",
       "      <td>85.06</td>\n",
       "      <td>00:19:52</td>\n",
       "      <td>00:23:04</td>\n",
       "    </tr>\n",
       "    <tr>\n",
       "      <th>2</th>\n",
       "      <td>John Stadtlander</td>\n",
       "      <td>50</td>\n",
       "      <td>M</td>\n",
       "      <td>00:23:06</td>\n",
       "      <td>82.86</td>\n",
       "      <td>00:20:24</td>\n",
       "      <td>00:20:24</td>\n",
       "    </tr>\n",
       "    <tr>\n",
       "      <th>3</th>\n",
       "      <td>Lee Pollock</td>\n",
       "      <td>63</td>\n",
       "      <td>M</td>\n",
       "      <td>00:25:47</td>\n",
       "      <td>82.75</td>\n",
       "      <td>00:20:25</td>\n",
       "      <td>00:20:25</td>\n",
       "    </tr>\n",
       "  </tbody>\n",
       "</table>\n",
       "</div>"
      ],
      "text/plain": [
       "               Name  Age  S     Time  Agegrd%   TimeAG  ScoredTime\n",
       "0      Aaron Lozier   27  M 00:20:22    82.98 00:20:22    00:20:22\n",
       "1      Julia Flower   17  F 00:23:04    85.06 00:19:52    00:23:04\n",
       "2  John Stadtlander   50  M 00:23:06    82.86 00:20:24    00:20:24\n",
       "3       Lee Pollock   63  M 00:25:47    82.75 00:20:25    00:20:25"
      ]
     },
     "metadata": {},
     "output_type": "display_data"
    },
    {
     "data": {
      "text/html": [
       "<div>\n",
       "<table border=\"1\" class=\"dataframe\">\n",
       "  <thead>\n",
       "    <tr style=\"text-align: right;\">\n",
       "      <th></th>\n",
       "      <th>Name</th>\n",
       "      <th>Age</th>\n",
       "      <th>S</th>\n",
       "      <th>Time</th>\n",
       "      <th>Agegrd%</th>\n",
       "      <th>TimeAG</th>\n",
       "      <th>ScoredTime</th>\n",
       "    </tr>\n",
       "  </thead>\n",
       "  <tbody>\n",
       "    <tr>\n",
       "      <th>0</th>\n",
       "      <td>Shaun Donegan</td>\n",
       "      <td>30</td>\n",
       "      <td>M</td>\n",
       "      <td>00:20:58</td>\n",
       "      <td>80.71</td>\n",
       "      <td>00:20:56</td>\n",
       "      <td>00:20:58</td>\n",
       "    </tr>\n",
       "    <tr>\n",
       "      <th>1</th>\n",
       "      <td>Erin Corcoran</td>\n",
       "      <td>41</td>\n",
       "      <td>F</td>\n",
       "      <td>00:24:30</td>\n",
       "      <td>80.85</td>\n",
       "      <td>00:20:54</td>\n",
       "      <td>00:24:30</td>\n",
       "    </tr>\n",
       "    <tr>\n",
       "      <th>2</th>\n",
       "      <td>Kim Law</td>\n",
       "      <td>58</td>\n",
       "      <td>F</td>\n",
       "      <td>00:29:23</td>\n",
       "      <td>80.41</td>\n",
       "      <td>00:21:01</td>\n",
       "      <td>00:21:01</td>\n",
       "    </tr>\n",
       "    <tr>\n",
       "      <th>3</th>\n",
       "      <td>Beth Stalker</td>\n",
       "      <td>56</td>\n",
       "      <td>F</td>\n",
       "      <td>00:26:37</td>\n",
       "      <td>86.63</td>\n",
       "      <td>00:19:30</td>\n",
       "      <td>00:19:30</td>\n",
       "    </tr>\n",
       "  </tbody>\n",
       "</table>\n",
       "</div>"
      ],
      "text/plain": [
       "            Name  Age  S     Time  Agegrd%   TimeAG  ScoredTime\n",
       "0  Shaun Donegan   30  M 00:20:58    80.71 00:20:56    00:20:58\n",
       "1  Erin Corcoran   41  F 00:24:30    80.85 00:20:54    00:24:30\n",
       "2        Kim Law   58  F 00:29:23    80.41 00:21:01    00:21:01\n",
       "3   Beth Stalker   56  F 00:26:37    86.63 00:19:30    00:19:30"
      ]
     },
     "metadata": {},
     "output_type": "display_data"
    },
    {
     "data": {
      "text/html": [
       "<div>\n",
       "<table border=\"1\" class=\"dataframe\">\n",
       "  <thead>\n",
       "    <tr style=\"text-align: right;\">\n",
       "      <th></th>\n",
       "      <th>Name</th>\n",
       "      <th>Age</th>\n",
       "      <th>S</th>\n",
       "      <th>Time</th>\n",
       "      <th>Agegrd%</th>\n",
       "      <th>TimeAG</th>\n",
       "      <th>ScoredTime</th>\n",
       "    </tr>\n",
       "  </thead>\n",
       "  <tbody>\n",
       "    <tr>\n",
       "      <th>0</th>\n",
       "      <td>Tom Law</td>\n",
       "      <td>44</td>\n",
       "      <td>M</td>\n",
       "      <td>00:29:11</td>\n",
       "      <td>62.62</td>\n",
       "      <td>00:26:59</td>\n",
       "      <td>00:29:11</td>\n",
       "    </tr>\n",
       "    <tr>\n",
       "      <th>1</th>\n",
       "      <td>Eiko Bogue</td>\n",
       "      <td>78</td>\n",
       "      <td>F</td>\n",
       "      <td>00:53:51</td>\n",
       "      <td>58.24</td>\n",
       "      <td>00:29:01</td>\n",
       "      <td>00:53:51</td>\n",
       "    </tr>\n",
       "    <tr>\n",
       "      <th>2</th>\n",
       "      <td>Chester Tumidajewi</td>\n",
       "      <td>61</td>\n",
       "      <td>M</td>\n",
       "      <td>00:34:00</td>\n",
       "      <td>61.67</td>\n",
       "      <td>00:27:24</td>\n",
       "      <td>00:27:24</td>\n",
       "    </tr>\n",
       "    <tr>\n",
       "      <th>3</th>\n",
       "      <td>Anny Stockman</td>\n",
       "      <td>83</td>\n",
       "      <td>F</td>\n",
       "      <td>00:54:24</td>\n",
       "      <td>63.97</td>\n",
       "      <td>00:26:25</td>\n",
       "      <td>00:26:25</td>\n",
       "    </tr>\n",
       "  </tbody>\n",
       "</table>\n",
       "</div>"
      ],
      "text/plain": [
       "                 Name  Age  S     Time  Agegrd%   TimeAG  ScoredTime\n",
       "0             Tom Law   44  M 00:29:11    62.62 00:26:59    00:29:11\n",
       "1          Eiko Bogue   78  F 00:53:51    58.24 00:29:01    00:53:51\n",
       "2  Chester Tumidajewi   61  M 00:34:00    61.67 00:27:24    00:27:24\n",
       "3       Anny Stockman   83  F 00:54:24    63.97 00:26:25    00:26:25"
      ]
     },
     "metadata": {},
     "output_type": "display_data"
    },
    {
     "data": {
      "text/html": [
       "<div>\n",
       "<table border=\"1\" class=\"dataframe\">\n",
       "  <thead>\n",
       "    <tr style=\"text-align: right;\">\n",
       "      <th></th>\n",
       "      <th>Name</th>\n",
       "      <th>Age</th>\n",
       "      <th>S</th>\n",
       "      <th>Time</th>\n",
       "      <th>Agegrd%</th>\n",
       "      <th>TimeAG</th>\n",
       "    </tr>\n",
       "  </thead>\n",
       "  <tbody>\n",
       "    <tr>\n",
       "      <th>0</th>\n",
       "      <td>Mollie Turner</td>\n",
       "      <td>36</td>\n",
       "      <td>F</td>\n",
       "      <td>00:24:55</td>\n",
       "      <td>77.61</td>\n",
       "      <td>00:21:47</td>\n",
       "    </tr>\n",
       "    <tr>\n",
       "      <th>1</th>\n",
       "      <td>Bob Giambalvo</td>\n",
       "      <td>66</td>\n",
       "      <td>M</td>\n",
       "      <td>00:24:52</td>\n",
       "      <td>88.14</td>\n",
       "      <td>00:19:10</td>\n",
       "    </tr>\n",
       "    <tr>\n",
       "      <th>2</th>\n",
       "      <td>Volker Burkowski</td>\n",
       "      <td>44</td>\n",
       "      <td>M</td>\n",
       "      <td>00:22:38</td>\n",
       "      <td>80.74</td>\n",
       "      <td>00:20:56</td>\n",
       "    </tr>\n",
       "  </tbody>\n",
       "</table>\n",
       "</div>"
      ],
      "text/plain": [
       "               Name  Age  S     Time  Agegrd%   TimeAG\n",
       "0     Mollie Turner   36  F 00:24:55    77.61 00:21:47\n",
       "1     Bob Giambalvo   66  M 00:24:52    88.14 00:19:10\n",
       "2  Volker Burkowski   44  M 00:22:38    80.74 00:20:56"
      ]
     },
     "metadata": {},
     "output_type": "display_data"
    }
   ],
   "source": [
    "team_dfs.sort('time', ascending=True, inplace=True)\n",
    "\n",
    "for index, row in team_dfs.iterrows():\n",
    "    display(row.teamdf)\n",
    "    \n",
    "for df in team_dfs_invalid:\n",
    "    display(df)"
   ]
  },
  {
   "cell_type": "code",
   "execution_count": 57,
   "metadata": {
    "collapsed": false
   },
   "outputs": [],
   "source": [
    "def getFormatingRight(t):\n",
    "    s=t.seconds\n",
    "    hours = s // 3600 \n",
    "    # remaining seconds\n",
    "    s = s - (hours * 3600)\n",
    "    # minutes\n",
    "    minutes = s // 60\n",
    "    # remaining seconds\n",
    "    seconds = s - (minutes * 60)\n",
    "    # total time\n",
    "    return '%s:%s:%s' % (hours, minutes, seconds)"
   ]
  },
  {
   "cell_type": "code",
   "execution_count": 62,
   "metadata": {
    "collapsed": false,
    "scrolled": true
   },
   "outputs": [
    {
     "name": "stdout",
     "output_type": "stream",
     "text": [
      "1:24:15\n",
      "1:25:59\n",
      "2:16:51\n"
     ]
    }
   ],
   "source": [
    "page=results.to_html()\n",
    "page=page+'<div class=\"pagebreak\"> </div>'\n",
    "for index, row in team_dfs.iterrows():\n",
    "    page=page+'<p>'\n",
    "    page=page+'<br><br>'\n",
    "    print getFormatingRight(row.time)\n",
    "    page=page+getFormatingRight(row.time)+'<br>'\n",
    "    page=page+row['teamdf'].to_html()\n",
    "    page=page+'</p>'\n",
    "\n",
    "for df in team_dfs_invalid:\n",
    "    page=page+'<p>'\n",
    "    page=page+'<br><br>'\n",
    "    page=page+'INCOMPLETE TEAM<br>'\n",
    "    page=page+df.to_html()\n",
    "    page=page+'</p>'"
   ]
  },
  {
   "cell_type": "code",
   "execution_count": 63,
   "metadata": {
    "collapsed": false
   },
   "outputs": [],
   "source": [
    "from weasyprint import HTML\n",
    "HTML(string=page).write_pdf(\"report.pdf\", stylesheets=[\"stylesheet.css\"])"
   ]
  },
  {
   "cell_type": "code",
   "execution_count": null,
   "metadata": {
    "collapsed": true
   },
   "outputs": [],
   "source": []
  },
  {
   "cell_type": "code",
   "execution_count": null,
   "metadata": {
    "collapsed": true
   },
   "outputs": [],
   "source": []
  },
  {
   "cell_type": "code",
   "execution_count": null,
   "metadata": {
    "collapsed": true
   },
   "outputs": [],
   "source": []
  },
  {
   "cell_type": "code",
   "execution_count": null,
   "metadata": {
    "collapsed": true
   },
   "outputs": [],
   "source": []
  },
  {
   "cell_type": "code",
   "execution_count": null,
   "metadata": {
    "collapsed": true
   },
   "outputs": [],
   "source": []
  },
  {
   "cell_type": "code",
   "execution_count": null,
   "metadata": {
    "collapsed": true
   },
   "outputs": [],
   "source": []
  },
  {
   "cell_type": "code",
   "execution_count": null,
   "metadata": {
    "collapsed": true
   },
   "outputs": [],
   "source": []
  },
  {
   "cell_type": "code",
   "execution_count": null,
   "metadata": {
    "collapsed": true
   },
   "outputs": [],
   "source": []
  },
  {
   "cell_type": "code",
   "execution_count": 51,
   "metadata": {
    "collapsed": false
   },
   "outputs": [],
   "source": [
    "f = open('report.html', 'w')\n",
    "f.write(page.encode('utf8'))\n",
    "f.close()"
   ]
  },
  {
   "cell_type": "code",
   "execution_count": 56,
   "metadata": {
    "collapsed": false
   },
   "outputs": [
    {
     "ename": "AttributeError",
     "evalue": "'str' object has no attribute 'rename'",
     "output_type": "error",
     "traceback": [
      "\u001b[1;31m---------------------------------------------------------------------------\u001b[0m",
      "\u001b[1;31mAttributeError\u001b[0m                            Traceback (most recent call last)",
      "\u001b[1;32m<ipython-input-56-21a7656467f7>\u001b[0m in \u001b[0;36m<module>\u001b[1;34m()\u001b[0m\n\u001b[0;32m      2\u001b[0m \u001b[1;33m\u001b[0m\u001b[0m\n\u001b[0;32m      3\u001b[0m \u001b[1;32mfor\u001b[0m \u001b[0mdf\u001b[0m \u001b[1;32min\u001b[0m \u001b[0mteam_dfs\u001b[0m\u001b[1;33m:\u001b[0m\u001b[1;33m\u001b[0m\u001b[0m\n\u001b[1;32m----> 4\u001b[1;33m     \u001b[0mdf\u001b[0m\u001b[1;33m.\u001b[0m\u001b[0mrename\u001b[0m\u001b[1;33m(\u001b[0m\u001b[0mcolumns\u001b[0m\u001b[1;33m=\u001b[0m\u001b[1;33m{\u001b[0m\u001b[1;34m'Agegrd%'\u001b[0m\u001b[1;33m:\u001b[0m \u001b[1;34m'AG%'\u001b[0m\u001b[1;33m}\u001b[0m\u001b[1;33m,\u001b[0m \u001b[0minplace\u001b[0m\u001b[1;33m=\u001b[0m\u001b[0mTrue\u001b[0m\u001b[1;33m)\u001b[0m\u001b[1;33m\u001b[0m\u001b[0m\n\u001b[0m",
      "\u001b[1;31mAttributeError\u001b[0m: 'str' object has no attribute 'rename'"
     ]
    }
   ],
   "source": [
    "results.rename(columns={'Agegrd%': 'AG%'}, inplace=True)\n",
    "\n",
    "for df in team_dfs:\n",
    "    df.rename(columns={'Agegrd%': 'AG%'}, inplace=True)"
   ]
  },
  {
   "cell_type": "code",
   "execution_count": 4,
   "metadata": {
    "collapsed": false
   },
   "outputs": [],
   "source": [
    "age_table=pd.read_csv('agegradedtable.csv')"
   ]
  },
  {
   "cell_type": "code",
   "execution_count": 5,
   "metadata": {
    "collapsed": false
   },
   "outputs": [
    {
     "data": {
      "text/plain": [
       "(96, 21)"
      ]
     },
     "execution_count": 5,
     "metadata": {},
     "output_type": "execute_result"
    }
   ],
   "source": [
    "age_table.shape"
   ]
  },
  {
   "cell_type": "code",
   "execution_count": 6,
   "metadata": {
    "collapsed": false
   },
   "outputs": [
    {
     "data": {
      "text/plain": [
       "Index([u'Age', u'5 km', u'6 km', u'4 Mile', u'8 km', u'5 Mile', u'10 km',\n",
       "       u'12 km', u'15 km', u'10 Mile', u'20 km', u'H. Mar', u'25 km', u'30 km',\n",
       "       u'Marathon', u'50 km', u'50 Mile', u'100 km', u'150 km', u'100 Mile',\n",
       "       u'200 km'],\n",
       "      dtype='object')"
      ]
     },
     "execution_count": 6,
     "metadata": {},
     "output_type": "execute_result"
    }
   ],
   "source": [
    "age_table.columns"
   ]
  },
  {
   "cell_type": "code",
   "execution_count": 7,
   "metadata": {
    "collapsed": true
   },
   "outputs": [],
   "source": [
    "four_mile=age_table['4 Mile']"
   ]
  },
  {
   "cell_type": "code",
   "execution_count": 8,
   "metadata": {
    "collapsed": false
   },
   "outputs": [
    {
     "data": {
      "text/plain": [
       "0    1549\n",
       "1    1465\n",
       "2    1394\n",
       "3    1334\n",
       "4    1282\n",
       "Name: 4 Mile, dtype: int64"
      ]
     },
     "execution_count": 8,
     "metadata": {},
     "output_type": "execute_result"
    }
   ],
   "source": [
    "four_mile.head()"
   ]
  },
  {
   "cell_type": "code",
   "execution_count": 10,
   "metadata": {
    "collapsed": false
   },
   "outputs": [
    {
     "data": {
      "text/plain": [
       "16.85"
      ]
     },
     "execution_count": 10,
     "metadata": {},
     "output_type": "execute_result"
    }
   ],
   "source": [
    "1011./60."
   ]
  },
  {
   "cell_type": "code",
   "execution_count": 19,
   "metadata": {
    "collapsed": false
   },
   "outputs": [
    {
     "name": "stdout",
     "output_type": "stream",
     "text": [
      "20.4166666667\n",
      "24.0\n"
     ]
    }
   ],
   "source": [
    "print 1225./60.\n",
    "print .4*60"
   ]
  },
  {
   "cell_type": "code",
   "execution_count": 35,
   "metadata": {
    "collapsed": false
   },
   "outputs": [
    {
     "name": "stdout",
     "output_type": "stream",
     "text": [
      "0:20:24\n"
     ]
    }
   ],
   "source": [
    "thetime=datetime.datetime.strptime('20:24','%M:%S')-datetime.datetime.strptime('00:00.0','%M:%S.%f')\n",
    "print thetime"
   ]
  },
  {
   "cell_type": "code",
   "execution_count": 37,
   "metadata": {
    "collapsed": false
   },
   "outputs": [
    {
     "name": "stdout",
     "output_type": "stream",
     "text": [
      "0:20:36.363636\n"
     ]
    }
   ],
   "source": [
    "print agegrade(thetime, 99)"
   ]
  },
  {
   "cell_type": "code",
   "execution_count": 31,
   "metadata": {
    "collapsed": true
   },
   "outputs": [],
   "source": [
    "basetime=convert('16:54')-datetime.datetime.strptime('00:00.0','%M:%S.%f')"
   ]
  },
  {
   "cell_type": "code",
   "execution_count": 32,
   "metadata": {
    "collapsed": false
   },
   "outputs": [
    {
     "data": {
      "text/plain": [
       "datetime.timedelta"
      ]
     },
     "execution_count": 32,
     "metadata": {},
     "output_type": "execute_result"
    }
   ],
   "source": [
    "type(basetime)"
   ]
  },
  {
   "cell_type": "code",
   "execution_count": 33,
   "metadata": {
    "collapsed": false
   },
   "outputs": [
    {
     "data": {
      "text/plain": [
       "datetime.datetime"
      ]
     },
     "execution_count": 33,
     "metadata": {},
     "output_type": "execute_result"
    }
   ],
   "source": [
    "type(convert('16:54'))"
   ]
  },
  {
   "cell_type": "code",
   "execution_count": 34,
   "metadata": {
    "collapsed": false
   },
   "outputs": [
    {
     "data": {
      "text/plain": [
       "datetime.timedelta"
      ]
     },
     "execution_count": 34,
     "metadata": {},
     "output_type": "execute_result"
    }
   ],
   "source": [
    "type(convert('16:54')-datetime.datetime.strptime('00:00.0','%M:%S.%f'))"
   ]
  },
  {
   "cell_type": "code",
   "execution_count": null,
   "metadata": {
    "collapsed": true
   },
   "outputs": [],
   "source": []
  }
 ],
 "metadata": {
  "kernelspec": {
   "display_name": "Python 2",
   "language": "python",
   "name": "python2"
  },
  "language_info": {
   "codemirror_mode": {
    "name": "ipython",
    "version": 2
   },
   "file_extension": ".py",
   "mimetype": "text/x-python",
   "name": "python",
   "nbconvert_exporter": "python",
   "pygments_lexer": "ipython2",
   "version": "2.7.11"
  }
 },
 "nbformat": 4,
 "nbformat_minor": 0
}
