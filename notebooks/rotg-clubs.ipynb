{
 "cells": [
  {
   "cell_type": "code",
   "execution_count": 111,
   "metadata": {
    "collapsed": false
   },
   "outputs": [],
   "source": [
    "import pandas as pd\n",
    "\n",
    "clubs=pd.read_csv('../data/rotg-clubs.csv')\n",
    "\n",
    "clubs=clubs[['first','last','gender','age','uptodate','clubname']]\n",
    "clubs['open']='yes'\n",
    "clubs['master'] =  clubs['age'].map(lambda x: 'no' if x < 40 else 'yes')\n",
    "clubs['agegrade'] =  clubs['age'].map(lambda x: 'no' if x < 50 else 'yes')"
   ]
  },
  {
   "cell_type": "code",
   "execution_count": 112,
   "metadata": {
    "collapsed": false
   },
   "outputs": [
    {
     "data": {
      "text/html": [
       "<div>\n",
       "<table border=\"1\" class=\"dataframe\">\n",
       "  <thead>\n",
       "    <tr style=\"text-align: right;\">\n",
       "      <th></th>\n",
       "      <th>first</th>\n",
       "      <th>last</th>\n",
       "      <th>gender</th>\n",
       "      <th>age</th>\n",
       "      <th>uptodate</th>\n",
       "      <th>clubname</th>\n",
       "      <th>open</th>\n",
       "      <th>master</th>\n",
       "      <th>agegrade</th>\n",
       "    </tr>\n",
       "  </thead>\n",
       "  <tbody>\n",
       "    <tr>\n",
       "      <th>0</th>\n",
       "      <td>Raymond W.</td>\n",
       "      <td>Lee, Jr.</td>\n",
       "      <td>M</td>\n",
       "      <td>74</td>\n",
       "      <td>yes</td>\n",
       "      <td>Adirondack Athletic Club</td>\n",
       "      <td>yes</td>\n",
       "      <td>yes</td>\n",
       "      <td>yes</td>\n",
       "    </tr>\n",
       "    <tr>\n",
       "      <th>1</th>\n",
       "      <td>Thomas</td>\n",
       "      <td>Dalton</td>\n",
       "      <td>M</td>\n",
       "      <td>57</td>\n",
       "      <td>yes</td>\n",
       "      <td>Adirondack Athletic Club</td>\n",
       "      <td>yes</td>\n",
       "      <td>yes</td>\n",
       "      <td>yes</td>\n",
       "    </tr>\n",
       "    <tr>\n",
       "      <th>2</th>\n",
       "      <td>rob</td>\n",
       "      <td>picotte</td>\n",
       "      <td>M</td>\n",
       "      <td>62</td>\n",
       "      <td>yes</td>\n",
       "      <td>Adirondack Athletic Club</td>\n",
       "      <td>yes</td>\n",
       "      <td>yes</td>\n",
       "      <td>yes</td>\n",
       "    </tr>\n",
       "    <tr>\n",
       "      <th>3</th>\n",
       "      <td>Chris</td>\n",
       "      <td>Buckley</td>\n",
       "      <td>M</td>\n",
       "      <td>54</td>\n",
       "      <td>yes</td>\n",
       "      <td>Adirondack Athletic Club</td>\n",
       "      <td>yes</td>\n",
       "      <td>yes</td>\n",
       "      <td>yes</td>\n",
       "    </tr>\n",
       "    <tr>\n",
       "      <th>4</th>\n",
       "      <td>Tom</td>\n",
       "      <td>McGuire</td>\n",
       "      <td>M</td>\n",
       "      <td>64</td>\n",
       "      <td>yes</td>\n",
       "      <td>Adirondack Athletic Club</td>\n",
       "      <td>yes</td>\n",
       "      <td>yes</td>\n",
       "      <td>yes</td>\n",
       "    </tr>\n",
       "  </tbody>\n",
       "</table>\n",
       "</div>"
      ],
      "text/plain": [
       "        first      last gender  age uptodate                  clubname open  \\\n",
       "0  Raymond W.  Lee, Jr.      M   74      yes  Adirondack Athletic Club  yes   \n",
       "1      Thomas    Dalton      M   57      yes  Adirondack Athletic Club  yes   \n",
       "2         rob   picotte      M   62      yes  Adirondack Athletic Club  yes   \n",
       "3       Chris   Buckley      M   54      yes  Adirondack Athletic Club  yes   \n",
       "4         Tom   McGuire      M   64      yes  Adirondack Athletic Club  yes   \n",
       "\n",
       "  master agegrade  \n",
       "0    yes      yes  \n",
       "1    yes      yes  \n",
       "2    yes      yes  \n",
       "3    yes      yes  \n",
       "4    yes      yes  "
      ]
     },
     "execution_count": 112,
     "metadata": {},
     "output_type": "execute_result"
    }
   ],
   "source": [
    "clubs.head()"
   ]
  },
  {
   "cell_type": "code",
   "execution_count": 113,
   "metadata": {
    "collapsed": false
   },
   "outputs": [
    {
     "name": "stdout",
     "output_type": "stream",
     "text": [
      "['Adirondack Athletic Club', 'ARE Racing Team', 'Castleton Cruisers', 'Fleet Feet Sports Running/Walking Club', 'Hudson Mohawk Road Runners Club', 'Kinderhook Runners Club', 'Kinetic Running Club', 'Saratoga Stryders', 'Team Utopia', 'Willow Street AC']\n"
     ]
    }
   ],
   "source": [
    "# get unique club names\n",
    "clubnames=clubs.clubname.unique()\n",
    "clubnames = [x for x in clubnames if str(x) != 'nan']\n",
    "print clubnames"
   ]
  },
  {
   "cell_type": "code",
   "execution_count": 114,
   "metadata": {
    "collapsed": false
   },
   "outputs": [],
   "source": [
    "def clubReport(clubname):\n",
    "    \n",
    "    racers=clubs[clubs.clubname==clubname]\n",
    "    racers=racers.drop('clubname',1)\n",
    "    males=racers[racers.gender=='M']\n",
    "    males=males.sort('age')\n",
    "    \n",
    "    females=racers[racers.gender=='F']\n",
    "    females=females.sort('age')\n",
    "    \n",
    "    mhtml = males.to_html(index=False) if males.shape[0]>0 else None\n",
    "    fhtml = females.to_html(index=False) if females.shape[0]>0 else None\n",
    "    \n",
    "    return mhtml, fhtml"
   ]
  },
  {
   "cell_type": "code",
   "execution_count": 115,
   "metadata": {
    "collapsed": false
   },
   "outputs": [
    {
     "name": "stdout",
     "output_type": "stream",
     "text": [
      "Adirondack Athletic Club\n",
      "ARE Racing Team\n",
      "Castleton Cruisers\n",
      "Fleet Feet Sports Running/Walking Club\n",
      "Hudson Mohawk Road Runners Club\n",
      "Kinderhook Runners Club\n",
      "Kinetic Running Club\n",
      "Saratoga Stryders\n",
      "Team Utopia\n",
      "Willow Street AC\n"
     ]
    }
   ],
   "source": [
    "f = open('../grandprix.html','w')\n",
    "\n",
    "message = \"\"\"<html>\n",
    "<head>\n",
    "    <meta charset=\"utf-8\">\n",
    "    <meta http-equiv=\"X-UA-Compatible\" content=\"chrome=1\">\n",
    "    <title>Runnin&#39; of the Green USATF Grand Prix</title>\n",
    "\n",
    "    <link rel=\"stylesheet\" href=\"stylesheets/styles.css\">\n",
    "    <link rel=\"stylesheet\" href=\"stylesheets/github-light.css\">\n",
    "    <meta name=\"viewport\" content=\"width=device-width\">\n",
    "    <!--[if lt IE 9]>\n",
    "    <script src=\"//html5shiv.googlecode.com/svn/trunk/html5.js\"></script>\n",
    "    <![endif]-->\n",
    "  </head>\n",
    "<body><h1>Runnin' of the Green USATF Grand Prix Club Teams</h1>\"\"\"\n",
    "\n",
    "#clubname='ARE Racing Team'\n",
    "\n",
    "for clubname in clubnames:\n",
    "    print clubname\n",
    "    mtable, ftable=clubReport(clubname)\n",
    "\n",
    "    message=message+\"<h2>\"+clubname+\"</h2>\"\n",
    "    \n",
    "    if (mtable!=None):\n",
    "        message=message+\"<h3>Men: </h3>\"\n",
    "        message=message+mtable\n",
    "        message=message+\"<br>\"\n",
    "\n",
    "    if (ftable!=None):\n",
    "        message=message+\"<h3>Women: </h3>\"\n",
    "        message=message+ftable\n",
    "        message=message+\"<br>\"\n",
    "\n",
    "    message=message+\"\"\"</body>\n",
    "    </html>\"\"\"\n",
    "\n",
    "f.write(message)\n",
    "f.close()"
   ]
  },
  {
   "cell_type": "code",
   "execution_count": 87,
   "metadata": {
    "collapsed": false
   },
   "outputs": [
    {
     "name": "stdout",
     "output_type": "stream",
     "text": [
      "Help on method to_html in module pandas.core.frame:\n",
      "\n",
      "to_html(self, buf=None, columns=None, col_space=None, colSpace=None, header=True, index=True, na_rep='NaN', formatters=None, float_format=None, sparsify=None, index_names=True, justify=None, bold_rows=True, classes=None, escape=True, max_rows=None, max_cols=None, show_dimensions=False, notebook=False) unbound pandas.core.frame.DataFrame method\n",
      "    Render a DataFrame as an HTML table.\n",
      "    \n",
      "    `to_html`-specific options:\n",
      "    \n",
      "    bold_rows : boolean, default True\n",
      "        Make the row labels bold in the output\n",
      "    classes : str or list or tuple, default None\n",
      "        CSS class(es) to apply to the resulting html table\n",
      "    escape : boolean, default True\n",
      "        Convert the characters <, >, and & to HTML-safe sequences.=\n",
      "    max_rows : int, optional\n",
      "        Maximum number of rows to show before truncating. If None, show\n",
      "        all.\n",
      "    max_cols : int, optional\n",
      "        Maximum number of columns to show before truncating. If None, show\n",
      "        all.\n",
      "    \n",
      "    \n",
      "     Parameters\n",
      "     ----------\n",
      "     frame : DataFrame\n",
      "         object to render\n",
      "    buf : StringIO-like, optional\n",
      "        buffer to write to\n",
      "    columns : sequence, optional\n",
      "        the subset of columns to write; default None writes all columns\n",
      "    col_space : int, optional\n",
      "        the minimum width of each column\n",
      "    header : bool, optional\n",
      "        whether to print column labels, default True\n",
      "    index : bool, optional\n",
      "        whether to print index (row) labels, default True\n",
      "    na_rep : string, optional\n",
      "        string representation of NAN to use, default 'NaN'\n",
      "    formatters : list or dict of one-parameter functions, optional\n",
      "        formatter functions to apply to columns' elements by position or name,\n",
      "        default None. The result of each function must be a unicode string.\n",
      "        List must be of length equal to the number of columns.\n",
      "    float_format : one-parameter function, optional\n",
      "        formatter function to apply to columns' elements if they are floats,\n",
      "        default None. The result of this function must be a unicode string.\n",
      "    sparsify : bool, optional\n",
      "        Set to False for a DataFrame with a hierarchical index to print every\n",
      "        multiindex key at each row, default True\n",
      "    justify : {'left', 'right'}, default None\n",
      "        Left or right-justify the column labels. If None uses the option from\n",
      "        the print configuration (controlled by set_option), 'right' out\n",
      "        of the box.\n",
      "    index_names : bool, optional\n",
      "        Prints the names of the indexes, default True\n",
      "    force_unicode : bool, default False\n",
      "        Always return a unicode result. Deprecated in v0.10.0 as string\n",
      "        formatting is now rendered to unicode by default.\n",
      "    \n",
      "    Returns\n",
      "    -------\n",
      "    formatted : string (or unicode, depending on data and options)\n",
      "\n"
     ]
    }
   ],
   "source": [
    "help (pd.DataFrame.to_html)"
   ]
  },
  {
   "cell_type": "code",
   "execution_count": null,
   "metadata": {
    "collapsed": true
   },
   "outputs": [],
   "source": []
  }
 ],
 "metadata": {
  "kernelspec": {
   "display_name": "Python 2",
   "language": "python",
   "name": "python2"
  },
  "language_info": {
   "codemirror_mode": {
    "name": "ipython",
    "version": 2
   },
   "file_extension": ".py",
   "mimetype": "text/x-python",
   "name": "python",
   "nbconvert_exporter": "python",
   "pygments_lexer": "ipython2",
   "version": "2.7.11"
  }
 },
 "nbformat": 4,
 "nbformat_minor": 0
}
