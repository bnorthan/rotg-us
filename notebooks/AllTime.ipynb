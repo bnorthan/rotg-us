{
 "cells": [
  {
   "cell_type": "code",
   "execution_count": 1,
   "metadata": {
    "collapsed": false
   },
   "outputs": [],
   "source": [
    "import pandas as pd\n",
    "import sys"
   ]
  },
  {
   "cell_type": "code",
   "execution_count": 24,
   "metadata": {
    "collapsed": false
   },
   "outputs": [],
   "source": [
    "rotg=[pd.read_fwf('../data/'+str(year)+'.txt') for year in range(2000,2016)]"
   ]
  },
  {
   "cell_type": "code",
   "execution_count": 25,
   "metadata": {
    "collapsed": false,
    "scrolled": true
   },
   "outputs": [
    {
     "name": "stdout",
     "output_type": "stream",
     "text": [
      "Index([u'PLACE', u'NAME', u'AGE', u'SEX', u'CITY', u'ST', u'TIME', u'PACE'], dtype='object')\n"
     ]
    },
    {
     "data": {
      "text/html": [
       "<div>\n",
       "<table border=\"1\" class=\"dataframe\">\n",
       "  <thead>\n",
       "    <tr style=\"text-align: right;\">\n",
       "      <th></th>\n",
       "      <th>PLACE</th>\n",
       "      <th>AGE</th>\n",
       "      <th>SEX</th>\n",
       "      <th>CITY</th>\n",
       "      <th>ST</th>\n",
       "      <th>TIME</th>\n",
       "      <th>PACE</th>\n",
       "      <th>FIRST_NAME</th>\n",
       "      <th>LAST_NAME</th>\n",
       "    </tr>\n",
       "  </thead>\n",
       "  <tbody>\n",
       "    <tr>\n",
       "      <th>0</th>\n",
       "      <td>1</td>\n",
       "      <td>22</td>\n",
       "      <td>M</td>\n",
       "      <td>Albany</td>\n",
       "      <td>NY</td>\n",
       "      <td>19:52</td>\n",
       "      <td>4:58</td>\n",
       "      <td>Jeffrey</td>\n",
       "      <td>Brooks</td>\n",
       "    </tr>\n",
       "    <tr>\n",
       "      <th>1</th>\n",
       "      <td>2</td>\n",
       "      <td>24</td>\n",
       "      <td>M</td>\n",
       "      <td>Albany</td>\n",
       "      <td>NY</td>\n",
       "      <td>19:56</td>\n",
       "      <td>4:59</td>\n",
       "      <td>Nick</td>\n",
       "      <td>Conway</td>\n",
       "    </tr>\n",
       "    <tr>\n",
       "      <th>2</th>\n",
       "      <td>3</td>\n",
       "      <td>23</td>\n",
       "      <td>M</td>\n",
       "      <td>Schenectady</td>\n",
       "      <td>NY</td>\n",
       "      <td>20:22</td>\n",
       "      <td>5:06</td>\n",
       "      <td>Peter</td>\n",
       "      <td>Flynn</td>\n",
       "    </tr>\n",
       "    <tr>\n",
       "      <th>3</th>\n",
       "      <td>4</td>\n",
       "      <td>19</td>\n",
       "      <td>M</td>\n",
       "      <td>Albany</td>\n",
       "      <td>NY</td>\n",
       "      <td>20:33</td>\n",
       "      <td>5:09</td>\n",
       "      <td>Jaime</td>\n",
       "      <td>Rodriguez</td>\n",
       "    </tr>\n",
       "    <tr>\n",
       "      <th>4</th>\n",
       "      <td>5</td>\n",
       "      <td>17</td>\n",
       "      <td>M</td>\n",
       "      <td>West Sand Lake</td>\n",
       "      <td>NY</td>\n",
       "      <td>21:08</td>\n",
       "      <td>5:17</td>\n",
       "      <td>Tyson</td>\n",
       "      <td>Evensen</td>\n",
       "    </tr>\n",
       "  </tbody>\n",
       "</table>\n",
       "</div>"
      ],
      "text/plain": [
       "   PLACE  AGE SEX            CITY  ST   TIME  PACE FIRST_NAME  LAST_NAME\n",
       "0      1   22   M          Albany  NY  19:52  4:58    Jeffrey     Brooks\n",
       "1      2   24   M          Albany  NY  19:56  4:59       Nick     Conway\n",
       "2      3   23   M     Schenectady  NY  20:22  5:06      Peter      Flynn\n",
       "3      4   19   M          Albany  NY  20:33  5:09      Jaime  Rodriguez\n",
       "4      5   17   M  West Sand Lake  NY  21:08  5:17      Tyson    Evensen"
      ]
     },
     "execution_count": 25,
     "metadata": {},
     "output_type": "execute_result"
    }
   ],
   "source": [
    "test=rotg[0]\n",
    "df = pd.DataFrame(test.NAME.str.split(' ',1).tolist(),\n",
    "                                   columns = ['FIRST_NAME','LAST_NAME'])\n",
    "\n",
    "print test.columns\n",
    "test=test.drop('NAME',1)\n",
    "test=test.join(df)\n",
    "\n",
    "test.head()\n",
    "\n"
   ]
  },
  {
   "cell_type": "code",
   "execution_count": 26,
   "metadata": {
    "collapsed": false
   },
   "outputs": [
    {
     "name": "stdout",
     "output_type": "stream",
     "text": [
      "Unexpected error: <type 'exceptions.AttributeError'>\n"
     ]
    },
    {
     "name": "stderr",
     "output_type": "stream",
     "text": [
      "/home/bnorthan/anaconda/lib/python2.7/site-packages/IPython/kernel/__main__.py:27: SettingWithCopyWarning: \n",
      "A value is trying to be set on a copy of a slice from a DataFrame.\n",
      "Try using .loc[row_indexer,col_indexer] = value instead\n",
      "\n",
      "See the the caveats in the documentation: http://pandas.pydata.org/pandas-docs/stable/indexing.html#indexing-view-versus-copy\n"
     ]
    }
   ],
   "source": [
    "master=pd.DataFrame()\n",
    "rotg2=[]\n",
    "i=0 \n",
    "year=2000\n",
    "\n",
    "for i in range(len(rotg)):\n",
    "    \n",
    "    try :\n",
    "        # handle NA\n",
    "        rotg[i].NAME=rotg[i].NAME.fillna('No Name')\n",
    "        rotg[i].ST=rotg[i].ST.fillna('NY')\n",
    "        rotg[i].CITY=rotg[i].CITY.fillna('Albany')\n",
    "        rotg[i].SEX=rotg[i].SEX.fillna('F')\n",
    "        rotg[i].TIME=rotg[i].TIME.fillna('59:21.5')\n",
    "        \n",
    "        temp = pd.DataFrame(rotg[i].NAME.str.split(' ',1).tolist(),\n",
    "                                   columns = ['FIRSTNAME','LASTNAME'])\n",
    "        \n",
    "\n",
    "        rotg[i]=rotg[i].drop('NAME',1)\n",
    "        rotg[i]=rotg[i].join(temp)\n",
    "        \n",
    "    except :\n",
    "        print \"Unexpected error:\", sys.exc_info()[0]\n",
    "        pass\n",
    "    newdf=rotg[i][['PLACE', 'FIRSTNAME', 'LASTNAME', 'AGE', 'SEX', 'CITY', 'ST', 'TIME']]\n",
    "    newdf['YEAR']=[year]*len(newdf.PLACE)\n",
    "    year=year+1\n",
    "    master=master.append(newdf)\n",
    "    i=i+1\n",
    "    "
   ]
  },
  {
   "cell_type": "code",
   "execution_count": 29,
   "metadata": {
    "collapsed": false
   },
   "outputs": [
    {
     "data": {
      "text/html": [
       "<div>\n",
       "<table border=\"1\" class=\"dataframe\">\n",
       "  <thead>\n",
       "    <tr style=\"text-align: right;\">\n",
       "      <th></th>\n",
       "      <th>PLACE</th>\n",
       "      <th>FIRSTNAME</th>\n",
       "      <th>LASTNAME</th>\n",
       "      <th>AGE</th>\n",
       "      <th>SEX</th>\n",
       "      <th>CITY</th>\n",
       "      <th>ST</th>\n",
       "      <th>TIME</th>\n",
       "      <th>YEAR</th>\n",
       "    </tr>\n",
       "  </thead>\n",
       "  <tbody>\n",
       "    <tr>\n",
       "      <th>0</th>\n",
       "      <td>1</td>\n",
       "      <td>Chris</td>\n",
       "      <td>Hartshorn</td>\n",
       "      <td>31</td>\n",
       "      <td>M</td>\n",
       "      <td>Scenectady</td>\n",
       "      <td>NY</td>\n",
       "      <td>19:36</td>\n",
       "      <td>2003</td>\n",
       "    </tr>\n",
       "    <tr>\n",
       "      <th>1</th>\n",
       "      <td>1</td>\n",
       "      <td>Andy</td>\n",
       "      <td>Allstadt</td>\n",
       "      <td>26</td>\n",
       "      <td>M</td>\n",
       "      <td>Albany</td>\n",
       "      <td>NY</td>\n",
       "      <td>19:37</td>\n",
       "      <td>2009</td>\n",
       "    </tr>\n",
       "    <tr>\n",
       "      <th>2</th>\n",
       "      <td>2</td>\n",
       "      <td>Jamie</td>\n",
       "      <td>Rodriguez</td>\n",
       "      <td>21</td>\n",
       "      <td>M</td>\n",
       "      <td>Albany</td>\n",
       "      <td>NY</td>\n",
       "      <td>19:43</td>\n",
       "      <td>2003</td>\n",
       "    </tr>\n",
       "    <tr>\n",
       "      <th>3</th>\n",
       "      <td>1</td>\n",
       "      <td>Nick</td>\n",
       "      <td>Conway</td>\n",
       "      <td>30</td>\n",
       "      <td>M</td>\n",
       "      <td>Albany</td>\n",
       "      <td>NY</td>\n",
       "      <td>19:45</td>\n",
       "      <td>2006</td>\n",
       "    </tr>\n",
       "    <tr>\n",
       "      <th>4</th>\n",
       "      <td>2</td>\n",
       "      <td>Chuck</td>\n",
       "      <td>Terry</td>\n",
       "      <td>26</td>\n",
       "      <td>M</td>\n",
       "      <td>Albany</td>\n",
       "      <td>NY</td>\n",
       "      <td>19:45</td>\n",
       "      <td>2009</td>\n",
       "    </tr>\n",
       "  </tbody>\n",
       "</table>\n",
       "</div>"
      ],
      "text/plain": [
       "   PLACE FIRSTNAME   LASTNAME  AGE SEX        CITY  ST   TIME  YEAR\n",
       "0      1     Chris  Hartshorn   31   M  Scenectady  NY  19:36  2003\n",
       "1      1      Andy   Allstadt   26   M      Albany  NY  19:37  2009\n",
       "2      2     Jamie  Rodriguez   21   M      Albany  NY  19:43  2003\n",
       "3      1      Nick     Conway   30   M      Albany  NY  19:45  2006\n",
       "4      2     Chuck      Terry   26   M      Albany  NY  19:45  2009"
      ]
     },
     "execution_count": 29,
     "metadata": {},
     "output_type": "execute_result"
    }
   ],
   "source": [
    "master=pd.read_csv('../output/alltime.csv')\n",
    "master.head()"
   ]
  },
  {
   "cell_type": "code",
   "execution_count": 30,
   "metadata": {
    "collapsed": false
   },
   "outputs": [],
   "source": [
    "master=master.reset_index(drop=True)"
   ]
  },
  {
   "cell_type": "code",
   "execution_count": 31,
   "metadata": {
    "collapsed": false
   },
   "outputs": [],
   "source": [
    "# hack?? erase number 213??\n",
    "master=master.drop(213)\n",
    "master=master.reset_index(drop=True)"
   ]
  },
  {
   "cell_type": "code",
   "execution_count": 25,
   "metadata": {
    "collapsed": false
   },
   "outputs": [
    {
     "data": {
      "text/html": [
       "<div>\n",
       "<table border=\"1\" class=\"dataframe\">\n",
       "  <thead>\n",
       "    <tr style=\"text-align: right;\">\n",
       "      <th></th>\n",
       "      <th>PLACE</th>\n",
       "      <th>FIRSTNAME</th>\n",
       "      <th>LASTNAME</th>\n",
       "      <th>AGE</th>\n",
       "      <th>SEX</th>\n",
       "      <th>CITY</th>\n",
       "      <th>ST</th>\n",
       "      <th>TIME</th>\n",
       "      <th>YEAR</th>\n",
       "      <th>TIMESTAMP</th>\n",
       "    </tr>\n",
       "  </thead>\n",
       "  <tbody>\n",
       "    <tr>\n",
       "      <th>0</th>\n",
       "      <td>1</td>\n",
       "      <td>Chris</td>\n",
       "      <td>Hartshorn</td>\n",
       "      <td>31</td>\n",
       "      <td>M</td>\n",
       "      <td>Scenectady</td>\n",
       "      <td>NY</td>\n",
       "      <td>19:36</td>\n",
       "      <td>2003</td>\n",
       "      <td>00:19:36</td>\n",
       "    </tr>\n",
       "    <tr>\n",
       "      <th>1</th>\n",
       "      <td>1</td>\n",
       "      <td>Andy</td>\n",
       "      <td>Allstadt</td>\n",
       "      <td>26</td>\n",
       "      <td>M</td>\n",
       "      <td>Albany</td>\n",
       "      <td>NY</td>\n",
       "      <td>19:37</td>\n",
       "      <td>2009</td>\n",
       "      <td>00:19:37</td>\n",
       "    </tr>\n",
       "    <tr>\n",
       "      <th>2</th>\n",
       "      <td>2</td>\n",
       "      <td>Jamie</td>\n",
       "      <td>Rodriguez</td>\n",
       "      <td>21</td>\n",
       "      <td>M</td>\n",
       "      <td>Albany</td>\n",
       "      <td>NY</td>\n",
       "      <td>19:43</td>\n",
       "      <td>2003</td>\n",
       "      <td>00:19:43</td>\n",
       "    </tr>\n",
       "    <tr>\n",
       "      <th>3</th>\n",
       "      <td>1</td>\n",
       "      <td>Nick</td>\n",
       "      <td>Conway</td>\n",
       "      <td>30</td>\n",
       "      <td>M</td>\n",
       "      <td>Albany</td>\n",
       "      <td>NY</td>\n",
       "      <td>19:45</td>\n",
       "      <td>2006</td>\n",
       "      <td>00:19:45</td>\n",
       "    </tr>\n",
       "    <tr>\n",
       "      <th>4</th>\n",
       "      <td>2</td>\n",
       "      <td>Chuck</td>\n",
       "      <td>Terry</td>\n",
       "      <td>26</td>\n",
       "      <td>M</td>\n",
       "      <td>Albany</td>\n",
       "      <td>NY</td>\n",
       "      <td>19:45</td>\n",
       "      <td>2009</td>\n",
       "      <td>00:19:45</td>\n",
       "    </tr>\n",
       "  </tbody>\n",
       "</table>\n",
       "</div>"
      ],
      "text/plain": [
       "   PLACE FIRSTNAME   LASTNAME  AGE SEX        CITY  ST   TIME  YEAR  TIMESTAMP\n",
       "0      1     Chris  Hartshorn   31   M  Scenectady  NY  19:36  2003   00:19:36\n",
       "1      1      Andy   Allstadt   26   M      Albany  NY  19:37  2009   00:19:37\n",
       "2      2     Jamie  Rodriguez   21   M      Albany  NY  19:43  2003   00:19:43\n",
       "3      1      Nick     Conway   30   M      Albany  NY  19:45  2006   00:19:45\n",
       "4      2     Chuck      Terry   26   M      Albany  NY  19:45  2009   00:19:45"
      ]
     },
     "execution_count": 25,
     "metadata": {},
     "output_type": "execute_result"
    }
   ],
   "source": [
    "# first strip minutes and seconds\n",
    "import datetime\n",
    "import numpy as np\n",
    "\n",
    "def convert(s): \n",
    "    try:\n",
    "        time=datetime.datetime.strptime(s,'%M:%S')\n",
    "    except:\n",
    "        time=datetime.datetime.strptime(s,'%M:%S.%f')\n",
    "    return time\n",
    "\n",
    "master['TIMESTAMP'] = master.TIME.apply(lambda x: convert(x))\n",
    "# create time delta by subtracting a base time\n",
    "master.TIMESTAMP=master.TIMESTAMP - datetime.datetime.strptime('00:00.0','%M:%S.%f')\n",
    "\n",
    "master.head()"
   ]
  },
  {
   "cell_type": "code",
   "execution_count": 32,
   "metadata": {
    "collapsed": false
   },
   "outputs": [],
   "source": [
    "# change times to timestamp\n",
    "new_time=[]\n",
    "for i in range(len(master.TIME)):\n",
    "    if len(master.TIME[i].split(':'))==2:\n",
    "        time_string='00:'+master.TIME[i]\n",
    "    else:\n",
    "        time_string=master.TIME[i]\n",
    "        \n",
    "    if (type(pd.to_datetime(time_string))!=pd.tslib.Timestamp):\n",
    "        time_stamp=pd.to_datetime('00:40:00')\n",
    "    else:\n",
    "        time_stamp=pd.to_datetime(time_string)\n",
    "    \n",
    "    new_time.append(time_stamp)\n",
    "\n",
    "master['TIMESTAMP']=new_time"
   ]
  },
  {
   "cell_type": "code",
   "execution_count": 33,
   "metadata": {
    "collapsed": false
   },
   "outputs": [
    {
     "name": "stdout",
     "output_type": "stream",
     "text": [
      "2016-03-18 00:19:36\n",
      "2016-03-18 00:59:21.500000\n",
      "6.0\n",
      "85.0\n",
      "19:36\n",
      "59:21.5\n",
      "3\n",
      "susan\n",
      "A Parente\n",
      "von Maltzahn\n",
      "inf\n",
      "VT\n",
      "inf\n",
      "wynantskill\n",
      "2000\n",
      "2016\n",
      "1\n",
      "659\n",
      "F\n",
      "M\n"
     ]
    }
   ],
   "source": [
    "# sanity check --> look at min and max of all fields\n",
    "\n",
    "print master.TIMESTAMP.min()\n",
    "print master.TIMESTAMP.max()\n",
    "\n",
    "print master.AGE.min()\n",
    "print master.AGE.max()\n",
    "\n",
    "print master.TIME.min()\n",
    "print master.TIME.max()\n",
    "\n",
    "print master.FIRSTNAME.min()\n",
    "print master.FIRSTNAME.max()\n",
    "\n",
    "print master.LASTNAME.min()\n",
    "print master.LASTNAME.max()\n",
    "\n",
    "print master.ST.min()\n",
    "print master.ST.max()\n",
    "\n",
    "print master.CITY.min()\n",
    "print master.CITY.max()\n",
    "\n",
    "print master.YEAR.min()\n",
    "print master.YEAR.max()\n",
    "\n",
    "print master.PLACE.min()\n",
    "print master.PLACE.max()\n",
    "\n",
    "print master.SEX.min()\n",
    "print master.SEX.max()\n",
    "\n",
    "\n",
    "#master=master.drop('ST',1)"
   ]
  },
  {
   "cell_type": "code",
   "execution_count": 34,
   "metadata": {
    "collapsed": false
   },
   "outputs": [
    {
     "data": {
      "text/html": [
       "<div>\n",
       "<table border=\"1\" class=\"dataframe\">\n",
       "  <thead>\n",
       "    <tr style=\"text-align: right;\">\n",
       "      <th></th>\n",
       "      <th>PLACE</th>\n",
       "      <th>FIRSTNAME</th>\n",
       "      <th>LASTNAME</th>\n",
       "      <th>AGE</th>\n",
       "      <th>SEX</th>\n",
       "      <th>CITY</th>\n",
       "      <th>ST</th>\n",
       "      <th>TIME</th>\n",
       "      <th>YEAR</th>\n",
       "      <th>TIMESTAMP</th>\n",
       "    </tr>\n",
       "  </thead>\n",
       "  <tbody>\n",
       "    <tr>\n",
       "      <th>0</th>\n",
       "      <td>1</td>\n",
       "      <td>Chris</td>\n",
       "      <td>Hartshorn</td>\n",
       "      <td>31</td>\n",
       "      <td>M</td>\n",
       "      <td>Scenectady</td>\n",
       "      <td>NY</td>\n",
       "      <td>19:36</td>\n",
       "      <td>2003</td>\n",
       "      <td>2016-03-18 00:19:36</td>\n",
       "    </tr>\n",
       "    <tr>\n",
       "      <th>1</th>\n",
       "      <td>1</td>\n",
       "      <td>Andy</td>\n",
       "      <td>Allstadt</td>\n",
       "      <td>26</td>\n",
       "      <td>M</td>\n",
       "      <td>Albany</td>\n",
       "      <td>NY</td>\n",
       "      <td>19:37</td>\n",
       "      <td>2009</td>\n",
       "      <td>2016-03-18 00:19:37</td>\n",
       "    </tr>\n",
       "    <tr>\n",
       "      <th>2</th>\n",
       "      <td>2</td>\n",
       "      <td>Jamie</td>\n",
       "      <td>Rodriguez</td>\n",
       "      <td>21</td>\n",
       "      <td>M</td>\n",
       "      <td>Albany</td>\n",
       "      <td>NY</td>\n",
       "      <td>19:43</td>\n",
       "      <td>2003</td>\n",
       "      <td>2016-03-18 00:19:43</td>\n",
       "    </tr>\n",
       "    <tr>\n",
       "      <th>3</th>\n",
       "      <td>1</td>\n",
       "      <td>Nick</td>\n",
       "      <td>Conway</td>\n",
       "      <td>30</td>\n",
       "      <td>M</td>\n",
       "      <td>Albany</td>\n",
       "      <td>NY</td>\n",
       "      <td>19:45</td>\n",
       "      <td>2006</td>\n",
       "      <td>2016-03-18 00:19:45</td>\n",
       "    </tr>\n",
       "    <tr>\n",
       "      <th>4</th>\n",
       "      <td>2</td>\n",
       "      <td>Chuck</td>\n",
       "      <td>Terry</td>\n",
       "      <td>26</td>\n",
       "      <td>M</td>\n",
       "      <td>Albany</td>\n",
       "      <td>NY</td>\n",
       "      <td>19:45</td>\n",
       "      <td>2009</td>\n",
       "      <td>2016-03-18 00:19:45</td>\n",
       "    </tr>\n",
       "  </tbody>\n",
       "</table>\n",
       "</div>"
      ],
      "text/plain": [
       "   PLACE FIRSTNAME   LASTNAME  AGE SEX        CITY  ST   TIME  YEAR  \\\n",
       "0      1     Chris  Hartshorn   31   M  Scenectady  NY  19:36  2003   \n",
       "1      1      Andy   Allstadt   26   M      Albany  NY  19:37  2009   \n",
       "2      2     Jamie  Rodriguez   21   M      Albany  NY  19:43  2003   \n",
       "3      1      Nick     Conway   30   M      Albany  NY  19:45  2006   \n",
       "4      2     Chuck      Terry   26   M      Albany  NY  19:45  2009   \n",
       "\n",
       "            TIMESTAMP  \n",
       "0 2016-03-18 00:19:36  \n",
       "1 2016-03-18 00:19:37  \n",
       "2 2016-03-18 00:19:43  \n",
       "3 2016-03-18 00:19:45  \n",
       "4 2016-03-18 00:19:45  "
      ]
     },
     "execution_count": 34,
     "metadata": {},
     "output_type": "execute_result"
    }
   ],
   "source": [
    "# sort by time\n",
    "master=master.sort('TIMESTAMP')\n",
    "master.head()"
   ]
  },
  {
   "cell_type": "code",
   "execution_count": 114,
   "metadata": {
    "collapsed": false
   },
   "outputs": [],
   "source": [
    "import numpy as np\n",
    "from bokeh.models import HoverTool\n",
    "from bokeh.models.widgets import Slider, Select, TextInput\n",
    "from bokeh.models import ColumnDataSource, HoverTool, HBox, VBoxForm\n",
    "from bokeh.io import curdoc\n",
    "\n",
    "from bokeh.plotting import Figure, ColumnDataSource, show, output_file\n",
    "\n",
    "output_file('../output/alltime.html',\"All Time ROTG Finishers\")\n",
    "\n",
    "min_year = Slider(title=\"Start Year\", start=2000, end=2015, value=2000, step=1)\n",
    "max_year = Slider(title=\"End Year\", start=2000, end=2015, value=2015, step=1)\n",
    "\n",
    "master[\"color\"] = np.where(master[\"SEX\"] == 'F', \"red\", \"blue\")\n",
    "\n",
    "p = Figure(plot_width=1400, plot_height=800, y_axis_type='datetime')\n",
    "\n",
    "source = ColumnDataSource(data=master)\n",
    "#source=ColumnDataSource(data=master)\n",
    "\n",
    "s1=p.scatter('AGE', 'TIMESTAMP', source =  source, color=master.color, size=15, alpha=0.5)\n",
    "\n",
    "hover = HoverTool()\n",
    "hover.tooltips = [('First Name', '@FIRSTNAME'), ('Last Name', '@LASTNAME'), ('Time', '@TIME'), ('Year', '@YEAR'), ('Age', '@AGE')]\n",
    "p.add_tools(hover)\n",
    "\n",
    "p.title=\"Runnin' of the Green All Time Finishers\"\n",
    "p.xaxis.axis_label=\"Age\"\n",
    "p.yaxis.axis_label=\"Time\"\n",
    "\n",
    "#controls = [min_year, max_year]\n",
    "#for control in controls:\n",
    "#    control.on_change('value', update)\n",
    "\n",
    "    \n",
    "#inputs = HBox(VBoxForm(*controls), width=300)\n",
    "#update(None, None, None) # initial load of the data\n",
    "#curdoc().add_root(inputs)\n",
    "#curdoc().add_root(HBox(inputs, p, width=1100))\n",
    "#curdoc().add_root(p)\n",
    "\n",
    "show(p)"
   ]
  },
  {
   "cell_type": "code",
   "execution_count": 83,
   "metadata": {
    "collapsed": false
   },
   "outputs": [],
   "source": [
    "malerecords=pd.DataFrame()\n",
    "femalerecords=pd.DataFrame()\n",
    "\n",
    "for age in range(1,90):\n",
    "    \n",
    "    males=master[(master.AGE==age)&(master.SEX=='M')].sort('TIMESTAMP')\n",
    "    females=master[(master.AGE==age)&(master.SEX=='F')].sort('TIMESTAMP')\n",
    "    \n",
    "    if males.shape[0]>0:\n",
    "        malerecords=malerecords.append(males.iloc[0])\n",
    "    \n",
    "    if females.shape[0]>0:    \n",
    "        femalerecords=femalerecords.append(females.iloc[0])\n",
    "    \n",
    "    #if (aged.shape[0]>0):\n",
    "    #    ager=aged.iloc[0]\n",
    "    #    print age,\":\",ager.FIRSTNAME,ager.LASTNAME,ager.TIME,ager.YEAR"
   ]
  },
  {
   "cell_type": "code",
   "execution_count": 111,
   "metadata": {
    "collapsed": false
   },
   "outputs": [
    {
     "data": {
      "image/png": "[encoded data removed]",
      "text/plain": [
       "<matplotlib.figure.Figure at 0x7fab535f3e90>"
      ]
     },
     "metadata": {},
     "output_type": "display_data"
    }
   ],
   "source": [
    "import matplotlib.pyplot as plt\n",
    "%matplotlib inline\n",
    "\n",
    "fig=plt.figure(figsize=(20,8))\n",
    "ax = fig.add_subplot(111)\n",
    "\n",
    "ax.plot(malerecords.AGE, malerecords.TIMESTAMP, label='Males')\n",
    "ax.plot(femalerecords.AGE, femalerecords.TIMESTAMP, color='g', label='Females')\n",
    "\n",
    "ax.set_title('Record Time vs Age')\n",
    "ax.set_ylabel('Record Time')\n",
    "ax.set_xlabel('Age')\n",
    "\n",
    "legend = ax.legend(loc='upper center', shadow=True)\n"
   ]
  },
  {
   "cell_type": "code",
   "execution_count": 104,
   "metadata": {
    "collapsed": false
   },
   "outputs": [],
   "source": [
    "joined=pd.merge(malerecords[['FIRSTNAME','LASTNAME','AGE','TIME']], femalerecords[['FIRSTNAME','LASTNAME','AGE','TIME']], on='AGE', how='outer')\n",
    "\n",
    "joined.columns = ['male-First', 'male-Last', 'Age', 'male-Record','female-First', 'female-Last', 'female-Record']\n",
    "\n",
    "joined = joined[['Age','male-First', 'male-Last', 'male-Record','female-First', 'female-Last', 'female-Record']]\n",
    "joined=joined.sort('Age')"
   ]
  },
  {
   "cell_type": "code",
   "execution_count": 113,
   "metadata": {
    "collapsed": false
   },
   "outputs": [],
   "source": [
    "f = open('../output/alltimetable.html','w')\n",
    "\n",
    "message = \"\"\"<html>\n",
    "<head>\n",
    "    <meta charset=\"utf-8\">\n",
    "    <meta http-equiv=\"X-UA-Compatible\" content=\"chrome=1\">\n",
    "    <title>Runnin' of the Green: Records by age</title>\n",
    "\n",
    "    <link rel=\"stylesheet\" href=\"stylesheets/styles.css\">\n",
    "    <link rel=\"stylesheet\" href=\"stylesheets/github-light.css\">\n",
    "    <meta name=\"viewport\" content=\"width=device-width\">\n",
    "    <!--[if lt IE 9]>\n",
    "    <script src=\"//html5shiv.googlecode.com/svn/trunk/html5.js\"></script>\n",
    "    <![endif]-->\n",
    "  </head>\n",
    "<body><h1>Runnin' of the Green Records by Age</h1>\"\"\"\n",
    "\n",
    "message=message+\"\"\"<div style=\"text-align: center; width: 100%; border: 1px solid black;\"><img src='alltime.png'></div><br><br>\"\"\"\n",
    "\n",
    "message=message+joined.to_html(index=False)\n",
    "\n",
    "message=message+\"\"\"</body></html>\"\"\"\n",
    "\n",
    "f.write(message)\n",
    "f.close()"
   ]
  },
  {
   "cell_type": "code",
   "execution_count": 71,
   "metadata": {
    "collapsed": false
   },
   "outputs": [],
   "source": [
    "### Scraps --> Trying for interactive plot --> revisit\n",
    "\n",
    "def update(attrname, old, new):\n",
    "    df = select_runners()\n",
    "    \n",
    "    source.data = dict(\n",
    "        x=df['AGE'],\n",
    "        y=df['TIMESTAMP'],\n",
    "        year=df[\"YEAR\"])\n",
    "        \n",
    "    "
   ]
  },
  {
   "cell_type": "code",
   "execution_count": null,
   "metadata": {
    "collapsed": false
   },
   "outputs": [],
   "source": [
    "### Scraps --> Trying for interactive plot --> revisit\n",
    "\n",
    "import numpy as np\n",
    "from bokeh.models import HoverTool\n",
    "from bokeh.models.widgets import Slider, Select, TextInput\n",
    "from bokeh.models import ColumnDataSource, HoverTool, HBox, VBoxForm\n",
    "from bokeh.io import curdoc\n",
    "\n",
    "from bokeh.plotting import Figure, ColumnDataSource, show, output_file\n",
    "\n",
    "output_file('best.html',\"test\")\n",
    "\n",
    "min_year = Slider(title=\"Year released\", start=2000, end=2015, value=2000, step=1)\n",
    "max_year = Slider(title=\"End Year released\", start=2000, end=2015, value=2015, step=1)\n",
    "\n",
    "p = Figure(plot_width=1400, plot_height=800)\n",
    "\n",
    "x=[1,2,3]\n",
    "y=[1,2,3]\n",
    "\n",
    "s1=p.circle(x, y)\n",
    "\n",
    "curdoc().add_root(p)\n",
    "\n",
    "#show(p)"
   ]
  },
  {
   "cell_type": "code",
   "execution_count": null,
   "metadata": {
    "collapsed": true
   },
   "outputs": [],
   "source": []
  }
 ],
 "metadata": {
  "kernelspec": {
   "display_name": "Python 2",
   "language": "python",
   "name": "python2"
  },
  "language_info": {
   "codemirror_mode": {
    "name": "ipython",
    "version": 2
   },
   "file_extension": ".py",
   "mimetype": "text/x-python",
   "name": "python",
   "nbconvert_exporter": "python",
   "pygments_lexer": "ipython2",
   "version": "2.7.11"
  }
 },
 "nbformat": 4,
 "nbformat_minor": 0
}
