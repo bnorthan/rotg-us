{
 "cells": [
  {
   "cell_type": "code",
   "execution_count": 23,
   "metadata": {
    "collapsed": false
   },
   "outputs": [],
   "source": [
    "import pandas as pd\n",
    "import sys"
   ]
  },
  {
   "cell_type": "code",
   "execution_count": 24,
   "metadata": {
    "collapsed": false
   },
   "outputs": [],
   "source": [
    "rotg=[pd.read_fwf('../data/'+str(year)+'.txt') for year in range(2000,2016)]"
   ]
  },
  {
   "cell_type": "code",
   "execution_count": 25,
   "metadata": {
    "collapsed": false,
    "scrolled": true
   },
   "outputs": [
    {
     "name": "stdout",
     "output_type": "stream",
     "text": [
      "Index([u'PLACE', u'NAME', u'AGE', u'SEX', u'CITY', u'ST', u'TIME', u'PACE'], dtype='object')\n"
     ]
    },
    {
     "data": {
      "text/html": [
       "<div>\n",
       "<table border=\"1\" class=\"dataframe\">\n",
       "  <thead>\n",
       "    <tr style=\"text-align: right;\">\n",
       "      <th></th>\n",
       "      <th>PLACE</th>\n",
       "      <th>AGE</th>\n",
       "      <th>SEX</th>\n",
       "      <th>CITY</th>\n",
       "      <th>ST</th>\n",
       "      <th>TIME</th>\n",
       "      <th>PACE</th>\n",
       "      <th>FIRST_NAME</th>\n",
       "      <th>LAST_NAME</th>\n",
       "    </tr>\n",
       "  </thead>\n",
       "  <tbody>\n",
       "    <tr>\n",
       "      <th>0</th>\n",
       "      <td>1</td>\n",
       "      <td>22</td>\n",
       "      <td>M</td>\n",
       "      <td>Albany</td>\n",
       "      <td>NY</td>\n",
       "      <td>19:52</td>\n",
       "      <td>4:58</td>\n",
       "      <td>Jeffrey</td>\n",
       "      <td>Brooks</td>\n",
       "    </tr>\n",
       "    <tr>\n",
       "      <th>1</th>\n",
       "      <td>2</td>\n",
       "      <td>24</td>\n",
       "      <td>M</td>\n",
       "      <td>Albany</td>\n",
       "      <td>NY</td>\n",
       "      <td>19:56</td>\n",
       "      <td>4:59</td>\n",
       "      <td>Nick</td>\n",
       "      <td>Conway</td>\n",
       "    </tr>\n",
       "    <tr>\n",
       "      <th>2</th>\n",
       "      <td>3</td>\n",
       "      <td>23</td>\n",
       "      <td>M</td>\n",
       "      <td>Schenectady</td>\n",
       "      <td>NY</td>\n",
       "      <td>20:22</td>\n",
       "      <td>5:06</td>\n",
       "      <td>Peter</td>\n",
       "      <td>Flynn</td>\n",
       "    </tr>\n",
       "    <tr>\n",
       "      <th>3</th>\n",
       "      <td>4</td>\n",
       "      <td>19</td>\n",
       "      <td>M</td>\n",
       "      <td>Albany</td>\n",
       "      <td>NY</td>\n",
       "      <td>20:33</td>\n",
       "      <td>5:09</td>\n",
       "      <td>Jaime</td>\n",
       "      <td>Rodriguez</td>\n",
       "    </tr>\n",
       "    <tr>\n",
       "      <th>4</th>\n",
       "      <td>5</td>\n",
       "      <td>17</td>\n",
       "      <td>M</td>\n",
       "      <td>West Sand Lake</td>\n",
       "      <td>NY</td>\n",
       "      <td>21:08</td>\n",
       "      <td>5:17</td>\n",
       "      <td>Tyson</td>\n",
       "      <td>Evensen</td>\n",
       "    </tr>\n",
       "  </tbody>\n",
       "</table>\n",
       "</div>"
      ],
      "text/plain": [
       "   PLACE  AGE SEX            CITY  ST   TIME  PACE FIRST_NAME  LAST_NAME\n",
       "0      1   22   M          Albany  NY  19:52  4:58    Jeffrey     Brooks\n",
       "1      2   24   M          Albany  NY  19:56  4:59       Nick     Conway\n",
       "2      3   23   M     Schenectady  NY  20:22  5:06      Peter      Flynn\n",
       "3      4   19   M          Albany  NY  20:33  5:09      Jaime  Rodriguez\n",
       "4      5   17   M  West Sand Lake  NY  21:08  5:17      Tyson    Evensen"
      ]
     },
     "execution_count": 25,
     "metadata": {},
     "output_type": "execute_result"
    }
   ],
   "source": [
    "test=rotg[0]\n",
    "df = pd.DataFrame(test.NAME.str.split(' ',1).tolist(),\n",
    "                                   columns = ['FIRST_NAME','LAST_NAME'])\n",
    "\n",
    "print test.columns\n",
    "test=test.drop('NAME',1)\n",
    "test=test.join(df)\n",
    "\n",
    "test.head()\n",
    "\n"
   ]
  },
  {
   "cell_type": "code",
   "execution_count": 26,
   "metadata": {
    "collapsed": false
   },
   "outputs": [
    {
     "name": "stdout",
     "output_type": "stream",
     "text": [
      "Unexpected error: <type 'exceptions.AttributeError'>\n"
     ]
    },
    {
     "name": "stderr",
     "output_type": "stream",
     "text": [
      "/home/bnorthan/anaconda/lib/python2.7/site-packages/IPython/kernel/__main__.py:27: SettingWithCopyWarning: \n",
      "A value is trying to be set on a copy of a slice from a DataFrame.\n",
      "Try using .loc[row_indexer,col_indexer] = value instead\n",
      "\n",
      "See the the caveats in the documentation: http://pandas.pydata.org/pandas-docs/stable/indexing.html#indexing-view-versus-copy\n"
     ]
    }
   ],
   "source": [
    "master=pd.DataFrame()\n",
    "rotg2=[]\n",
    "i=0 \n",
    "year=2000\n",
    "\n",
    "for i in range(len(rotg)):\n",
    "    \n",
    "    try :\n",
    "        # handle NA\n",
    "        rotg[i].NAME=rotg[i].NAME.fillna('No Name')\n",
    "        rotg[i].ST=rotg[i].ST.fillna('NY')\n",
    "        rotg[i].CITY=rotg[i].CITY.fillna('Albany')\n",
    "        rotg[i].SEX=rotg[i].SEX.fillna('F')\n",
    "        rotg[i].TIME=rotg[i].TIME.fillna('59:21.5')\n",
    "        \n",
    "        temp = pd.DataFrame(rotg[i].NAME.str.split(' ',1).tolist(),\n",
    "                                   columns = ['FIRSTNAME','LASTNAME'])\n",
    "        \n",
    "\n",
    "        rotg[i]=rotg[i].drop('NAME',1)\n",
    "        rotg[i]=rotg[i].join(temp)\n",
    "        \n",
    "    except :\n",
    "        print \"Unexpected error:\", sys.exc_info()[0]\n",
    "        pass\n",
    "    newdf=rotg[i][['PLACE', 'FIRSTNAME', 'LASTNAME', 'AGE', 'SEX', 'CITY', 'ST', 'TIME']]\n",
    "    newdf['YEAR']=[year]*len(newdf.PLACE)\n",
    "    year=year+1\n",
    "    master=master.append(newdf)\n",
    "    i=i+1\n",
    "    "
   ]
  },
  {
   "cell_type": "code",
   "execution_count": 27,
   "metadata": {
    "collapsed": false
   },
   "outputs": [
    {
     "data": {
      "text/html": [
       "<div>\n",
       "<table border=\"1\" class=\"dataframe\">\n",
       "  <thead>\n",
       "    <tr style=\"text-align: right;\">\n",
       "      <th></th>\n",
       "      <th>PLACE</th>\n",
       "      <th>FIRSTNAME</th>\n",
       "      <th>LASTNAME</th>\n",
       "      <th>AGE</th>\n",
       "      <th>SEX</th>\n",
       "      <th>CITY</th>\n",
       "      <th>ST</th>\n",
       "      <th>TIME</th>\n",
       "      <th>YEAR</th>\n",
       "    </tr>\n",
       "  </thead>\n",
       "  <tbody>\n",
       "    <tr>\n",
       "      <th>0</th>\n",
       "      <td>1</td>\n",
       "      <td>Jeffrey</td>\n",
       "      <td>Brooks</td>\n",
       "      <td>22</td>\n",
       "      <td>M</td>\n",
       "      <td>Albany</td>\n",
       "      <td>NY</td>\n",
       "      <td>19:52</td>\n",
       "      <td>2000</td>\n",
       "    </tr>\n",
       "    <tr>\n",
       "      <th>1</th>\n",
       "      <td>2</td>\n",
       "      <td>Nick</td>\n",
       "      <td>Conway</td>\n",
       "      <td>24</td>\n",
       "      <td>M</td>\n",
       "      <td>Albany</td>\n",
       "      <td>NY</td>\n",
       "      <td>19:56</td>\n",
       "      <td>2000</td>\n",
       "    </tr>\n",
       "    <tr>\n",
       "      <th>2</th>\n",
       "      <td>3</td>\n",
       "      <td>Peter</td>\n",
       "      <td>Flynn</td>\n",
       "      <td>23</td>\n",
       "      <td>M</td>\n",
       "      <td>Schenectady</td>\n",
       "      <td>NY</td>\n",
       "      <td>20:22</td>\n",
       "      <td>2000</td>\n",
       "    </tr>\n",
       "    <tr>\n",
       "      <th>3</th>\n",
       "      <td>4</td>\n",
       "      <td>Jaime</td>\n",
       "      <td>Rodriguez</td>\n",
       "      <td>19</td>\n",
       "      <td>M</td>\n",
       "      <td>Albany</td>\n",
       "      <td>NY</td>\n",
       "      <td>20:33</td>\n",
       "      <td>2000</td>\n",
       "    </tr>\n",
       "    <tr>\n",
       "      <th>4</th>\n",
       "      <td>5</td>\n",
       "      <td>Tyson</td>\n",
       "      <td>Evensen</td>\n",
       "      <td>17</td>\n",
       "      <td>M</td>\n",
       "      <td>West Sand Lake</td>\n",
       "      <td>NY</td>\n",
       "      <td>21:08</td>\n",
       "      <td>2000</td>\n",
       "    </tr>\n",
       "  </tbody>\n",
       "</table>\n",
       "</div>"
      ],
      "text/plain": [
       "   PLACE FIRSTNAME   LASTNAME  AGE SEX            CITY  ST   TIME  YEAR\n",
       "0      1   Jeffrey     Brooks   22   M          Albany  NY  19:52  2000\n",
       "1      2      Nick     Conway   24   M          Albany  NY  19:56  2000\n",
       "2      3     Peter      Flynn   23   M     Schenectady  NY  20:22  2000\n",
       "3      4     Jaime  Rodriguez   19   M          Albany  NY  20:33  2000\n",
       "4      5     Tyson    Evensen   17   M  West Sand Lake  NY  21:08  2000"
      ]
     },
     "execution_count": 27,
     "metadata": {},
     "output_type": "execute_result"
    }
   ],
   "source": [
    "master.head()"
   ]
  },
  {
   "cell_type": "code",
   "execution_count": 28,
   "metadata": {
    "collapsed": false
   },
   "outputs": [],
   "source": [
    "master=master.reset_index(drop=True)"
   ]
  },
  {
   "cell_type": "code",
   "execution_count": 29,
   "metadata": {
    "collapsed": false
   },
   "outputs": [],
   "source": [
    "# hack?? erase number 213??\n",
    "master=master.drop(213)\n",
    "master=master.reset_index(drop=True)"
   ]
  },
  {
   "cell_type": "code",
   "execution_count": 30,
   "metadata": {
    "collapsed": true
   },
   "outputs": [],
   "source": [
    "master.to_csv('../output/temp.csv', index=False)"
   ]
  },
  {
   "cell_type": "code",
   "execution_count": 9,
   "metadata": {
    "collapsed": false
   },
   "outputs": [],
   "source": [
    "# change times to timestamp\n",
    "new_time=[]\n",
    "for i in range(len(master.TIME)):\n",
    "    if len(master.TIME[i].split(':'))==2:\n",
    "        time_string='00:'+master.TIME[i]\n",
    "    else:\n",
    "        time_string=master.TIME[i]\n",
    "        \n",
    "    if (type(pd.to_datetime(time_string))!=pd.tslib.Timestamp):\n",
    "        time_stamp=pd.to_datetime('00:40:00')\n",
    "    else:\n",
    "        time_stamp=pd.to_datetime(time_string)\n",
    "    \n",
    "    new_time.append(time_stamp)\n",
    "\n",
    "master['TIMESTAMP']=new_time"
   ]
  },
  {
   "cell_type": "code",
   "execution_count": 11,
   "metadata": {
    "collapsed": false
   },
   "outputs": [
    {
     "name": "stdout",
     "output_type": "stream",
     "text": [
      "2016-03-17 00:19:36\n",
      "2016-03-17 01:05:22\n",
      "6.0\n",
      "85.0\n",
      "19:36\n",
      "59:21.5\n",
      "3\n",
      "susan\n",
      "A Parente\n",
      "von Maltzahn\n",
      "3 Ray Lee Jr.\n",
      "susan finlayson\n",
      "314 Princetown\n",
      "wynantskill\n",
      "2000\n",
      "2015\n",
      "1\n",
      "663\n",
      "F\n",
      "M\n"
     ]
    }
   ],
   "source": [
    "# sanity check --> look at min and max of all fields\n",
    "\n",
    "print master.TIMESTAMP.min()\n",
    "print master.TIMESTAMP.max()\n",
    "\n",
    "print master.AGE.min()\n",
    "print master.AGE.max()\n",
    "\n",
    "print master.TIME.min()\n",
    "print master.TIME.max()\n",
    "\n",
    "print master.FIRSTNAME.min()\n",
    "print master.FIRSTNAME.max()\n",
    "\n",
    "print master.LASTNAME.min()\n",
    "print master.LASTNAME.max()\n",
    "\n",
    "print master.ST.min()\n",
    "print master.ST.max()\n",
    "\n",
    "print master.CITY.min()\n",
    "print master.CITY.max()\n",
    "\n",
    "print master.YEAR.min()\n",
    "print master.YEAR.max()\n",
    "\n",
    "print master.PLACE.min()\n",
    "print master.PLACE.max()\n",
    "\n",
    "print master.SEX.min()\n",
    "print master.SEX.max()\n",
    "\n",
    "\n",
    "#master=master.drop('ST',1)"
   ]
  },
  {
   "cell_type": "code",
   "execution_count": 12,
   "metadata": {
    "collapsed": false
   },
   "outputs": [
    {
     "data": {
      "text/html": [
       "<div>\n",
       "<table border=\"1\" class=\"dataframe\">\n",
       "  <thead>\n",
       "    <tr style=\"text-align: right;\">\n",
       "      <th></th>\n",
       "      <th>PLACE</th>\n",
       "      <th>FIRSTNAME</th>\n",
       "      <th>LASTNAME</th>\n",
       "      <th>AGE</th>\n",
       "      <th>SEX</th>\n",
       "      <th>CITY</th>\n",
       "      <th>ST</th>\n",
       "      <th>TIME</th>\n",
       "      <th>YEAR</th>\n",
       "      <th>TIMESTAMP</th>\n",
       "    </tr>\n",
       "  </thead>\n",
       "  <tbody>\n",
       "    <tr>\n",
       "      <th>756</th>\n",
       "      <td>1</td>\n",
       "      <td>Chris</td>\n",
       "      <td>Hartshorn</td>\n",
       "      <td>31</td>\n",
       "      <td>M</td>\n",
       "      <td>Scenectady</td>\n",
       "      <td>Chris Hartshorn</td>\n",
       "      <td>19:36</td>\n",
       "      <td>2003</td>\n",
       "      <td>2016-03-17 00:19:36</td>\n",
       "    </tr>\n",
       "    <tr>\n",
       "      <th>2761</th>\n",
       "      <td>1</td>\n",
       "      <td>Andy</td>\n",
       "      <td>Allstadt</td>\n",
       "      <td>26</td>\n",
       "      <td>M</td>\n",
       "      <td>Albany</td>\n",
       "      <td>Andy Allstadt</td>\n",
       "      <td>19:37</td>\n",
       "      <td>2009</td>\n",
       "      <td>2016-03-17 00:19:37</td>\n",
       "    </tr>\n",
       "    <tr>\n",
       "      <th>757</th>\n",
       "      <td>2</td>\n",
       "      <td>Jamie</td>\n",
       "      <td>Rodriguez</td>\n",
       "      <td>21</td>\n",
       "      <td>M</td>\n",
       "      <td>Albany</td>\n",
       "      <td>Jamie Rodriguez</td>\n",
       "      <td>19:43</td>\n",
       "      <td>2003</td>\n",
       "      <td>2016-03-17 00:19:43</td>\n",
       "    </tr>\n",
       "    <tr>\n",
       "      <th>2762</th>\n",
       "      <td>2</td>\n",
       "      <td>Chuck</td>\n",
       "      <td>Terry</td>\n",
       "      <td>26</td>\n",
       "      <td>M</td>\n",
       "      <td>Albany</td>\n",
       "      <td>Chuck Terry</td>\n",
       "      <td>19:45</td>\n",
       "      <td>2009</td>\n",
       "      <td>2016-03-17 00:19:45</td>\n",
       "    </tr>\n",
       "    <tr>\n",
       "      <th>1588</th>\n",
       "      <td>1</td>\n",
       "      <td>Nick</td>\n",
       "      <td>Conway</td>\n",
       "      <td>30</td>\n",
       "      <td>M</td>\n",
       "      <td>Albany</td>\n",
       "      <td>Nick Conway</td>\n",
       "      <td>19:45</td>\n",
       "      <td>2006</td>\n",
       "      <td>2016-03-17 00:19:45</td>\n",
       "    </tr>\n",
       "  </tbody>\n",
       "</table>\n",
       "</div>"
      ],
      "text/plain": [
       "      PLACE FIRSTNAME   LASTNAME  AGE SEX        CITY               ST   TIME  \\\n",
       "756       1     Chris  Hartshorn   31   M  Scenectady  Chris Hartshorn  19:36   \n",
       "2761      1      Andy   Allstadt   26   M      Albany    Andy Allstadt  19:37   \n",
       "757       2     Jamie  Rodriguez   21   M      Albany  Jamie Rodriguez  19:43   \n",
       "2762      2     Chuck      Terry   26   M      Albany      Chuck Terry  19:45   \n",
       "1588      1      Nick     Conway   30   M      Albany      Nick Conway  19:45   \n",
       "\n",
       "      YEAR           TIMESTAMP  \n",
       "756   2003 2016-03-17 00:19:36  \n",
       "2761  2009 2016-03-17 00:19:37  \n",
       "757   2003 2016-03-17 00:19:43  \n",
       "2762  2009 2016-03-17 00:19:45  \n",
       "1588  2006 2016-03-17 00:19:45  "
      ]
     },
     "execution_count": 12,
     "metadata": {},
     "output_type": "execute_result"
    }
   ],
   "source": [
    "# sort by time\n",
    "master=master.sort('TIMESTAMP')\n",
    "master.head()"
   ]
  },
  {
   "cell_type": "code",
   "execution_count": 13,
   "metadata": {
    "collapsed": false
   },
   "outputs": [],
   "source": [
    "import numpy as np\n",
    "from bokeh.models import HoverTool\n",
    "from bokeh.models.widgets import Slider, Select, TextInput\n",
    "from bokeh.models import ColumnDataSource, HoverTool, HBox, VBoxForm\n",
    "from bokeh.io import curdoc\n",
    "\n",
    "from bokeh.plotting import Figure, ColumnDataSource, show, output_file\n",
    "\n",
    "output_file('alltime.html',\"All Time ROTG Finishers\")\n",
    "\n",
    "min_year = Slider(title=\"Start Year\", start=2000, end=2015, value=2000, step=1)\n",
    "max_year = Slider(title=\"End Year\", start=2000, end=2015, value=2015, step=1)\n",
    "\n",
    "master[\"color\"] = np.where(master[\"SEX\"] == 'F', \"red\", \"blue\")\n",
    "\n",
    "p = Figure(plot_width=1400, plot_height=800, y_axis_type='datetime')\n",
    "\n",
    "source = ColumnDataSource(data=master)\n",
    "#source=ColumnDataSource(data=master)\n",
    "\n",
    "s1=p.scatter('AGE', 'TIMESTAMP', source =  source, color=master.color, size=15, alpha=0.5)\n",
    "\n",
    "hover = HoverTool()\n",
    "hover.tooltips = [('First Name', '@FIRSTNAME'), ('Last Name', '@LASTNAME'), ('Time', '@TIME'), ('Year', '@YEAR')]\n",
    "p.add_tools(hover)\n",
    "\n",
    "p.title=\"Runnin' of the Green All Time Finishers\"\n",
    "p.xaxis.axis_label=\"Age\"\n",
    "p.yaxis.axis_label=\"Time\"\n",
    "\n",
    "#controls = [min_year, max_year]\n",
    "#for control in controls:\n",
    "#    control.on_change('value', update)\n",
    "\n",
    "    \n",
    "#inputs = HBox(VBoxForm(*controls), width=300)\n",
    "#update(None, None, None) # initial load of the data\n",
    "#curdoc().add_root(inputs)\n",
    "#curdoc().add_root(HBox(inputs, p, width=1100))\n",
    "#curdoc().add_root(p)\n",
    "\n",
    "show(p)"
   ]
  },
  {
   "cell_type": "code",
   "execution_count": 70,
   "metadata": {
    "collapsed": true
   },
   "outputs": [],
   "source": [
    "### Scraps --> Trying for interactive plot --> revisit\n",
    "\n",
    "def select_runners():\n",
    "    #genre_val = genre.value\n",
    "    #director_val = director.value.strip()\n",
    "    #cast_val = cast.value.strip()\n",
    "    selected = master[\n",
    "        (master.YEAR >= min_year.value) &\n",
    "        (master.YEAR <= max_year.value) \n",
    "    ]\n",
    "    \n",
    "    '''\n",
    "    if (genre_val != \"All\"):\n",
    "        selected = selected[selected.Genre.str.contains(genre_val)==True]\n",
    "    if (director_val != \"\"):\n",
    "        selected = selected[selected.Director.str.contains(director_val)==True]\n",
    "    if (cast_val != \"\"):\n",
    "        selected = selected[selected.Cast.str.contains(cast_val)==True]\n",
    "    '''\n",
    "    return selected\n",
    "    "
   ]
  },
  {
   "cell_type": "code",
   "execution_count": 71,
   "metadata": {
    "collapsed": false
   },
   "outputs": [],
   "source": [
    "### Scraps --> Trying for interactive plot --> revisit\n",
    "\n",
    "def update(attrname, old, new):\n",
    "    df = select_runners()\n",
    "    \n",
    "    source.data = dict(\n",
    "        x=df['AGE'],\n",
    "        y=df['TIMESTAMP'],\n",
    "        year=df[\"YEAR\"])\n",
    "        \n",
    "    "
   ]
  },
  {
   "cell_type": "code",
   "execution_count": null,
   "metadata": {
    "collapsed": false
   },
   "outputs": [],
   "source": [
    "### Scraps --> Trying for interactive plot --> revisit\n",
    "\n",
    "import numpy as np\n",
    "from bokeh.models import HoverTool\n",
    "from bokeh.models.widgets import Slider, Select, TextInput\n",
    "from bokeh.models import ColumnDataSource, HoverTool, HBox, VBoxForm\n",
    "from bokeh.io import curdoc\n",
    "\n",
    "from bokeh.plotting import Figure, ColumnDataSource, show, output_file\n",
    "\n",
    "output_file('best.html',\"test\")\n",
    "\n",
    "min_year = Slider(title=\"Year released\", start=2000, end=2015, value=2000, step=1)\n",
    "max_year = Slider(title=\"End Year released\", start=2000, end=2015, value=2015, step=1)\n",
    "\n",
    "p = Figure(plot_width=1400, plot_height=800)\n",
    "\n",
    "x=[1,2,3]\n",
    "y=[1,2,3]\n",
    "\n",
    "s1=p.circle(x, y)\n",
    "\n",
    "curdoc().add_root(p)\n",
    "\n",
    "#show(p)"
   ]
  },
  {
   "cell_type": "code",
   "execution_count": null,
   "metadata": {
    "collapsed": true
   },
   "outputs": [],
   "source": []
  }
 ],
 "metadata": {
  "kernelspec": {
   "display_name": "Python 2",
   "language": "python",
   "name": "python2"
  },
  "language_info": {
   "codemirror_mode": {
    "name": "ipython",
    "version": 2
   },
   "file_extension": ".py",
   "mimetype": "text/x-python",
   "name": "python",
   "nbconvert_exporter": "python",
   "pygments_lexer": "ipython2",
   "version": "2.7.11"
  }
 },
 "nbformat": 4,
 "nbformat_minor": 0
}
