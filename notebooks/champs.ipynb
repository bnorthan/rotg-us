{
 "cells": [
  {
   "cell_type": "code",
   "execution_count": 6,
   "metadata": {
    "collapsed": true
   },
   "outputs": [],
   "source": [
    "import pandas as pd\n",
    "import matplotlib.pyplot as plt\n",
    "import mpld3\n",
    "\n",
    "records=pd.read_csv('../data/records.csv')\n",
    "#champions=pd.read_csv('../data/champions.csv', parse_dates=['female_time'])\n",
    "\n",
    "champions=pd.read_csv('../data/champions.csv')\n",
    "champions=champions.reindex(index=champions.index[::-1]).reset_index(drop=True)"
   ]
  },
  {
   "cell_type": "code",
   "execution_count": 7,
   "metadata": {},
   "outputs": [],
   "source": [
    "champions['male_time_str']=champions.male_time.copy()\n",
    "champions['female_time_str']=champions.female_time.copy()\n",
    "\n",
    "champions.male_time=pd.to_datetime(champions.male_time.copy())\n",
    "champions.female_time=pd.to_datetime(champions.female_time.copy())\n",
    "\n",
    "time = pd.DatetimeIndex(champions['female_time'])"
   ]
  },
  {
   "cell_type": "code",
   "execution_count": 8,
   "metadata": {},
   "outputs": [
    {
     "name": "stdout",
     "output_type": "stream",
     "text": [
      "object\n",
      "datetime64[ns]\n"
     ]
    }
   ],
   "source": [
    "print champions.female_time_str.dtype\n",
    "print champions.female_time.dtype"
   ]
  },
  {
   "cell_type": "code",
   "execution_count": 9,
   "metadata": {
    "collapsed": true
   },
   "outputs": [],
   "source": [
    "champions.to_html(\"champs.html\")"
   ]
  },
  {
   "cell_type": "code",
   "execution_count": 10,
   "metadata": {},
   "outputs": [
    {
     "ename": "NameError",
     "evalue": "name 'female_seconds' is not defined",
     "output_type": "error",
     "traceback": [
      "\u001b[1;31m---------------------------------------------------------------------------\u001b[0m",
      "\u001b[1;31mNameError\u001b[0m                                 Traceback (most recent call last)",
      "\u001b[1;32m<ipython-input-10-64751eb43612>\u001b[0m in \u001b[0;36m<module>\u001b[1;34m()\u001b[0m\n\u001b[0;32m      8\u001b[0m \u001b[1;33m\u001b[0m\u001b[0m\n\u001b[0;32m      9\u001b[0m \u001b[1;33m\u001b[0m\u001b[0m\n\u001b[1;32m---> 10\u001b[1;33m \u001b[1;32mprint\u001b[0m \u001b[0mfemale_seconds\u001b[0m\u001b[1;33m\u001b[0m\u001b[0m\n\u001b[0m\u001b[0;32m     11\u001b[0m \u001b[1;33m\u001b[0m\u001b[0m\n\u001b[0;32m     12\u001b[0m \u001b[0mchampions\u001b[0m\u001b[1;33m[\u001b[0m\u001b[1;34m'female_seconds'\u001b[0m\u001b[1;33m]\u001b[0m \u001b[1;33m=\u001b[0m \u001b[0mpd\u001b[0m\u001b[1;33m.\u001b[0m\u001b[0mSeries\u001b[0m\u001b[1;33m(\u001b[0m\u001b[0mfemale_seconds\u001b[0m\u001b[1;33m,\u001b[0m \u001b[0mindex\u001b[0m\u001b[1;33m=\u001b[0m\u001b[0mchampions\u001b[0m\u001b[1;33m.\u001b[0m\u001b[0mindex\u001b[0m\u001b[1;33m)\u001b[0m\u001b[1;33m\u001b[0m\u001b[0m\n",
      "\u001b[1;31mNameError\u001b[0m: name 'female_seconds' is not defined"
     ]
    }
   ],
   "source": [
    "%matplotlib inline\n",
    "#female_seconds=[int(t.split(':')[0])*60+int(t.split(':')[1]) for t in champions.female_time]\n",
    "\n",
    "def s2ms(x, i):\n",
    "    m = int(x/60)\n",
    "    s = int(x%60)\n",
    "    return '%(m)02d:%(s)02d' % {'m':m,'s':s}\n",
    "\n",
    "\n",
    "print female_seconds\n",
    "\n",
    "champions['female_seconds'] = pd.Series(female_seconds, index=champions.index)\n",
    "\n",
    "'''\n",
    "\n",
    "fig=plt.figure(figsize=(10,8))\n",
    "\n",
    "ax=plt.subplot(111)\n",
    "plt.scatter(champions.year, female_seconds)'''\n",
    "ax.yaxis.set_major_formatter(ff(s2ms))\n",
    "\n",
    "plt.show()"
   ]
  },
  {
   "cell_type": "code",
   "execution_count": 5,
   "metadata": {},
   "outputs": [
    {
     "ename": "AttributeError",
     "evalue": "'DataFrame' object has no attribute 'female_seconds'",
     "output_type": "error",
     "traceback": [
      "\u001b[1;31m---------------------------------------------------------------------------\u001b[0m",
      "\u001b[1;31mAttributeError\u001b[0m                            Traceback (most recent call last)",
      "\u001b[1;32m<ipython-input-5-f0c1c6916c12>\u001b[0m in \u001b[0;36m<module>\u001b[1;34m()\u001b[0m\n\u001b[1;32m----> 1\u001b[1;33m \u001b[1;32mprint\u001b[0m \u001b[0mchampions\u001b[0m\u001b[1;33m.\u001b[0m\u001b[0mfemale_seconds\u001b[0m\u001b[1;33m\u001b[0m\u001b[0m\n\u001b[0m",
      "\u001b[1;32m/home/bnorthan/anaconda/lib/python2.7/site-packages/pandas/core/generic.pyc\u001b[0m in \u001b[0;36m__getattr__\u001b[1;34m(self, name)\u001b[0m\n\u001b[0;32m   2148\u001b[0m                 \u001b[1;32mreturn\u001b[0m \u001b[0mself\u001b[0m\u001b[1;33m[\u001b[0m\u001b[0mname\u001b[0m\u001b[1;33m]\u001b[0m\u001b[1;33m\u001b[0m\u001b[0m\n\u001b[0;32m   2149\u001b[0m             raise AttributeError(\"'%s' object has no attribute '%s'\" %\n\u001b[1;32m-> 2150\u001b[1;33m                                  (type(self).__name__, name))\n\u001b[0m\u001b[0;32m   2151\u001b[0m \u001b[1;33m\u001b[0m\u001b[0m\n\u001b[0;32m   2152\u001b[0m     \u001b[1;32mdef\u001b[0m \u001b[0m__setattr__\u001b[0m\u001b[1;33m(\u001b[0m\u001b[0mself\u001b[0m\u001b[1;33m,\u001b[0m \u001b[0mname\u001b[0m\u001b[1;33m,\u001b[0m \u001b[0mvalue\u001b[0m\u001b[1;33m)\u001b[0m\u001b[1;33m:\u001b[0m\u001b[1;33m\u001b[0m\u001b[0m\n",
      "\u001b[1;31mAttributeError\u001b[0m: 'DataFrame' object has no attribute 'female_seconds'"
     ]
    }
   ],
   "source": [
    "print champions.female_seconds"
   ]
  },
  {
   "cell_type": "code",
   "execution_count": 4,
   "metadata": {
    "collapsed": true
   },
   "outputs": [],
   "source": [
    "greyclass HelloWorld(mpld3.plugins.PluginBase):  # inherit from PluginBase\n",
    "    \"\"\"Hello World plugin\"\"\"\n",
    "    \n",
    "    JAVASCRIPT = \"\"\"\n",
    "    mpld3.register_plugin(\"helloworld\", HelloWorld);\n",
    "    HelloWorld.prototype = Object.create(mpld3.Plugin.prototype);\n",
    "    HelloWorld.prototype.constructor = HelloWorld;\n",
    "    function HelloWorld(fig, props){\n",
    "        mpld3.Plugin.call(this, fig, props);\n",
    "    };\n",
    "    \n",
    "    HelloWorld.prototype.draw = function(){\n",
    "        // FIXME: this is a very brittle way to select the y-axis element\n",
    "        var ax = this.fig.axes[0].elements[1];\n",
    "\n",
    "        // see https://github.com/mbostock/d3/wiki/Formatting#d3_format\n",
    "        // for d3js formating documentation\n",
    "        ax.axis.tickFormat(d3.format(\"d\"));\n",
    "\n",
    "        // TODO: use a function for tick values that\n",
    "        // updates when values pan and zoom\n",
    "        ax.axis.tickValues([1,100,1000]);\n",
    "\n",
    "        // HACK: use reset to redraw figure\n",
    "        this.fig.reset(); \n",
    "    }\n",
    "    \"\"\"\n",
    "    def __init__(self):\n",
    "        self.dict_ = {\"type\": \"helloworld\"}"
   ]
  },
  {
   "cell_type": "code",
   "execution_count": 3,
   "metadata": {},
   "outputs": [
    {
     "ename": "NameError",
     "evalue": "name 'female_seconds' is not defined",
     "output_type": "error",
     "traceback": [
      "\u001b[1;31m---------------------------------------------------------------------------\u001b[0m",
      "\u001b[1;31mNameError\u001b[0m                                 Traceback (most recent call last)",
      "\u001b[1;32m<ipython-input-3-a3321e79c15c>\u001b[0m in \u001b[0;36m<module>\u001b[1;34m()\u001b[0m\n\u001b[0;32m      1\u001b[0m \u001b[0mfig\u001b[0m\u001b[1;33m,\u001b[0m \u001b[0max\u001b[0m \u001b[1;33m=\u001b[0m \u001b[0mplt\u001b[0m\u001b[1;33m.\u001b[0m\u001b[0msubplots\u001b[0m\u001b[1;33m(\u001b[0m\u001b[0mfigsize\u001b[0m\u001b[1;33m=\u001b[0m\u001b[1;33m(\u001b[0m\u001b[1;36m10\u001b[0m\u001b[1;33m,\u001b[0m\u001b[1;36m8\u001b[0m\u001b[1;33m)\u001b[0m\u001b[1;33m,\u001b[0m \u001b[0msubplot_kw\u001b[0m\u001b[1;33m=\u001b[0m\u001b[0mdict\u001b[0m\u001b[1;33m(\u001b[0m\u001b[0maxisbg\u001b[0m\u001b[1;33m=\u001b[0m\u001b[1;34m'#EEEEEE'\u001b[0m\u001b[1;33m)\u001b[0m\u001b[1;33m)\u001b[0m\u001b[1;33m;\u001b[0m\u001b[1;33m\u001b[0m\u001b[0m\n\u001b[0;32m      2\u001b[0m \u001b[1;33m\u001b[0m\u001b[0m\n\u001b[1;32m----> 3\u001b[1;33m \u001b[0mscatter\u001b[0m\u001b[1;33m=\u001b[0m\u001b[0max\u001b[0m\u001b[1;33m.\u001b[0m\u001b[0mscatter\u001b[0m\u001b[1;33m(\u001b[0m\u001b[0mchampions\u001b[0m\u001b[1;33m.\u001b[0m\u001b[0myear\u001b[0m\u001b[1;33m,\u001b[0m \u001b[0mfemale_seconds\u001b[0m\u001b[1;33m,\u001b[0m\u001b[0mc\u001b[0m\u001b[1;33m=\u001b[0m\u001b[0mnp\u001b[0m\u001b[1;33m.\u001b[0m\u001b[0mrandom\u001b[0m\u001b[1;33m.\u001b[0m\u001b[0mrandom\u001b[0m\u001b[1;33m(\u001b[0m\u001b[0msize\u001b[0m\u001b[1;33m=\u001b[0m\u001b[0mlen\u001b[0m\u001b[1;33m(\u001b[0m\u001b[0mchampions\u001b[0m\u001b[1;33m.\u001b[0m\u001b[0myear\u001b[0m\u001b[1;33m)\u001b[0m\u001b[1;33m)\u001b[0m\u001b[1;33m,\u001b[0m\u001b[0ms\u001b[0m\u001b[1;33m=\u001b[0m\u001b[1;33m[\u001b[0m\u001b[1;36m1800\u001b[0m\u001b[1;33m]\u001b[0m\u001b[1;33m*\u001b[0m\u001b[0mlen\u001b[0m\u001b[1;33m(\u001b[0m\u001b[0mchampions\u001b[0m\u001b[1;33m.\u001b[0m\u001b[0myear\u001b[0m\u001b[1;33m)\u001b[0m\u001b[1;33m,\u001b[0m \u001b[0malpha\u001b[0m\u001b[1;33m=\u001b[0m\u001b[1;36m0.3\u001b[0m\u001b[1;33m,\u001b[0m \u001b[0mcmap\u001b[0m\u001b[1;33m=\u001b[0m\u001b[0mplt\u001b[0m\u001b[1;33m.\u001b[0m\u001b[0mcm\u001b[0m\u001b[1;33m.\u001b[0m\u001b[0mjet\u001b[0m\u001b[1;33m)\u001b[0m\u001b[1;33m\u001b[0m\u001b[0m\n\u001b[0m\u001b[0;32m      4\u001b[0m \u001b[1;33m\u001b[0m\u001b[0m\n\u001b[0;32m      5\u001b[0m \u001b[0max\u001b[0m\u001b[1;33m.\u001b[0m\u001b[0myaxis\u001b[0m\u001b[1;33m.\u001b[0m\u001b[0mset_major_formatter\u001b[0m\u001b[1;33m(\u001b[0m\u001b[0mff\u001b[0m\u001b[1;33m(\u001b[0m\u001b[0ms2ms\u001b[0m\u001b[1;33m)\u001b[0m\u001b[1;33m)\u001b[0m\u001b[1;33m\u001b[0m\u001b[0m\n",
      "\u001b[1;31mNameError\u001b[0m: name 'female_seconds' is not defined"
     ]
    }
   ],
   "source": [
    "fig, ax = plt.subplots(figsize=(10,8), subplot_kw=dict(axisbg='#EEEEEE'));\n",
    "\n",
    "scatter=ax.scatter(champions.year, female_seconds,c=np.random.random(size=len(champions.year)),s=[1800]*len(champions.year), alpha=0.3, cmap=plt.cm.jet)\n",
    "\n",
    "ax.yaxis.set_major_formatter(ff(s2ms))\n",
    "ax.set_title(\"ROTG Winners\", size=20)\n",
    "\n",
    "labels=[champions.ix[i]['female_winner']+': '+str(champions.ix[i]['female_time']) for i in champions.index]\n",
    "\n",
    "ax.grid(color='white', linestyle='solid')\n",
    "\n",
    "ax_fmt = HelloWorld()\n",
    "mpld3.plugins.connect(fig, ax_fmt)\n",
    "#plt.show()parse_dates=['Date']\n",
    "\n",
    "tooltip = mpld3.plugins.PointLabelTooltip(scatter, labels=labels)\n",
    "mpld3.plugins.connect(fig, tooltip)\n",
    "mpld3.display()"
   ]
  },
  {
   "cell_type": "code",
   "execution_count": 3,
   "metadata": {},
   "outputs": [
    {
     "data": {
      "text/plain": [
       "'0.10.0'"
      ]
     },
     "execution_count": 3,
     "metadata": {},
     "output_type": "execute_result"
    }
   ],
   "source": [
    "import bokeh\n",
    "\n",
    "bokeh.__version__"
   ]
  },
  {
   "cell_type": "code",
   "execution_count": 12,
   "metadata": {},
   "outputs": [],
   "source": [
    "from bokeh.plotting import figure, output_file, show\n",
    "\n",
    "p = figure()\n",
    "\n",
    "p.circle(champions.year, champions.female_time, size=15, fill_color=\"orange\", line_color=\"green\", line_width=3)\n",
    "\n",
    "show(p)"
   ]
  },
  {
   "cell_type": "code",
   "execution_count": 4,
   "metadata": {},
   "outputs": [],
   "source": [
    "from bokeh.models import HoverTool\n",
    "from bokeh.plotting import figure, ColumnDataSource\n",
    "import numpy as np\n",
    "import matplotlib\n",
    "'''\n",
    "p = Scatter(champions, x='year', y='female_time',y_axis_type=\"datetime\",width=800, height=800)\n",
    "\n",
    "\n",
    "output_file(\"scatter.html\")\n",
    "\n",
    "show(p)'''\n",
    "\n",
    "from bokeh.plotting import figure, output_file, show\n",
    "\n",
    "# create a new plot with a datetime axis type\n",
    "p = figure(width=800, height=600, y_axis_type='datetime')\n",
    "\n",
    "\n",
    "\n",
    "s1=p.scatter(champions.year, champions.female_time, source = ColumnDataSource(data=champions), \\\n",
    "             size=28,color='#44ef55', alpha=0.5, line_color=\"green\", line_width=3)\n",
    "s2=p.scatter(champions.year, champions.male_time, source = ColumnDataSource(data=champions), size=28,color='#22aa33', alpha=0.5, line_color=\"black\", line_width=3)\n",
    "\n",
    "hover1 = HoverTool()\n",
    "hover1.renderers=[s1]\n",
    "hover1.tooltips = [('Winner', '@female_winner'), ('Time', '@female_time_str')]\n",
    "p.add_tools(hover1)\n",
    "\n",
    "hover2 = HoverTool()\n",
    "hover2.renderers=[s2]\n",
    "hover2.tooltips = [('Winner', '@male_winner'), ('Time', '@male_time_str')]\n",
    "p.add_tools(hover2)\n",
    "\n",
    "p.title=\"Runnin' of the Green Male and Female Champions\"\n",
    "p.xaxis.axis_label=\"Year\"\n",
    "p.yaxis.axis_label=\"Time\"\n",
    "\n",
    "\n",
    "#, xlabel=\"Miles Per Gallon\",ylabel=\"Horsepower\"\n",
    "\n",
    "output_file(\"scatter.html\")\n",
    "\n",
    "show(p)"
   ]
  },
  {
   "cell_type": "code",
   "execution_count": 5,
   "metadata": {},
   "outputs": [
    {
     "name": "stdout",
     "output_type": "stream",
     "text": [
      "datetime64[ns]\n"
     ]
    }
   ],
   "source": [
    "print champions.female_time.dtype"
   ]
  },
  {
   "cell_type": "code",
   "execution_count": 88,
   "metadata": {},
   "outputs": [
    {
     "name": "stdout",
     "output_type": "stream",
     "text": [
      "Help on NoneType object:\n",
      "\n",
      "class NoneType(object)\n",
      " |  Methods defined here:\n",
      " |  \n",
      " |  __hash__(...)\n",
      " |      x.__hash__() <==> hash(x)\n",
      " |  \n",
      " |  __repr__(...)\n",
      " |      x.__repr__() <==> repr(x)\n",
      "\n"
     ]
    }
   ],
   "source": [
    "help(hover.tooltips)"
   ]
  },
  {
   "cell_type": "code",
   "execution_count": 6,
   "metadata": {},
   "outputs": [
    {
     "ename": "SyntaxError",
     "evalue": "can't assign to literal (<ipython-input-6-77cbbe73a9f0>, line 5)",
     "output_type": "error",
     "traceback": [
      "\u001b[1;36m  File \u001b[1;32m\"<ipython-input-6-77cbbe73a9f0>\"\u001b[1;36m, line \u001b[1;32m5\u001b[0m\n\u001b[1;33m    champions, x='year', y='female_race'\u001b[0m\n\u001b[1;31mSyntaxError\u001b[0m\u001b[1;31m:\u001b[0m can't assign to literal\n"
     ]
    }
   ],
   "source": [
    "'''champions=champions.reindex(index=champions.index[::-1]).reset_index(drop=True)\n",
    "print champions.columns\n",
    "type(t)\n",
    "print pd.to_datetime(champions.female_time)\n",
    "champions, x='year', y='female_race'\n",
    "import time\n",
    "#mpl.dates.date2num(champions.female_time)''''''"
   ]
  },
  {
   "cell_type": "code",
   "execution_count": 42,
   "metadata": {},
   "outputs": [
    {
     "name": "stdout",
     "output_type": "stream",
     "text": [
      "Help on function convert in module matplotlib.dates:\n",
      "\n",
      "convert(value, unit, axis)\n",
      "    If *value* is not already a number or sequence of numbers,\n",
      "    convert it with :func:`date2num`.\n",
      "    \n",
      "    The *unit* and *axis* arguments are not used.\n",
      "\n"
     ]
    }
   ],
   "source": [
    "help(mpl.dates.DateConverter.convert)"
   ]
  },
  {
   "cell_type": "code",
   "execution_count": 37,
   "metadata": {},
   "outputs": [
    {
     "ename": "ValueError",
     "evalue": "invalid literal for float(): 23:36",
     "output_type": "error",
     "traceback": [
      "\u001b[1;31m---------------------------------------------------------------------------\u001b[0m",
      "\u001b[1;31mValueError\u001b[0m                                Traceback (most recent call last)",
      "\u001b[1;32m<ipython-input-37-93c95f61fc29>\u001b[0m in \u001b[0;36m<module>\u001b[1;34m()\u001b[0m\n\u001b[1;32m----> 1\u001b[1;33m \u001b[0mplt\u001b[0m\u001b[1;33m.\u001b[0m\u001b[0mplot_date\u001b[0m\u001b[1;33m(\u001b[0m\u001b[0mchampions\u001b[0m\u001b[1;33m.\u001b[0m\u001b[0mindex\u001b[0m\u001b[1;33m,\u001b[0m\u001b[0mpd\u001b[0m\u001b[1;33m.\u001b[0m\u001b[0mto_datetime\u001b[0m\u001b[1;33m(\u001b[0m\u001b[0mchampions\u001b[0m\u001b[1;33m.\u001b[0m\u001b[0mfemale_time\u001b[0m\u001b[1;33m)\u001b[0m\u001b[1;33m)\u001b[0m\u001b[1;33m\u001b[0m\u001b[0m\n\u001b[0m\u001b[0;32m      2\u001b[0m \u001b[0mplt\u001b[0m\u001b[1;33m.\u001b[0m\u001b[0mshow\u001b[0m\u001b[1;33m(\u001b[0m\u001b[1;33m)\u001b[0m\u001b[1;33m\u001b[0m\u001b[0m\n",
      "\u001b[1;32m/home/bnorthan/anaconda/lib/python2.7/site-packages/matplotlib/pyplot.pyc\u001b[0m in \u001b[0;36mplot_date\u001b[1;34m(x, y, fmt, tz, xdate, ydate, hold, **kwargs)\u001b[0m\n\u001b[0;32m   3117\u001b[0m     \u001b[1;32mtry\u001b[0m\u001b[1;33m:\u001b[0m\u001b[1;33m\u001b[0m\u001b[0m\n\u001b[0;32m   3118\u001b[0m         ret = ax.plot_date(x, y, fmt=fmt, tz=tz, xdate=xdate, ydate=ydate,\n\u001b[1;32m-> 3119\u001b[1;33m                            **kwargs)\n\u001b[0m\u001b[0;32m   3120\u001b[0m         \u001b[0mdraw_if_interactive\u001b[0m\u001b[1;33m(\u001b[0m\u001b[1;33m)\u001b[0m\u001b[1;33m\u001b[0m\u001b[0m\n\u001b[0;32m   3121\u001b[0m     \u001b[1;32mfinally\u001b[0m\u001b[1;33m:\u001b[0m\u001b[1;33m\u001b[0m\u001b[0m\n",
      "\u001b[1;32m/home/bnorthan/anaconda/lib/python2.7/site-packages/matplotlib/axes/_axes.pyc\u001b[0m in \u001b[0;36mplot_date\u001b[1;34m(self, x, y, fmt, tz, xdate, ydate, **kwargs)\u001b[0m\n\u001b[0;32m   1440\u001b[0m             \u001b[0mself\u001b[0m\u001b[1;33m.\u001b[0m\u001b[0mcla\u001b[0m\u001b[1;33m(\u001b[0m\u001b[1;33m)\u001b[0m\u001b[1;33m\u001b[0m\u001b[0m\n\u001b[0;32m   1441\u001b[0m \u001b[1;33m\u001b[0m\u001b[0m\n\u001b[1;32m-> 1442\u001b[1;33m         \u001b[0mret\u001b[0m \u001b[1;33m=\u001b[0m \u001b[0mself\u001b[0m\u001b[1;33m.\u001b[0m\u001b[0mplot\u001b[0m\u001b[1;33m(\u001b[0m\u001b[0mx\u001b[0m\u001b[1;33m,\u001b[0m \u001b[0my\u001b[0m\u001b[1;33m,\u001b[0m \u001b[0mfmt\u001b[0m\u001b[1;33m,\u001b[0m \u001b[1;33m**\u001b[0m\u001b[0mkwargs\u001b[0m\u001b[1;33m)\u001b[0m\u001b[1;33m\u001b[0m\u001b[0m\n\u001b[0m\u001b[0;32m   1443\u001b[0m \u001b[1;33m\u001b[0m\u001b[0m\n\u001b[0;32m   1444\u001b[0m         \u001b[1;32mif\u001b[0m \u001b[0mxdate\u001b[0m\u001b[1;33m:\u001b[0m\u001b[1;33m\u001b[0m\u001b[0m\n",
      "\u001b[1;32m/home/bnorthan/anaconda/lib/python2.7/site-packages/matplotlib/axes/_axes.pyc\u001b[0m in \u001b[0;36mplot\u001b[1;34m(self, *args, **kwargs)\u001b[0m\n\u001b[0;32m   1372\u001b[0m \u001b[1;33m\u001b[0m\u001b[0m\n\u001b[0;32m   1373\u001b[0m         \u001b[1;32mfor\u001b[0m \u001b[0mline\u001b[0m \u001b[1;32min\u001b[0m \u001b[0mself\u001b[0m\u001b[1;33m.\u001b[0m\u001b[0m_get_lines\u001b[0m\u001b[1;33m(\u001b[0m\u001b[1;33m*\u001b[0m\u001b[0margs\u001b[0m\u001b[1;33m,\u001b[0m \u001b[1;33m**\u001b[0m\u001b[0mkwargs\u001b[0m\u001b[1;33m)\u001b[0m\u001b[1;33m:\u001b[0m\u001b[1;33m\u001b[0m\u001b[0m\n\u001b[1;32m-> 1374\u001b[1;33m             \u001b[0mself\u001b[0m\u001b[1;33m.\u001b[0m\u001b[0madd_line\u001b[0m\u001b[1;33m(\u001b[0m\u001b[0mline\u001b[0m\u001b[1;33m)\u001b[0m\u001b[1;33m\u001b[0m\u001b[0m\n\u001b[0m\u001b[0;32m   1375\u001b[0m             \u001b[0mlines\u001b[0m\u001b[1;33m.\u001b[0m\u001b[0mappend\u001b[0m\u001b[1;33m(\u001b[0m\u001b[0mline\u001b[0m\u001b[1;33m)\u001b[0m\u001b[1;33m\u001b[0m\u001b[0m\n\u001b[0;32m   1376\u001b[0m \u001b[1;33m\u001b[0m\u001b[0m\n",
      "\u001b[1;32m/home/bnorthan/anaconda/lib/python2.7/site-packages/matplotlib/axes/_base.pyc\u001b[0m in \u001b[0;36madd_line\u001b[1;34m(self, line)\u001b[0m\n\u001b[0;32m   1502\u001b[0m             \u001b[0mline\u001b[0m\u001b[1;33m.\u001b[0m\u001b[0mset_clip_path\u001b[0m\u001b[1;33m(\u001b[0m\u001b[0mself\u001b[0m\u001b[1;33m.\u001b[0m\u001b[0mpatch\u001b[0m\u001b[1;33m)\u001b[0m\u001b[1;33m\u001b[0m\u001b[0m\n\u001b[0;32m   1503\u001b[0m \u001b[1;33m\u001b[0m\u001b[0m\n\u001b[1;32m-> 1504\u001b[1;33m         \u001b[0mself\u001b[0m\u001b[1;33m.\u001b[0m\u001b[0m_update_line_limits\u001b[0m\u001b[1;33m(\u001b[0m\u001b[0mline\u001b[0m\u001b[1;33m)\u001b[0m\u001b[1;33m\u001b[0m\u001b[0m\n\u001b[0m\u001b[0;32m   1505\u001b[0m         \u001b[1;32mif\u001b[0m \u001b[1;32mnot\u001b[0m \u001b[0mline\u001b[0m\u001b[1;33m.\u001b[0m\u001b[0mget_label\u001b[0m\u001b[1;33m(\u001b[0m\u001b[1;33m)\u001b[0m\u001b[1;33m:\u001b[0m\u001b[1;33m\u001b[0m\u001b[0m\n\u001b[0;32m   1506\u001b[0m             \u001b[0mline\u001b[0m\u001b[1;33m.\u001b[0m\u001b[0mset_label\u001b[0m\u001b[1;33m(\u001b[0m\u001b[1;34m'_line%d'\u001b[0m \u001b[1;33m%\u001b[0m \u001b[0mlen\u001b[0m\u001b[1;33m(\u001b[0m\u001b[0mself\u001b[0m\u001b[1;33m.\u001b[0m\u001b[0mlines\u001b[0m\u001b[1;33m)\u001b[0m\u001b[1;33m)\u001b[0m\u001b[1;33m\u001b[0m\u001b[0m\n",
      "\u001b[1;32m/home/bnorthan/anaconda/lib/python2.7/site-packages/matplotlib/axes/_base.pyc\u001b[0m in \u001b[0;36m_update_line_limits\u001b[1;34m(self, line)\u001b[0m\n\u001b[0;32m   1513\u001b[0m         \u001b[0mFigures\u001b[0m \u001b[0mout\u001b[0m \u001b[0mthe\u001b[0m \u001b[0mdata\u001b[0m \u001b[0mlimit\u001b[0m \u001b[0mof\u001b[0m \u001b[0mthe\u001b[0m \u001b[0mgiven\u001b[0m \u001b[0mline\u001b[0m\u001b[1;33m,\u001b[0m \u001b[0mupdating\u001b[0m \u001b[0mself\u001b[0m\u001b[1;33m.\u001b[0m\u001b[0mdataLim\u001b[0m\u001b[1;33m.\u001b[0m\u001b[1;33m\u001b[0m\u001b[0m\n\u001b[0;32m   1514\u001b[0m         \"\"\"\n\u001b[1;32m-> 1515\u001b[1;33m         \u001b[0mpath\u001b[0m \u001b[1;33m=\u001b[0m \u001b[0mline\u001b[0m\u001b[1;33m.\u001b[0m\u001b[0mget_path\u001b[0m\u001b[1;33m(\u001b[0m\u001b[1;33m)\u001b[0m\u001b[1;33m\u001b[0m\u001b[0m\n\u001b[0m\u001b[0;32m   1516\u001b[0m         \u001b[1;32mif\u001b[0m \u001b[0mpath\u001b[0m\u001b[1;33m.\u001b[0m\u001b[0mvertices\u001b[0m\u001b[1;33m.\u001b[0m\u001b[0msize\u001b[0m \u001b[1;33m==\u001b[0m \u001b[1;36m0\u001b[0m\u001b[1;33m:\u001b[0m\u001b[1;33m\u001b[0m\u001b[0m\n\u001b[0;32m   1517\u001b[0m             \u001b[1;32mreturn\u001b[0m\u001b[1;33m\u001b[0m\u001b[0m\n",
      "\u001b[1;32m/home/bnorthan/anaconda/lib/python2.7/site-packages/matplotlib/lines.pyc\u001b[0m in \u001b[0;36mget_path\u001b[1;34m(self)\u001b[0m\n\u001b[0;32m    872\u001b[0m         \"\"\"\n\u001b[0;32m    873\u001b[0m         \u001b[1;32mif\u001b[0m \u001b[0mself\u001b[0m\u001b[1;33m.\u001b[0m\u001b[0m_invalidy\u001b[0m \u001b[1;32mor\u001b[0m \u001b[0mself\u001b[0m\u001b[1;33m.\u001b[0m\u001b[0m_invalidx\u001b[0m\u001b[1;33m:\u001b[0m\u001b[1;33m\u001b[0m\u001b[0m\n\u001b[1;32m--> 874\u001b[1;33m             \u001b[0mself\u001b[0m\u001b[1;33m.\u001b[0m\u001b[0mrecache\u001b[0m\u001b[1;33m(\u001b[0m\u001b[1;33m)\u001b[0m\u001b[1;33m\u001b[0m\u001b[0m\n\u001b[0m\u001b[0;32m    875\u001b[0m         \u001b[1;32mreturn\u001b[0m \u001b[0mself\u001b[0m\u001b[1;33m.\u001b[0m\u001b[0m_path\u001b[0m\u001b[1;33m\u001b[0m\u001b[0m\n\u001b[0;32m    876\u001b[0m \u001b[1;33m\u001b[0m\u001b[0m\n",
      "\u001b[1;32m/home/bnorthan/anaconda/lib/python2.7/site-packages/matplotlib/lines.pyc\u001b[0m in \u001b[0;36mrecache\u001b[1;34m(self, always)\u001b[0m\n\u001b[0;32m    582\u001b[0m                 \u001b[0my\u001b[0m \u001b[1;33m=\u001b[0m \u001b[0mma\u001b[0m\u001b[1;33m.\u001b[0m\u001b[0masarray\u001b[0m\u001b[1;33m(\u001b[0m\u001b[0myconv\u001b[0m\u001b[1;33m,\u001b[0m \u001b[0mnp\u001b[0m\u001b[1;33m.\u001b[0m\u001b[0mfloat_\u001b[0m\u001b[1;33m)\u001b[0m\u001b[1;33m\u001b[0m\u001b[0m\n\u001b[0;32m    583\u001b[0m             \u001b[1;32melse\u001b[0m\u001b[1;33m:\u001b[0m\u001b[1;33m\u001b[0m\u001b[0m\n\u001b[1;32m--> 584\u001b[1;33m                 \u001b[0my\u001b[0m \u001b[1;33m=\u001b[0m \u001b[0mnp\u001b[0m\u001b[1;33m.\u001b[0m\u001b[0masarray\u001b[0m\u001b[1;33m(\u001b[0m\u001b[0myconv\u001b[0m\u001b[1;33m,\u001b[0m \u001b[0mnp\u001b[0m\u001b[1;33m.\u001b[0m\u001b[0mfloat_\u001b[0m\u001b[1;33m)\u001b[0m\u001b[1;33m\u001b[0m\u001b[0m\n\u001b[0m\u001b[0;32m    585\u001b[0m             \u001b[0my\u001b[0m \u001b[1;33m=\u001b[0m \u001b[0my\u001b[0m\u001b[1;33m.\u001b[0m\u001b[0mravel\u001b[0m\u001b[1;33m(\u001b[0m\u001b[1;33m)\u001b[0m\u001b[1;33m\u001b[0m\u001b[0m\n\u001b[0;32m    586\u001b[0m         \u001b[1;32melse\u001b[0m\u001b[1;33m:\u001b[0m\u001b[1;33m\u001b[0m\u001b[0m\n",
      "\u001b[1;32m/home/bnorthan/anaconda/lib/python2.7/site-packages/numpy/core/numeric.pyc\u001b[0m in \u001b[0;36masarray\u001b[1;34m(a, dtype, order)\u001b[0m\n\u001b[0;32m    472\u001b[0m \u001b[1;33m\u001b[0m\u001b[0m\n\u001b[0;32m    473\u001b[0m     \"\"\"\n\u001b[1;32m--> 474\u001b[1;33m     \u001b[1;32mreturn\u001b[0m \u001b[0marray\u001b[0m\u001b[1;33m(\u001b[0m\u001b[0ma\u001b[0m\u001b[1;33m,\u001b[0m \u001b[0mdtype\u001b[0m\u001b[1;33m,\u001b[0m \u001b[0mcopy\u001b[0m\u001b[1;33m=\u001b[0m\u001b[0mFalse\u001b[0m\u001b[1;33m,\u001b[0m \u001b[0morder\u001b[0m\u001b[1;33m=\u001b[0m\u001b[0morder\u001b[0m\u001b[1;33m)\u001b[0m\u001b[1;33m\u001b[0m\u001b[0m\n\u001b[0m\u001b[0;32m    475\u001b[0m \u001b[1;33m\u001b[0m\u001b[0m\n\u001b[0;32m    476\u001b[0m \u001b[1;32mdef\u001b[0m \u001b[0masanyarray\u001b[0m\u001b[1;33m(\u001b[0m\u001b[0ma\u001b[0m\u001b[1;33m,\u001b[0m \u001b[0mdtype\u001b[0m\u001b[1;33m=\u001b[0m\u001b[0mNone\u001b[0m\u001b[1;33m,\u001b[0m \u001b[0morder\u001b[0m\u001b[1;33m=\u001b[0m\u001b[0mNone\u001b[0m\u001b[1;33m)\u001b[0m\u001b[1;33m:\u001b[0m\u001b[1;33m\u001b[0m\u001b[0m\n",
      "\u001b[1;31mValueError\u001b[0m: invalid literal for float(): 23:36"
     ]
    }
   ],
   "source": [
    "plt.plot_date(champions.index,pd.to_datetime(champions.female_time))\n",
    "plt.show()"
   ]
  },
  {
   "cell_type": "code",
   "execution_count": 40,
   "metadata": {},
   "outputs": [
    {
     "name": "stdout",
     "output_type": "stream",
     "text": [
      "<type 'numpy.ndarray'>\n",
      "<type 'numpy.ndarray'>\n"
     ]
    }
   ],
   "source": [
    "import matplotlib.pyplot as plt\n",
    "import matplotlib as mpl\n",
    "import numhttp://matplotlib.org/api/dates_api.html#matplotlib.dates.date2numpy as np\n",
    "import datetime as dt\n",
    "\n",
    "# Make a series of events 1 day apart\n",
    "x = mpl.dates.drange(dt.datetime(2009,10,1), \n",
    "                     dt.datetime(2010,1,15), \n",
    "                     dt.timedelta(days=1))\n",
    "# Vary the datetimes so that they occur at random times\n",
    "# Remember, 1.0 is equivalent to 1 day in this case...\n",
    "x += np.random.random(x.size)\n",
    "\n",
    "# We can extract the time by using a modulo 1, and adding an arbitrary base date\n",
    "times = x % 1 + int(x[0]) # (The int is so the y-axis starts at midnight...)\n",
    "\n",
    "print type(x)\n",
    "print type(times)\n",
    "\n",
    "# I'm just plotting points here, but you could just as easily use a bar.\n",
    "fig = plt.figure()\n",
    "ax = fig.add_subplot(111)\n",
    "ax.plot_date(x, times, 'ro')\n",
    "ax.yaxis_date()\n",
    "fig.autofmt_xdate()\n",
    "\n",
    "#plt.show()"
   ]
  },
  {
   "cell_type": "code",
   "execution_count": 43,
   "metadata": {},
   "outputs": [
    {
     "name": "stdout",
     "output_type": "stream",
     "text": [
      "[ 733681.13407482  733682.91006082  733683.47427116  733684.38157884\n",
      "  733685.71609354  733686.84769357  733687.04374562  733688.78395325\n",
      "  733689.10917107  733690.50345174  733691.7339009   733692.15620241\n",
      "  733693.13475867  733694.06303613  733695.72652329  733696.24895193\n",
      "  733697.66363743  733698.58375188  733699.28901212  733700.62044183\n",
      "  733701.98925648  733702.83989299  733703.34560689  733704.8488739\n",
      "  733705.18741345  733706.6797165   733707.13730269  733708.47265409\n",
      "  733709.7332799   733710.61379195  733711.58003266  733712.05768185\n",
      "  733713.97723226  733714.40556868  733715.69636995  733716.34376754\n",
      "  733717.98852253  733718.21794954  733719.99603372  733720.78955843\n",
      "  733721.37594164  733722.27484586  733723.55118373  733724.46272254\n",
      "  733725.06954639  733726.79970285  733727.87179765  733728.83516015\n",
      "  733729.74503968  733730.60027968  733731.34202377  733732.89609067\n",
      "  733733.5560054   733734.61437003  733735.5593107   733736.99227581\n",
      "  733737.84738076  733738.556773    733739.42072676  733740.05520431\n",
      "  733741.62383916  733742.01123366  733743.5329733   733744.93335259\n",
      "  733745.19090545  733746.71218514  733747.66868678  733748.27237858\n",
      "  733749.57935565  733750.19985642  733751.82763644  733752.88680451\n",
      "  733753.50055716  733754.08201365  733755.90253678  733756.84413578\n",
      "  733757.83624901  733758.28854506  733759.38554941  733760.5773643\n",
      "  733761.84503095  733762.44359442  733763.09901859  733764.11179711\n",
      "  733765.88411949  733766.49126737  733767.28733715  733768.53470985\n",
      "  733769.3057549   733770.23086246  733771.07747099  733772.88283519\n",
      "  733773.69090431  733774.50808462  733775.79407253  733776.0313496\n",
      "  733777.91286958  733778.03857153  733779.3606061   733780.2645992\n",
      "  733781.10752139  733782.52179632  733783.59427248  733784.220909\n",
      "  733785.71069388  733786.55165186]\n"
     ]
    }
   ],
   "source": [
    "print x"
   ]
  },
  {
   "cell_type": "code",
   "execution_count": 51,
   "metadata": {},
   "outputs": [
    {
     "name": "stdout",
     "output_type": "stream",
     "text": [
      "<type 'list'>\n"
     ]
    }
   ],
   "source": [
    "import ephem\n",
    "import datetime, math\n",
    "import pylab\n",
    "import matplotlib.pyplot as plt\n",
    "import matplotlib.dates as mdates\n",
    "from matplotlib.ticker import FuncFormatter as ff\n",
    " \n",
    "place = ephem.city('Melbourne')\n",
    " \n",
    "start_date = datetime.datetime(2009,12,1,12) # yyyy,m,d,h - midday is best\n",
    "end_date = datetime.datetime(2011, 1, 31,12) # midday Jan 31st, 2011\n",
    " \n",
    "twilight_offset = '-6:00:0.0' # \"twilight\" = centre of the sun is -6deg ideal horizon\n",
    "eyeline_offset = '15:00:0.0' # arbitrary +15deg\n",
    " \n",
    "sun = ephem.Sun(place)\n",
    " \n",
    "dates = []\n",
    "sunrise = []\n",
    "sunset = []\n",
    "firstlight = []\n",
    "lastlight = []\n",
    "firsteyel = []\n",
    "lasteyel = []\n",
    " \n",
    "numdays = (end_date - start_date).days\n",
    "dates = [start_date + datetime.timedelta(days=i) for i in xrange(numdays+1)] \n",
    "dates.sort()\n",
    " \n",
    "def dt2m(dt):\n",
    "    return (dt.hour*60) + dt.minute\n",
    " \n",
    "def m2hm(x, i):\n",
    "    h = int(x/60)\n",
    "    m = int(x%60)\n",
    "    return '%(h)02d:%(m)02d' % {'h':h,'m':m}\n",
    " \n",
    "sunrise = map(lambda x:dt2m(ephem.localtime(place.next_rising(sun,start=x))),dates)\n",
    "sunset = map(lambda x:dt2m(ephem.localtime(place.next_setting(sun,start=x))),dates)\n",
    " \n",
    "place.horizon = twilight_offset\n",
    "firstlight = map(lambda x:dt2m(ephem.localtime(place.next_rising(sun,start=x))),dates)\n",
    "\n",
    "print type(firstlight)\n",
    "\n",
    "lastlight = map(lambda x:dt2m(ephem.localtime(place.next_setting(sun,start=x))),dates)\n",
    " \n",
    "place.horizon = eyeline_offset\n",
    "firsteyel = map(lambda x:dt2m(ephem.localtime(place.next_rising(sun,start=x))),dates)\n",
    "lasteyel = map(lambda x:dt2m(ephem.localtime(place.next_setting(sun,start=x))),dates)\n",
    " \n",
    "fig = plt.figure()\n",
    " \n",
    "ax = fig.add_subplot(111)\n",
    "ax.plot_date(dates, firstlight, ':',label=' First light (' + twilight_offset + ')', color='#06544e')\n",
    "ax.plot_date(dates, sunrise, linestyle='-',label=' Sunrise', color='red')\n",
    "ax.plot_date(dates, firsteyel, linestyle='-', label=' In eyes ('+ eyeline_offset + ')', color='orange')\n",
    "ax.plot_date(dates, lasteyel, linestyle='-', color='orange')\n",
    "ax.plot_date(dates, sunset, linestyle='-', label=' Sunset', color='red')\n",
    "ax.plot_date(dates, lastlight, ':',label=' Last light (' + twilight_offset + ')', color='blue')\n",
    " \n",
    "ax.set_xlim([dates[0],dates[len(dates)-1]])\n",
    "ax.xaxis.set_major_locator(mdates.AutoDateLocator())\n",
    "ax.xaxis.set_minor_locator(mdates.DayLocator())\n",
    "#ax.xaxis.grid(False)\n",
    "ax.xaxis.grid(color='#ffcf06', linestyle=':', linewidth=0.5)\n",
    " \n",
    "ax.set_ylim(240,1330) #4am to 10pm\n",
    "ax.yaxis.set_major_locator(pylab.MultipleLocator(60))\n",
    "ax.yaxis.set_minor_locator(pylab.MultipleLocator(15))\n",
    "ax.yaxis.set_major_formatter(ff(m2hm))\n",
    "#ax.yaxis.set_minor_formatter(ff(m2hm))\n",
    "ax.yaxis.grid(color='r', linestyle=':', linewidth=0.5)\n",
    " \n",
    "labels = ax.get_xticklabels()\n",
    "for label in labels:\n",
    "    label.set_rotation(30)\n",
    "plt.legend(loc='best')\n",
    "plt.xlabel('Date' )\n",
    "plt.ylabel('Hour (24hr)' )\n",
    "plt.title(\"Sun times\\n\" + str(start_date) + \" - \" + str(end_date) + \"\\n (localised for \" + place.name + ')')\n",
    "plt.show()"
   ]
  },
  {
   "cell_type": "code",
   "execution_count": 49,
   "metadata": {},
   "outputs": [
    {
     "name": "stdout",
     "output_type": "stream",
     "text": [
      "[798, 798, 798, 798, 798, 797, 797, 797, 797, 797, 798, 798, 798, 798, 798, 799, 799, 799, 800, 800, 801, 801, 802, 802, 803, 804, 804, 805, 806, 806, 807, 808, 809, 810, 811, 812, 813, 814, 815, 816, 817, 818, 819, 820, 821, 822, 824, 825, 826, 827, 828, 829, 831, 832, 833, 834, 836, 837, 838, 839, 840, 842, 843, 844, 845, 847, 848, 849, 850, 852, 853, 854, 855, 856, 858, 859, 860, 861, 862, 864, 865, 866, 867, 868, 869, 870, 871, 873, 874, 875, 876, 877, 878, 879, 880, 881, 882, 883, 884, 885, 886, 887, 888, 949, 950, 951, 952, 953, 954, 955, 956, 957, 958, 959, 959, 960, 961, 962, 963, 964, 965, 966, 967, 968, 968, 969, 970, 971, 972, 973, 974, 975, 976, 976, 977, 978, 979, 980, 981, 982, 982, 983, 984, 985, 986, 987, 988, 988, 989, 990, 991, 992, 993, 993, 994, 995, 996, 997, 998, 998, 999, 1000, 1001, 1002, 1002, 1003, 1004, 1005, 1006, 1006, 1007, 1008, 1009, 1009, 1010, 1011, 1011, 1012, 1013, 1013, 1014, 1015, 1015, 1016, 1016, 1017, 1018, 1018, 1019, 1019, 1020, 1020, 1020, 1021, 1021, 1022, 1022, 1022, 1023, 1023, 1023, 1024, 1024, 1024, 1024, 1024, 1024, 1024, 1025, 1025, 1025, 1025, 1025, 1024, 1024, 1024, 1024, 1024, 1024, 1023, 1023, 1023, 1023, 1022, 1022, 1021, 1021, 1021, 1020, 1020, 1019, 1018, 1018, 1017, 1017, 1016, 1015, 1014, 1014, 1013, 1012, 1011, 1010, 1010, 1009, 1008, 1007, 1006, 1005, 1004, 1003, 1002, 1001, 999, 998, 997, 996, 995, 994, 992, 991, 990, 989, 987, 986, 985, 983, 982, 981, 979, 978, 977, 975, 974, 972, 971, 969, 968, 966, 965, 963, 962, 960, 959, 957, 956, 954, 953, 951, 950, 948, 947, 945, 943, 942, 940, 939, 937, 936, 934, 932, 931, 929, 928, 926, 925, 923, 922, 920, 918, 917, 915, 914, 912, 911, 909, 908, 906, 905, 903, 902, 901, 899, 898, 896, 895, 894, 892, 891, 890, 888, 887, 886, 884, 883, 882, 881, 880, 879, 877, 876, 815, 814, 813, 812, 811, 810, 809, 808, 808, 807, 806, 805, 804, 804, 803, 802, 802, 801, 801, 800, 800, 799, 799, 799, 798, 798, 798, 798, 798, 797, 797, 797, 797, 797, 798, 798, 798, 798, 798, 799, 799, 799, 800, 800, 801, 801, 802, 802, 803, 803, 804, 805, 806, 806, 807, 808, 809, 810, 811, 812, 813, 813, 815, 816, 817, 818, 819, 820, 821, 822, 823, 824, 826, 827, 828, 829, 830, 832, 833, 834, 835, 836, 838, 839, 840, 841]\n"
     ]
    }
   ],
   "source": [
    "print firstlight"
   ]
  },
  {
   "cell_type": "code",
   "execution_count": 50,
   "metadata": {},
   "outputs": [
    {
     "data": {
      "text/plain": [
       "ephem.Observer"
      ]
     },
     "execution_count": 50,
     "metadata": {},
     "output_type": "execute_result"
    }
   ],
   "source": [
    "type(place)"
   ]
  },
  {
   "cell_type": "code",
   "execution_count": 52,
   "metadata": {},
   "outputs": [
    {
     "data": {
      "text/plain": [
       "<Sun \"Sun\" at 0x7f9b35f1b1e0>"
      ]
     },
     "execution_count": 52,
     "metadata": {},
     "output_type": "execute_result"
    }
   ],
   "source": []
  },
  {
   "cell_type": "code",
   "execution_count": 177,
   "metadata": {
    "collapsed": true
   },
   "outputs": [],
   "source": [
    "from __future__ import division\n",
    "\n",
    "import numpy as np\n",
    "\n",
    "from bokeh.plotting import figure, show, output_file\n",
    "\n",
    "N = 20\n",
    "img = np.empty((N,N), dtype=np.uint32)\n",
    "view = img.view(dtype=np.uint8).reshape((N, N, 4))\n",
    "for i in range(N):\n",
    "    for j in range(N):\n",
    "        view[i, j, 0] = int(i/N*255)\n",
    "        view[i, j, 1] = 158\n",
    "        view[i, j, 2] = int(j/N*255)\n",
    "        view[i, j, 3] = 255\n",
    "\n",
    "p = figure(x_range=(0,10), y_range=(0,10))\n",
    "\n",
    "# must give a vector of images\n",
    "p.image_rgba(image=[img], x=0, y=0, dw=10, dh=10)\n",
    "\n",
    "output_file(\"image_rgba.html\", title=\"image_rgba.py example\")\n",
    "\n",
    "show(p)  # open a browser"
   ]
  },
  {
   "cell_type": "code",
   "execution_count": 179,
   "metadata": {},
   "outputs": [],
   "source": [
    "img3=img"
   ]
  },
  {
   "cell_type": "code",
   "execution_count": 176,
   "metadata": {},
   "outputs": [
    {
     "data": {
      "text/plain": [
       "(225, 225)"
      ]
     },
     "execution_count": 176,
     "metadata": {},
     "output_type": "execute_result"
    }
   ],
   "source": [
    "new_img.shape"
   ]
  },
  {
   "cell_type": "code",
   "execution_count": 181,
   "metadata": {
    "collapsed": true
   },
   "outputs": [],
   "source": [
    "p = figure(x_range=(0,10), y_range=(0,10))\n",
    "\n",
    "# must give a vector of images\n",
    "p.image_rgba(image=[img3], x=0, y=0, dw=10, dh=10)\n",
    "\n",
    "show(p)  # open a browser"
   ]
  },
  {
   "cell_type": "code",
   "execution_count": 189,
   "metadata": {},
   "outputs": [
    {
     "name": "stdout",
     "output_type": "stream",
     "text": [
      "(225, 225, 3)\n",
      "<type 'numpy.ndarray'>\n",
      "<type 'numpy.ndarray'>\n",
      "(225, 225)\n"
     ]
    },
    {
     "data": {
      "image/png": "[encoded data removed]",
      "text/plain": [
       "<matplotlib.figure.Figure at 0x7f4c1a781310>"
      ]
     },
     "metadata": {},
     "output_type": "display_data"
    }
   ],
   "source": [
    "from bokeh.plotting import figure, output_file, show\n",
    "\n",
    "# create a new plot with a datetime axis type\n",
    "\n",
    "from scipy.misc import imread\n",
    "\n",
    "img=imread('../images/green.jpg')\n",
    "\n",
    "N, M, _ = img.shape\n",
    "print img.shape\n",
    "\n",
    "print type(img)\n",
    "from PIL import Image\n",
    "img2 = Image.open('../images/green.jpg')\n",
    "m,n = img2.size\n",
    "\n",
    "new_img = np.empty((m,n), dtype=np.uint32)\n",
    "view = new_img.view(dtype=np.uint8).reshape((m, n, 4))\n",
    "img_data = np.array(img2.getdata(),dtype=np.uint8)\n",
    "\n",
    "for i in range(m):\n",
    "    for j in range(n):\n",
    "        view[i,j,0] = img_data[i+m*j][0]\n",
    "        view[i,j,1] = img_data[i+m*j][1]\n",
    "        view[i,j,2] = img_data[i+m*j][2]\n",
    "        view[i,j,3] = 255\n",
    "    \n",
    "print type(new_img)\n",
    "print new_img.shape\n",
    "\n",
    "plt.imshow(new_img)\n",
    "#im=[im for i in range(len(champions.year))]\n",
    "\n",
    "p = figure(x_range=(0,10), y_range=(0,10))\n",
    "\n",
    "s1=p.image_rgba(image=[new_img], x=0, y=0, dw=1,dh=1)\n",
    "show(p)"
   ]
  },
  {
   "cell_type": "code",
   "execution_count": null,
   "metadata": {
    "collapsed": true
   },
   "outputs": [],
   "source": []
  }
 ],
 "metadata": {
  "kernelspec": {
   "display_name": "Python 2",
   "language": "python",
   "name": "python2"
  },
  "language_info": {
   "codemirror_mode": {
    "name": "ipython",
    "version": 2
   },
   "file_extension": ".py",
   "mimetype": "text/x-python",
   "name": "python",
   "nbconvert_exporter": "python",
   "pygments_lexer": "ipython2",
   "version": "2.7.14"
  }
 },
 "nbformat": 4,
 "nbformat_minor": 1
}
