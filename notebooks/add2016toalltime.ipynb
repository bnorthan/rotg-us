{
 "cells": [
  {
   "cell_type": "code",
   "execution_count": 52,
   "metadata": {
    "collapsed": true
   },
   "outputs": [],
   "source": [
    "import pandas as pd"
   ]
  },
  {
   "cell_type": "code",
   "execution_count": 1,
   "metadata": {
    "collapsed": false
   },
   "outputs": [
    {
     "ename": "NameError",
     "evalue": "name 'pd' is not defined",
     "output_type": "error",
     "traceback": [
      "\u001b[1;31m---------------------------------------------------------------------------\u001b[0m",
      "\u001b[1;31mNameError\u001b[0m                                 Traceback (most recent call last)",
      "\u001b[1;32m<ipython-input-1-6665ed9f562b>\u001b[0m in \u001b[0;36m<module>\u001b[1;34m()\u001b[0m\n\u001b[1;32m----> 1\u001b[1;33m \u001b[0mtemp\u001b[0m\u001b[1;33m=\u001b[0m\u001b[0mpd\u001b[0m\u001b[1;33m.\u001b[0m\u001b[0mread_csv\u001b[0m\u001b[1;33m(\u001b[0m\u001b[1;34m'../output/temp.csv'\u001b[0m\u001b[1;33m)\u001b[0m\u001b[1;33m\u001b[0m\u001b[0m\n\u001b[0m",
      "\u001b[1;31mNameError\u001b[0m: name 'pd' is not defined"
     ]
    }
   ],
   "source": [
    "temp=pd.read_csv('../output/temp.csv')"
   ]
  },
  {
   "cell_type": "code",
   "execution_count": 54,
   "metadata": {
    "collapsed": false
   },
   "outputs": [
    {
     "data": {
      "text/html": [
       "<div>\n",
       "<table border=\"1\" class=\"dataframe\">\n",
       "  <thead>\n",
       "    <tr style=\"text-align: right;\">\n",
       "      <th></th>\n",
       "      <th>PLACE</th>\n",
       "      <th>FIRSTNAME</th>\n",
       "      <th>LASTNAME</th>\n",
       "      <th>AGE</th>\n",
       "      <th>SEX</th>\n",
       "      <th>CITY</th>\n",
       "      <th>ST</th>\n",
       "      <th>TIME</th>\n",
       "      <th>YEAR</th>\n",
       "    </tr>\n",
       "  </thead>\n",
       "  <tbody>\n",
       "    <tr>\n",
       "      <th>0</th>\n",
       "      <td>1</td>\n",
       "      <td>Jeffrey</td>\n",
       "      <td>Brooks</td>\n",
       "      <td>22</td>\n",
       "      <td>M</td>\n",
       "      <td>Albany</td>\n",
       "      <td>NY</td>\n",
       "      <td>19:52</td>\n",
       "      <td>2000</td>\n",
       "    </tr>\n",
       "    <tr>\n",
       "      <th>1</th>\n",
       "      <td>2</td>\n",
       "      <td>Nick</td>\n",
       "      <td>Conway</td>\n",
       "      <td>24</td>\n",
       "      <td>M</td>\n",
       "      <td>Albany</td>\n",
       "      <td>NY</td>\n",
       "      <td>19:56</td>\n",
       "      <td>2000</td>\n",
       "    </tr>\n",
       "    <tr>\n",
       "      <th>2</th>\n",
       "      <td>3</td>\n",
       "      <td>Peter</td>\n",
       "      <td>Flynn</td>\n",
       "      <td>23</td>\n",
       "      <td>M</td>\n",
       "      <td>Schenectady</td>\n",
       "      <td>NY</td>\n",
       "      <td>20:22</td>\n",
       "      <td>2000</td>\n",
       "    </tr>\n",
       "    <tr>\n",
       "      <th>3</th>\n",
       "      <td>4</td>\n",
       "      <td>Jaime</td>\n",
       "      <td>Rodriguez</td>\n",
       "      <td>19</td>\n",
       "      <td>M</td>\n",
       "      <td>Albany</td>\n",
       "      <td>NY</td>\n",
       "      <td>20:33</td>\n",
       "      <td>2000</td>\n",
       "    </tr>\n",
       "    <tr>\n",
       "      <th>4</th>\n",
       "      <td>5</td>\n",
       "      <td>Tyson</td>\n",
       "      <td>Evensen</td>\n",
       "      <td>17</td>\n",
       "      <td>M</td>\n",
       "      <td>West Sand Lake</td>\n",
       "      <td>NY</td>\n",
       "      <td>21:08</td>\n",
       "      <td>2000</td>\n",
       "    </tr>\n",
       "  </tbody>\n",
       "</table>\n",
       "</div>"
      ],
      "text/plain": [
       "   PLACE FIRSTNAME   LASTNAME  AGE SEX            CITY  ST   TIME  YEAR\n",
       "0      1   Jeffrey     Brooks   22   M          Albany  NY  19:52  2000\n",
       "1      2      Nick     Conway   24   M          Albany  NY  19:56  2000\n",
       "2      3     Peter      Flynn   23   M     Schenectady  NY  20:22  2000\n",
       "3      4     Jaime  Rodriguez   19   M          Albany  NY  20:33  2000\n",
       "4      5     Tyson    Evensen   17   M  West Sand Lake  NY  21:08  2000"
      ]
     },
     "execution_count": 54,
     "metadata": {},
     "output_type": "execute_result"
    }
   ],
   "source": [
    "temp.head()"
   ]
  },
  {
   "cell_type": "code",
   "execution_count": 55,
   "metadata": {
    "collapsed": false
   },
   "outputs": [
    {
     "data": {
      "text/html": [
       "<div>\n",
       "<table border=\"1\" class=\"dataframe\">\n",
       "  <thead>\n",
       "    <tr style=\"text-align: right;\">\n",
       "      <th></th>\n",
       "      <th>Place</th>\n",
       "      <th>Name</th>\n",
       "      <th>No.</th>\n",
       "      <th>Age</th>\n",
       "      <th>S</th>\n",
       "      <th>City</th>\n",
       "      <th>St</th>\n",
       "      <th>Time</th>\n",
       "      <th>Pace</th>\n",
       "    </tr>\n",
       "  </thead>\n",
       "  <tbody>\n",
       "    <tr>\n",
       "      <th>0</th>\n",
       "      <td>1</td>\n",
       "      <td>Eric Macknight</td>\n",
       "      <td>383</td>\n",
       "      <td>27</td>\n",
       "      <td>M</td>\n",
       "      <td>Ballston Lake</td>\n",
       "      <td>NY</td>\n",
       "      <td>19:57</td>\n",
       "      <td>5:00</td>\n",
       "    </tr>\n",
       "    <tr>\n",
       "      <th>1</th>\n",
       "      <td>2</td>\n",
       "      <td>Aaron Lozier</td>\n",
       "      <td>378</td>\n",
       "      <td>27</td>\n",
       "      <td>M</td>\n",
       "      <td>Albany</td>\n",
       "      <td>NY</td>\n",
       "      <td>20:22</td>\n",
       "      <td>5:06</td>\n",
       "    </tr>\n",
       "    <tr>\n",
       "      <th>2</th>\n",
       "      <td>3</td>\n",
       "      <td>Alex Benway</td>\n",
       "      <td>217</td>\n",
       "      <td>25</td>\n",
       "      <td>M</td>\n",
       "      <td>Saratoga Spring</td>\n",
       "      <td>NY</td>\n",
       "      <td>20:52</td>\n",
       "      <td>5:13</td>\n",
       "    </tr>\n",
       "    <tr>\n",
       "      <th>3</th>\n",
       "      <td>4</td>\n",
       "      <td>Shaun Donegan</td>\n",
       "      <td>278</td>\n",
       "      <td>30</td>\n",
       "      <td>M</td>\n",
       "      <td>Malta</td>\n",
       "      <td>NY</td>\n",
       "      <td>20:58</td>\n",
       "      <td>5:15</td>\n",
       "    </tr>\n",
       "    <tr>\n",
       "      <th>4</th>\n",
       "      <td>5</td>\n",
       "      <td>Macky Lloyd</td>\n",
       "      <td>374</td>\n",
       "      <td>25</td>\n",
       "      <td>M</td>\n",
       "      <td>Albany</td>\n",
       "      <td>NY</td>\n",
       "      <td>21:13</td>\n",
       "      <td>5:19</td>\n",
       "    </tr>\n",
       "  </tbody>\n",
       "</table>\n",
       "</div>"
      ],
      "text/plain": [
       "   Place            Name  No.  Age  S             City  St   Time  Pace\n",
       "0      1  Eric Macknight  383   27  M    Ballston Lake  NY  19:57  5:00\n",
       "1      2    Aaron Lozier  378   27  M           Albany  NY  20:22  5:06\n",
       "2      3     Alex Benway  217   25  M  Saratoga Spring  NY  20:52  5:13\n",
       "3      4   Shaun Donegan  278   30  M            Malta  NY  20:58  5:15\n",
       "4      5     Macky Lloyd  374   25  M           Albany  NY  21:13  5:19"
      ]
     },
     "execution_count": 55,
     "metadata": {},
     "output_type": "execute_result"
    }
   ],
   "source": [
    "# import the results\n",
    "results=pd.read_fwf('../data/rotg2016.txt')\n",
    "\n",
    "results.head()"
   ]
  },
  {
   "cell_type": "code",
   "execution_count": 60,
   "metadata": {
    "collapsed": false
   },
   "outputs": [],
   "source": [
    "temp2=pd.DataFrame()\n",
    "temp2['PLACE']=results.Place\n",
    "temp2['FIRSTNAME']=results.Name.apply(lambda x: x.split(' ',1)[0])\n",
    "temp2['LASTNAME']=results.Name.apply(lambda x: x.split(' ',1)[1])\n",
    "temp2['AGE']=results.Age\n",
    "temp2['SEX']=results.S\n",
    "temp2['CITY']=results.City\n",
    "temp2['ST']=results.St\n",
    "temp2['TIME']=results.Time\n",
    "temp2['YEAR']=2016\n"
   ]
  },
  {
   "cell_type": "code",
   "execution_count": 61,
   "metadata": {
    "collapsed": false
   },
   "outputs": [
    {
     "data": {
      "text/html": [
       "<div>\n",
       "<table border=\"1\" class=\"dataframe\">\n",
       "  <thead>\n",
       "    <tr style=\"text-align: right;\">\n",
       "      <th></th>\n",
       "      <th>PLACE</th>\n",
       "      <th>FIRSTNAME</th>\n",
       "      <th>LASTNAME</th>\n",
       "      <th>AGE</th>\n",
       "      <th>SEX</th>\n",
       "      <th>CITY</th>\n",
       "      <th>ST</th>\n",
       "      <th>TIME</th>\n",
       "      <th>YEAR</th>\n",
       "    </tr>\n",
       "  </thead>\n",
       "  <tbody>\n",
       "    <tr>\n",
       "      <th>0</th>\n",
       "      <td>1</td>\n",
       "      <td>Eric</td>\n",
       "      <td>Macknight</td>\n",
       "      <td>27</td>\n",
       "      <td>M</td>\n",
       "      <td>Ballston Lake</td>\n",
       "      <td>NY</td>\n",
       "      <td>19:57</td>\n",
       "      <td>2016</td>\n",
       "    </tr>\n",
       "    <tr>\n",
       "      <th>1</th>\n",
       "      <td>2</td>\n",
       "      <td>Aaron</td>\n",
       "      <td>Lozier</td>\n",
       "      <td>27</td>\n",
       "      <td>M</td>\n",
       "      <td>Albany</td>\n",
       "      <td>NY</td>\n",
       "      <td>20:22</td>\n",
       "      <td>2016</td>\n",
       "    </tr>\n",
       "    <tr>\n",
       "      <th>2</th>\n",
       "      <td>3</td>\n",
       "      <td>Alex</td>\n",
       "      <td>Benway</td>\n",
       "      <td>25</td>\n",
       "      <td>M</td>\n",
       "      <td>Saratoga Spring</td>\n",
       "      <td>NY</td>\n",
       "      <td>20:52</td>\n",
       "      <td>2016</td>\n",
       "    </tr>\n",
       "    <tr>\n",
       "      <th>3</th>\n",
       "      <td>4</td>\n",
       "      <td>Shaun</td>\n",
       "      <td>Donegan</td>\n",
       "      <td>30</td>\n",
       "      <td>M</td>\n",
       "      <td>Malta</td>\n",
       "      <td>NY</td>\n",
       "      <td>20:58</td>\n",
       "      <td>2016</td>\n",
       "    </tr>\n",
       "    <tr>\n",
       "      <th>4</th>\n",
       "      <td>5</td>\n",
       "      <td>Macky</td>\n",
       "      <td>Lloyd</td>\n",
       "      <td>25</td>\n",
       "      <td>M</td>\n",
       "      <td>Albany</td>\n",
       "      <td>NY</td>\n",
       "      <td>21:13</td>\n",
       "      <td>2016</td>\n",
       "    </tr>\n",
       "  </tbody>\n",
       "</table>\n",
       "</div>"
      ],
      "text/plain": [
       "   PLACE FIRSTNAME   LASTNAME  AGE SEX             CITY  ST   TIME  YEAR\n",
       "0      1      Eric  Macknight   27   M    Ballston Lake  NY  19:57  2016\n",
       "1      2     Aaron     Lozier   27   M           Albany  NY  20:22  2016\n",
       "2      3      Alex     Benway   25   M  Saratoga Spring  NY  20:52  2016\n",
       "3      4     Shaun    Donegan   30   M            Malta  NY  20:58  2016\n",
       "4      5     Macky      Lloyd   25   M           Albany  NY  21:13  2016"
      ]
     },
     "execution_count": 61,
     "metadata": {},
     "output_type": "execute_result"
    }
   ],
   "source": [
    "temp2.head()"
   ]
  },
  {
   "cell_type": "code",
   "execution_count": 64,
   "metadata": {
    "collapsed": true
   },
   "outputs": [],
   "source": [
    "alltime=temp.append(temp2).reset_index(drop=True)"
   ]
  },
  {
   "cell_type": "code",
   "execution_count": 66,
   "metadata": {
    "collapsed": false
   },
   "outputs": [
    {
     "data": {
      "text/html": [
       "<div>\n",
       "<table border=\"1\" class=\"dataframe\">\n",
       "  <thead>\n",
       "    <tr style=\"text-align: right;\">\n",
       "      <th></th>\n",
       "      <th>PLACE</th>\n",
       "      <th>FIRSTNAME</th>\n",
       "      <th>LASTNAME</th>\n",
       "      <th>AGE</th>\n",
       "      <th>SEX</th>\n",
       "      <th>CITY</th>\n",
       "      <th>ST</th>\n",
       "      <th>TIME</th>\n",
       "      <th>YEAR</th>\n",
       "    </tr>\n",
       "  </thead>\n",
       "  <tbody>\n",
       "    <tr>\n",
       "      <th>7005</th>\n",
       "      <td>300</td>\n",
       "      <td>Rebecca</td>\n",
       "      <td>McMillen</td>\n",
       "      <td>42</td>\n",
       "      <td>F</td>\n",
       "      <td>Schenectady</td>\n",
       "      <td>NY</td>\n",
       "      <td>54:37</td>\n",
       "      <td>2016</td>\n",
       "    </tr>\n",
       "    <tr>\n",
       "      <th>7006</th>\n",
       "      <td>301</td>\n",
       "      <td>Jennifer</td>\n",
       "      <td>Rittner</td>\n",
       "      <td>44</td>\n",
       "      <td>F</td>\n",
       "      <td>Rotterdam</td>\n",
       "      <td>NY</td>\n",
       "      <td>55:06</td>\n",
       "      <td>2016</td>\n",
       "    </tr>\n",
       "    <tr>\n",
       "      <th>7007</th>\n",
       "      <td>302</td>\n",
       "      <td>Kate</td>\n",
       "      <td>Bellotti</td>\n",
       "      <td>39</td>\n",
       "      <td>F</td>\n",
       "      <td>Scotia</td>\n",
       "      <td>NY</td>\n",
       "      <td>55:31</td>\n",
       "      <td>2016</td>\n",
       "    </tr>\n",
       "    <tr>\n",
       "      <th>7008</th>\n",
       "      <td>303</td>\n",
       "      <td>Kimberly</td>\n",
       "      <td>Furnish</td>\n",
       "      <td>43</td>\n",
       "      <td>F</td>\n",
       "      <td>Scotia</td>\n",
       "      <td>NY</td>\n",
       "      <td>55:31</td>\n",
       "      <td>2016</td>\n",
       "    </tr>\n",
       "    <tr>\n",
       "      <th>7009</th>\n",
       "      <td>304</td>\n",
       "      <td>Patricia</td>\n",
       "      <td>Dipierro</td>\n",
       "      <td>63</td>\n",
       "      <td>F</td>\n",
       "      <td>Cherry Plains</td>\n",
       "      <td>NY</td>\n",
       "      <td>56:07</td>\n",
       "      <td>2016</td>\n",
       "    </tr>\n",
       "  </tbody>\n",
       "</table>\n",
       "</div>"
      ],
      "text/plain": [
       "      PLACE FIRSTNAME  LASTNAME  AGE SEX           CITY  ST   TIME  YEAR\n",
       "7005    300   Rebecca  McMillen   42   F    Schenectady  NY  54:37  2016\n",
       "7006    301  Jennifer   Rittner   44   F      Rotterdam  NY  55:06  2016\n",
       "7007    302      Kate  Bellotti   39   F         Scotia  NY  55:31  2016\n",
       "7008    303  Kimberly   Furnish   43   F         Scotia  NY  55:31  2016\n",
       "7009    304  Patricia  Dipierro   63   F  Cherry Plains  NY  56:07  2016"
      ]
     },
     "execution_count": 66,
     "metadata": {},
     "output_type": "execute_result"
    }
   ],
   "source": [
    "alltime.tail()"
   ]
  },
  {
   "cell_type": "code",
   "execution_count": 68,
   "metadata": {
    "collapsed": true
   },
   "outputs": [],
   "source": [
    "alltime.to_csv('../output/alltime.csv',index=False)"
   ]
  },
  {
   "cell_type": "code",
   "execution_count": 2,
   "metadata": {
    "collapsed": false
   },
   "outputs": [
    {
     "ename": "NameError",
     "evalue": "name 'results' is not defined",
     "output_type": "error",
     "traceback": [
      "\u001b[1;31m---------------------------------------------------------------------------\u001b[0m",
      "\u001b[1;31mNameError\u001b[0m                                 Traceback (most recent call last)",
      "\u001b[1;32m<ipython-input-2-45025b85a41d>\u001b[0m in \u001b[0;36m<module>\u001b[1;34m()\u001b[0m\n\u001b[1;32m----> 1\u001b[1;33m \u001b[0mtype\u001b[0m\u001b[1;33m(\u001b[0m\u001b[0mresults\u001b[0m\u001b[1;33m.\u001b[0m\u001b[0mTime\u001b[0m\u001b[1;33m)\u001b[0m\u001b[1;33m\u001b[0m\u001b[0m\n\u001b[0m",
      "\u001b[1;31mNameError\u001b[0m: name 'results' is not defined"
     ]
    }
   ],
   "source": [
    "type(results.Time)"
   ]
  },
  {
   "cell_type": "code",
   "execution_count": null,
   "metadata": {
    "collapsed": true
   },
   "outputs": [],
   "source": []
  }
 ],
 "metadata": {
  "kernelspec": {
   "display_name": "Python 2",
   "language": "python",
   "name": "python2"
  },
  "language_info": {
   "codemirror_mode": {
    "name": "ipython",
    "version": 2
   },
   "file_extension": ".py",
   "mimetype": "text/x-python",
   "name": "python",
   "nbconvert_exporter": "python",
   "pygments_lexer": "ipython2",
   "version": "2.7.11"
  }
 },
 "nbformat": 4,
 "nbformat_minor": 0
}
