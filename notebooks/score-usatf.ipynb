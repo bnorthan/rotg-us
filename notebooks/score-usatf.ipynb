{
 "cells": [
  {
   "cell_type": "code",
   "execution_count": 1,
   "metadata": {
    "collapsed": true
   },
   "outputs": [],
   "source": [
    "import pandas as pd"
   ]
  },
  {
   "cell_type": "code",
   "execution_count": 2,
   "metadata": {
    "collapsed": false
   },
   "outputs": [],
   "source": [
    "# import pre-race csv with the club info\n",
    "clubs=pd.read_csv('../data/rotg-final.csv')\n",
    "\n",
    "clubs=clubs[['first','last','gender','age','clubname']]\n",
    "\n",
    "# create collumns for open, masters and agegrade\n",
    "clubs['open']='yes'\n",
    "clubs['master'] =  clubs['age'].map(lambda x: 'no' if x < 40 else 'yes')\n",
    "clubs['agegrade'] =  clubs['age'].map(lambda x: 'no' if x < 50 else 'yes')"
   ]
  },
  {
   "cell_type": "code",
   "execution_count": 3,
   "metadata": {
    "collapsed": false
   },
   "outputs": [
    {
     "name": "stdout",
     "output_type": "stream",
     "text": [
      "(336, 9)\n"
     ]
    }
   ],
   "source": [
    "# create name column\n",
    "clubs['Name']=clubs['first']+\" \"+clubs['last']\n",
    "\n",
    "# capitalize names\n",
    "clubs['Name']=clubs['Name'].apply(lambda x: x.title())\n",
    "\n",
    "print clubs.shape"
   ]
  },
  {
   "cell_type": "code",
   "execution_count": 4,
   "metadata": {
    "collapsed": true
   },
   "outputs": [],
   "source": [
    "# load actual results\n",
    "results=pd.read_fwf('../data/rotg2016.txt')"
   ]
  },
  {
   "cell_type": "code",
   "execution_count": 5,
   "metadata": {
    "collapsed": false
   },
   "outputs": [],
   "source": [
    "# in this step we use diflib to map 'results.Name' to the closest match in 'clubs.Name' this will ensure\n",
    "# we have the same name in each\n",
    "import difflib \n",
    "results.Name = results.Name.map(lambda x: difflib.get_close_matches(x, clubs.Name, cutoff=0.4)[0])"
   ]
  },
  {
   "cell_type": "code",
   "execution_count": 6,
   "metadata": {
    "collapsed": false
   },
   "outputs": [
    {
     "name": "stdout",
     "output_type": "stream",
     "text": [
      "(305, 17)\n"
     ]
    }
   ],
   "source": [
    "# now lets merge results with clubs\n",
    "results=pd.merge(clubs, results, on='Name')\n",
    "print results.shape"
   ]
  },
  {
   "cell_type": "code",
   "execution_count": 7,
   "metadata": {
    "collapsed": false
   },
   "outputs": [
    {
     "data": {
      "text/html": [
       "<div>\n",
       "<table border=\"1\" class=\"dataframe\">\n",
       "  <thead>\n",
       "    <tr style=\"text-align: right;\">\n",
       "      <th></th>\n",
       "      <th>first</th>\n",
       "      <th>last</th>\n",
       "      <th>gender</th>\n",
       "      <th>age</th>\n",
       "      <th>clubname</th>\n",
       "      <th>open</th>\n",
       "      <th>master</th>\n",
       "      <th>agegrade</th>\n",
       "      <th>Name</th>\n",
       "      <th>Place</th>\n",
       "      <th>No.</th>\n",
       "      <th>Age</th>\n",
       "      <th>S</th>\n",
       "      <th>City</th>\n",
       "      <th>St</th>\n",
       "      <th>Time</th>\n",
       "      <th>Pace</th>\n",
       "      <th>time</th>\n",
       "      <th>timedelta</th>\n",
       "      <th>secs</th>\n",
       "    </tr>\n",
       "  </thead>\n",
       "  <tbody>\n",
       "    <tr>\n",
       "      <th>0</th>\n",
       "      <td>Katherine</td>\n",
       "      <td>Ambrosio</td>\n",
       "      <td>F</td>\n",
       "      <td>65</td>\n",
       "      <td>NaN</td>\n",
       "      <td>yes</td>\n",
       "      <td>yes</td>\n",
       "      <td>yes</td>\n",
       "      <td>Katherine Ambrosio</td>\n",
       "      <td>230</td>\n",
       "      <td>201</td>\n",
       "      <td>65</td>\n",
       "      <td>F</td>\n",
       "      <td>Delmar</td>\n",
       "      <td>NY</td>\n",
       "      <td>38:10</td>\n",
       "      <td>9:33</td>\n",
       "      <td>1900-01-01 00:38:10</td>\n",
       "      <td>00:38:10</td>\n",
       "      <td>2290</td>\n",
       "    </tr>\n",
       "    <tr>\n",
       "      <th>1</th>\n",
       "      <td>Marie</td>\n",
       "      <td>Arrao</td>\n",
       "      <td>F</td>\n",
       "      <td>60</td>\n",
       "      <td>NaN</td>\n",
       "      <td>yes</td>\n",
       "      <td>yes</td>\n",
       "      <td>yes</td>\n",
       "      <td>Marie Arrao</td>\n",
       "      <td>235</td>\n",
       "      <td>202</td>\n",
       "      <td>60</td>\n",
       "      <td>F</td>\n",
       "      <td>Clifton Park</td>\n",
       "      <td>NY</td>\n",
       "      <td>38:19</td>\n",
       "      <td>9:35</td>\n",
       "      <td>1900-01-01 00:38:19</td>\n",
       "      <td>00:38:19</td>\n",
       "      <td>2299</td>\n",
       "    </tr>\n",
       "    <tr>\n",
       "      <th>2</th>\n",
       "      <td>Amy</td>\n",
       "      <td>Babeu</td>\n",
       "      <td>F</td>\n",
       "      <td>23</td>\n",
       "      <td>ARE Racing Team</td>\n",
       "      <td>yes</td>\n",
       "      <td>no</td>\n",
       "      <td>no</td>\n",
       "      <td>Amy Babeu</td>\n",
       "      <td>51</td>\n",
       "      <td>203</td>\n",
       "      <td>23</td>\n",
       "      <td>F</td>\n",
       "      <td>Guilderland</td>\n",
       "      <td>NY</td>\n",
       "      <td>26:02</td>\n",
       "      <td>6:31</td>\n",
       "      <td>1900-01-01 00:26:02</td>\n",
       "      <td>00:26:02</td>\n",
       "      <td>1562</td>\n",
       "    </tr>\n",
       "    <tr>\n",
       "      <th>3</th>\n",
       "      <td>Richard</td>\n",
       "      <td>Baker</td>\n",
       "      <td>M</td>\n",
       "      <td>41</td>\n",
       "      <td>NaN</td>\n",
       "      <td>yes</td>\n",
       "      <td>yes</td>\n",
       "      <td>no</td>\n",
       "      <td>Richard Baker</td>\n",
       "      <td>260</td>\n",
       "      <td>206</td>\n",
       "      <td>41</td>\n",
       "      <td>M</td>\n",
       "      <td>Rensselaer</td>\n",
       "      <td>NY</td>\n",
       "      <td>41:01</td>\n",
       "      <td>10:16</td>\n",
       "      <td>1900-01-01 00:41:01</td>\n",
       "      <td>00:41:01</td>\n",
       "      <td>2461</td>\n",
       "    </tr>\n",
       "    <tr>\n",
       "      <th>4</th>\n",
       "      <td>Richard</td>\n",
       "      <td>Baker</td>\n",
       "      <td>M</td>\n",
       "      <td>41</td>\n",
       "      <td>NaN</td>\n",
       "      <td>yes</td>\n",
       "      <td>yes</td>\n",
       "      <td>no</td>\n",
       "      <td>Richard Baker</td>\n",
       "      <td>260</td>\n",
       "      <td>206</td>\n",
       "      <td>41</td>\n",
       "      <td>M</td>\n",
       "      <td>Rensselaer</td>\n",
       "      <td>NY</td>\n",
       "      <td>41:01</td>\n",
       "      <td>10:16</td>\n",
       "      <td>1900-01-01 00:41:01</td>\n",
       "      <td>00:41:01</td>\n",
       "      <td>2461</td>\n",
       "    </tr>\n",
       "  </tbody>\n",
       "</table>\n",
       "</div>"
      ],
      "text/plain": [
       "       first      last gender  age         clubname open master agegrade  \\\n",
       "0  Katherine  Ambrosio      F   65              NaN  yes    yes      yes   \n",
       "1      Marie     Arrao      F   60              NaN  yes    yes      yes   \n",
       "2        Amy     Babeu      F   23  ARE Racing Team  yes     no       no   \n",
       "3    Richard     Baker      M   41              NaN  yes    yes       no   \n",
       "4    Richard     Baker      M   41              NaN  yes    yes       no   \n",
       "\n",
       "                 Name  Place  No.  Age  S          City  St   Time   Pace  \\\n",
       "0  Katherine Ambrosio    230  201   65  F        Delmar  NY  38:10   9:33   \n",
       "1         Marie Arrao    235  202   60  F  Clifton Park  NY  38:19   9:35   \n",
       "2           Amy Babeu     51  203   23  F   Guilderland  NY  26:02   6:31   \n",
       "3       Richard Baker    260  206   41  M    Rensselaer  NY  41:01  10:16   \n",
       "4       Richard Baker    260  206   41  M    Rensselaer  NY  41:01  10:16   \n",
       "\n",
       "                 time  timedelta  secs  \n",
       "0 1900-01-01 00:38:10   00:38:10  2290  \n",
       "1 1900-01-01 00:38:19   00:38:19  2299  \n",
       "2 1900-01-01 00:26:02   00:26:02  1562  \n",
       "3 1900-01-01 00:41:01   00:41:01  2461  \n",
       "4 1900-01-01 00:41:01   00:41:01  2461  "
      ]
     },
     "execution_count": 7,
     "metadata": {},
     "output_type": "execute_result"
    }
   ],
   "source": [
    "# in this block we convert the time string into a timedelta and seconds column which can be eased\n",
    "# for numerical operations (sorting, adding times, etc.)\n",
    "\n",
    "import numpy as np\n",
    "import datetime\n",
    "\n",
    "# first strip minutes and seconds\n",
    "results['time'] = results.Time.apply(lambda x: datetime.datetime.strptime(x,'%M:%S'))\n",
    "# create time delta by subtracting a base time\n",
    "results['timedelta'] = results.time - datetime.datetime.strptime('00:00,0','%M:%S,%f')\n",
    "# create a seconds column\n",
    "results['secs'] = results['timedelta'].apply(lambda x: x / np.timedelta64(1, 's'))\n",
    "\n",
    "results.head()"
   ]
  },
  {
   "cell_type": "code",
   "execution_count": 255,
   "metadata": {
    "collapsed": false
   },
   "outputs": [
    {
     "name": "stdout",
     "output_type": "stream",
     "text": [
      "['ARE Racing Team', 'Hudson Mohawk Road Runners Club', 'Kinetic Running Club', 'Willow Street AC', 'Team Utopia', 'Adirondack Athletic Club', 'Saratoga Stryders', 'Fleet Feet Sports Running/Walking Club', 'Kinderhook Runners Club', 'Castleton Cruisers']\n"
     ]
    }
   ],
   "source": [
    "# get unique club names\n",
    "clubnames=clubs.clubname.unique()\n",
    "clubnames = [x for x in clubnames if str(x) != 'nan']\n",
    "print clubnames"
   ]
  },
  {
   "cell_type": "code",
   "execution_count": 256,
   "metadata": {
    "collapsed": false
   },
   "outputs": [],
   "source": [
    "def clubReport(clubname, gender, category):\n",
    "    \n",
    "    racers=results[results.clubname==clubname]\n",
    "    racers=racers[racers.gender==gender]\n",
    "    racers=racers[racers[category]=='yes']\n",
    "    #print racers\n",
    "    '''males=males.sort('age')\n",
    "    \n",
    "    females=racers[racers.gender=='F']\n",
    "    females=females.sort('age')\n",
    "    \n",
    "    mhtml = males.to_html(index=False) if males.shape[0]>0 else None\n",
    "    fhtml = females.to_html(index=False) if females.shape[0]>0 else None\n",
    "    \n",
    "    return mhtml, fhtml'''\n",
    "    return racers"
   ]
  },
  {
   "cell_type": "code",
   "execution_count": 257,
   "metadata": {
    "collapsed": false
   },
   "outputs": [],
   "source": [
    "def scoreCategory(gender, category):\n",
    "    names=[]\n",
    "    times=[]\n",
    "    for club in clubnames:\n",
    "        scored=clubReport(club, gender, category)\n",
    "        \n",
    "        if scored.shape[0]>=4:\n",
    "            names.append(club)\n",
    "            times.append(scored.timedelta.order()[0:4].sum())\n",
    "    \n",
    "    return pd.DataFrame({'club name':names,'total_time':times}).sort('total_time')\n",
    "        "
   ]
  },
  {
   "cell_type": "code",
   "execution_count": 258,
   "metadata": {
    "collapsed": false
   },
   "outputs": [
    {
     "data": {
      "text/html": [
       "<div>\n",
       "<table border=\"1\" class=\"dataframe\">\n",
       "  <thead>\n",
       "    <tr style=\"text-align: right;\">\n",
       "      <th></th>\n",
       "      <th>club name</th>\n",
       "      <th>total_time</th>\n",
       "    </tr>\n",
       "  </thead>\n",
       "  <tbody>\n",
       "    <tr>\n",
       "      <th>0</th>\n",
       "      <td>Willow Street AC</td>\n",
       "      <td>01:31:38</td>\n",
       "    </tr>\n",
       "    <tr>\n",
       "      <th>2</th>\n",
       "      <td>Adirondack Athletic Club</td>\n",
       "      <td>01:36:52</td>\n",
       "    </tr>\n",
       "    <tr>\n",
       "      <th>3</th>\n",
       "      <td>Saratoga Stryders</td>\n",
       "      <td>01:44:57</td>\n",
       "    </tr>\n",
       "    <tr>\n",
       "      <th>1</th>\n",
       "      <td>Team Utopia</td>\n",
       "      <td>01:45:27</td>\n",
       "    </tr>\n",
       "    <tr>\n",
       "      <th>4</th>\n",
       "      <td>Fleet Feet Sports Running/Walking Club</td>\n",
       "      <td>02:00:42</td>\n",
       "    </tr>\n",
       "  </tbody>\n",
       "</table>\n",
       "</div>"
      ],
      "text/plain": [
       "                                club name  total_time\n",
       "0                        Willow Street AC    01:31:38\n",
       "2                Adirondack Athletic Club    01:36:52\n",
       "3                       Saratoga Stryders    01:44:57\n",
       "1                             Team Utopia    01:45:27\n",
       "4  Fleet Feet Sports Running/Walking Club    02:00:42"
      ]
     },
     "execution_count": 258,
     "metadata": {},
     "output_type": "execute_result"
    }
   ],
   "source": [
    "results.Name.astype(str).split(' ',1)[0]test = scoreCategory('M', 'master')\n",
    "test"
   ]
  },
  {
   "cell_type": "code",
   "execution_count": 259,
   "metadata": {
    "collapsed": false
   },
   "outputs": [
    {
     "name": "stdout",
     "output_type": "stream",
     "text": [
      "True\n",
      "0 days 01:25:04\n"
     ]
    }
   ],
   "source": [
    "test=clubReport('Willow Street AC', 'M', 'open')\n",
    "print test.shape[0]>=4\n",
    "print test.timedelta.order()[0:4].sum()"
   ]
  },
  {
   "cell_type": "code",
   "execution_count": 260,
   "metadata": {
    "collapsed": false
   },
   "outputs": [],
   "source": [
    "f = open('../output/usatfp.html','w')\n",
    "\n",
    "message = \"\"\"<html>\n",
    "<head>\n",
    "    <meta charset=\"utf-8\">\n",
    "    <meta http-equiv=\"X-UA-Compatible\" content=\"chrome=1\">\n",
    "    <title>Runnin&#39; of the Green USATF Grand Prix</title>\n",
    "\n",
    "    <link rel=\"stylesheet\" href=\"stylesheets/styles.css\">\n",
    "    <link rel=\"stylesheet\" href=\"stylesheets/github-light.css\">\n",
    "    <meta name=\"viewport\" content=\"width=device-width\">\n",
    "    <!--[if lt IE 9]>\n",
    "    <script src=\"//html5shiv.googlecode.com/svn/trunk/html5.js\"></script>\n",
    "    <![endif]-->\n",
    "  </head>\n",
    "<body><h1>Runnin' of the Green USATF Grand Prix Club Preliminary Results</h1>\"\"\"\n",
    "\n",
    "#clubname='ARE Racing Team'\n",
    "\n",
    "for category in ['open','master','agegrade']:\n",
    "    for gender in ['M','F']:\n",
    "\n",
    "        table=scoreCategory(gender, category)\n",
    "        html=table.to_html(index=False)\n",
    "\n",
    "        message=message+\"<h2>\"+gender+\" \"+category+\"</h2>\"\n",
    "\n",
    "        if (html!=None):\n",
    "            message=message+html\n",
    "            message=message+\"<br>\"\n",
    "\n",
    "        message=message+\"\"\"</body>\n",
    "        </html>\"\"\"\n",
    "\n",
    "f.write(message)\n",
    "f.close()"
   ]
  },
  {
   "cell_type": "code",
   "execution_count": 261,
   "metadata": {
    "collapsed": false
   },
   "outputs": [
    {
     "name": "stderr",
     "output_type": "stream",
     "text": [
      "Ignored `overflow-x: auto` at 133:3, unknown property.\n",
      "WARNING:weasyprint:Ignored `overflow-x: auto` at 133:3, unknown property.\n",
      "Ignored `-webkit-font-smoothing: subpixel-antialiased` at 164:3, unknown property.\n",
      "WARNING:weasyprint:Ignored `-webkit-font-smoothing: subpixel-antialiased` at 164:3, unknown property.\n",
      "Ignored `-webkit-font-smoothing: subpixel-antialiased` at 248:3, unknown property.\n",
      "WARNING:weasyprint:Ignored `-webkit-font-smoothing: subpixel-antialiased` at 248:3, unknown property.\n",
      "Parse error at 1:1, unknown at-rule in stylesheet context: @font-face\n",
      "WARNING:weasyprint:Parse error at 1:1, unknown at-rule in stylesheet context: @font-face\n",
      "Parse error at 15:1, unknown at-rule in stylesheet context: @font-face\n",
      "WARNING:weasyprint:Parse error at 15:1, unknown at-rule in stylesheet context: @font-face\n",
      "Parse error at 29:1, unknown at-rule in stylesheet context: @font-face\n",
      "WARNING:weasyprint:Parse error at 29:1, unknown at-rule in stylesheet context: @font-face\n",
      "Parse error at 43:1, unknown at-rule in stylesheet context: @font-face\n",
      "WARNING:weasyprint:Parse error at 43:1, unknown at-rule in stylesheet context: @font-face\n",
      "Parse error at 251:8, expected a media type, got IDENT, IDENT, (\n",
      "WARNING:weasyprint:Parse error at 251:8, expected a media type, got IDENT, IDENT, (\n",
      "Parse error at 286:8, expected a media type, got IDENT, IDENT, (\n",
      "WARNING:weasyprint:Parse error at 286:8, expected a media type, got IDENT, IDENT, (\n",
      "Parse error at 304:8, expected a media type, got IDENT, IDENT, (\n",
      "WARNING:weasyprint:Parse error at 304:8, expected a media type, got IDENT, IDENT, (\n"
     ]
    }
   ],
   "source": [
    "from weasyprint import HTML\n",
    "HTML(\"../output/usatfp.html\").write_pdf(\"../output/rotg2016_usatfteam.pdf\")"
   ]
  },
  {
   "cell_type": "code",
   "execution_count": null,
   "metadata": {
    "collapsed": true
   },
   "outputs": [],
   "source": []
  }
 ],
 "metadata": {
  "kernelspec": {
   "display_name": "Python 2",
   "language": "python",
   "name": "python2"
  },
  "language_info": {
   "codemirror_mode": {
    "name": "ipython",
    "version": 2
   },
   "file_extension": ".py",
   "mimetype": "text/x-python",
   "name": "python",
   "nbconvert_exporter": "python",
   "pygments_lexer": "ipython2",
   "version": "2.7.11"
  }
 },
 "nbformat": 4,
 "nbformat_minor": 0
}
