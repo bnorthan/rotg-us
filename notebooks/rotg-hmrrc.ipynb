{
 "cells": [
  {
   "cell_type": "code",
   "execution_count": 16,
   "metadata": {
    "collapsed": false
   },
   "outputs": [
    {
     "name": "stdout",
     "output_type": "stream",
     "text": [
      "(284, 12)\n"
     ]
    },
    {
     "data": {
      "text/html": [
       "<div>\n",
       "<table border=\"1\" class=\"dataframe\">\n",
       "  <thead>\n",
       "    <tr style=\"text-align: right;\">\n",
       "      <th></th>\n",
       "      <th>first</th>\n",
       "      <th>last</th>\n",
       "      <th>gender</th>\n",
       "      <th>city</th>\n",
       "      <th>state</th>\n",
       "      <th>age</th>\n",
       "      <th>usatfnum1</th>\n",
       "      <th>usatfnum2</th>\n",
       "      <th>hmrrc</th>\n",
       "      <th>usatf</th>\n",
       "      <th>clubname</th>\n",
       "      <th>uptodate</th>\n",
       "    </tr>\n",
       "  </thead>\n",
       "  <tbody>\n",
       "    <tr>\n",
       "      <th>0</th>\n",
       "      <td>Raymond W.</td>\n",
       "      <td>Lee, Jr.</td>\n",
       "      <td>M</td>\n",
       "      <td>Halfmoon</td>\n",
       "      <td>NY</td>\n",
       "      <td>74</td>\n",
       "      <td>1400029425</td>\n",
       "      <td>1400029425</td>\n",
       "      <td>Yes</td>\n",
       "      <td>Yes</td>\n",
       "      <td>Adirondack Athletic Club</td>\n",
       "      <td>yes</td>\n",
       "    </tr>\n",
       "    <tr>\n",
       "      <th>1</th>\n",
       "      <td>Thomas</td>\n",
       "      <td>Dalton</td>\n",
       "      <td>M</td>\n",
       "      <td>Schenectady</td>\n",
       "      <td>NY</td>\n",
       "      <td>57</td>\n",
       "      <td>1400029581</td>\n",
       "      <td>1400029581</td>\n",
       "      <td>No</td>\n",
       "      <td>Yes</td>\n",
       "      <td>Adirondack Athletic Club</td>\n",
       "      <td>yes</td>\n",
       "    </tr>\n",
       "    <tr>\n",
       "      <th>2</th>\n",
       "      <td>rob</td>\n",
       "      <td>picotte</td>\n",
       "      <td>M</td>\n",
       "      <td>Malta</td>\n",
       "      <td>NY</td>\n",
       "      <td>62</td>\n",
       "      <td>1400510465</td>\n",
       "      <td>1400510465</td>\n",
       "      <td>Yes</td>\n",
       "      <td>Yes</td>\n",
       "      <td>Adirondack Athletic Club</td>\n",
       "      <td>yes</td>\n",
       "    </tr>\n",
       "    <tr>\n",
       "      <th>3</th>\n",
       "      <td>Chris</td>\n",
       "      <td>Buckley</td>\n",
       "      <td>M</td>\n",
       "      <td>Burnt Hills</td>\n",
       "      <td>NY</td>\n",
       "      <td>54</td>\n",
       "      <td>1400713184</td>\n",
       "      <td>1400713184</td>\n",
       "      <td>Yes</td>\n",
       "      <td>Yes</td>\n",
       "      <td>Adirondack Athletic Club</td>\n",
       "      <td>yes</td>\n",
       "    </tr>\n",
       "    <tr>\n",
       "      <th>4</th>\n",
       "      <td>Tom</td>\n",
       "      <td>McGuire</td>\n",
       "      <td>M</td>\n",
       "      <td>Slingerlands</td>\n",
       "      <td>NY</td>\n",
       "      <td>64</td>\n",
       "      <td>1402064461</td>\n",
       "      <td>1402064461</td>\n",
       "      <td>Yes</td>\n",
       "      <td>Yes</td>\n",
       "      <td>Adirondack Athletic Club</td>\n",
       "      <td>yes</td>\n",
       "    </tr>\n",
       "  </tbody>\n",
       "</table>\n",
       "</div>"
      ],
      "text/plain": [
       "        first      last gender          city state  age   usatfnum1  \\\n",
       "0  Raymond W.  Lee, Jr.      M      Halfmoon    NY   74  1400029425   \n",
       "1      Thomas    Dalton      M   Schenectady    NY   57  1400029581   \n",
       "2         rob   picotte      M         Malta    NY   62  1400510465   \n",
       "3       Chris   Buckley      M   Burnt Hills    NY   54  1400713184   \n",
       "4         Tom   McGuire      M  Slingerlands    NY   64  1402064461   \n",
       "\n",
       "    usatfnum2 hmrrc usatf                  clubname uptodate  \n",
       "0  1400029425   Yes   Yes  Adirondack Athletic Club      yes  \n",
       "1  1400029581    No   Yes  Adirondack Athletic Club      yes  \n",
       "2  1400510465   Yes   Yes  Adirondack Athletic Club      yes  \n",
       "3  1400713184   Yes   Yes  Adirondack Athletic Club      yes  \n",
       "4  1402064461   Yes   Yes  Adirondack Athletic Club      yes  "
      ]
     },
     "execution_count": 16,
     "metadata": {},
     "output_type": "execute_result"
    }
   ],
   "source": [
    "import pandas as pd\n",
    "\n",
    "clubs=pd.read_csv('../data/rotg-clubs.csv')\n",
    "print clubs.shape\n",
    "clubs.head()"
   ]
  },
  {
   "cell_type": "code",
   "execution_count": 17,
   "metadata": {
    "collapsed": false
   },
   "outputs": [
    {
     "data": {
      "text/html": [
       "<div>\n",
       "<table border=\"1\" class=\"dataframe\">\n",
       "  <thead>\n",
       "    <tr style=\"text-align: right;\">\n",
       "      <th></th>\n",
       "      <th>first</th>\n",
       "      <th>last</th>\n",
       "      <th>gender</th>\n",
       "      <th>age</th>\n",
       "    </tr>\n",
       "  </thead>\n",
       "  <tbody>\n",
       "    <tr>\n",
       "      <th>0</th>\n",
       "      <td>Raymond W.</td>\n",
       "      <td>Lee, Jr.</td>\n",
       "      <td>M</td>\n",
       "      <td>74</td>\n",
       "    </tr>\n",
       "    <tr>\n",
       "      <th>2</th>\n",
       "      <td>rob</td>\n",
       "      <td>picotte</td>\n",
       "      <td>M</td>\n",
       "      <td>62</td>\n",
       "    </tr>\n",
       "    <tr>\n",
       "      <th>3</th>\n",
       "      <td>Chris</td>\n",
       "      <td>Buckley</td>\n",
       "      <td>M</td>\n",
       "      <td>54</td>\n",
       "    </tr>\n",
       "    <tr>\n",
       "      <th>4</th>\n",
       "      <td>Tom</td>\n",
       "      <td>McGuire</td>\n",
       "      <td>M</td>\n",
       "      <td>64</td>\n",
       "    </tr>\n",
       "    <tr>\n",
       "      <th>5</th>\n",
       "      <td>Robert</td>\n",
       "      <td>Colborn</td>\n",
       "      <td>M</td>\n",
       "      <td>61</td>\n",
       "    </tr>\n",
       "  </tbody>\n",
       "</table>\n",
       "</div>"
      ],
      "text/plain": [
       "        first      last gender  age\n",
       "0  Raymond W.  Lee, Jr.      M   74\n",
       "2         rob   picotte      M   62\n",
       "3       Chris   Buckley      M   54\n",
       "4         Tom   McGuire      M   64\n",
       "5      Robert   Colborn      M   61"
      ]
     },
     "execution_count": 17,
     "metadata": {},
     "output_type": "execute_result"
    }
   ],
   "source": [
    "hmrrc=clubs[clubs.hmrrc=='Yes']\n",
    "hmrrc=hmrrc[['first','last','gender','age']]\n",
    "hmrrc.head()"
   ]
  },
  {
   "cell_type": "code",
   "execution_count": 31,
   "metadata": {
    "collapsed": false
   },
   "outputs": [],
   "source": [
    "def prixReport(ag,emin, agemax, gender):\n",
    "    racers=hmrrc[hmrrc.gender==gender]\n",
    "    racers=racers[racers.age>=agemin]\n",
    "    racers=racers[racers.age<=agemax]\n",
    "    \n",
    "    return racers.to_html(index=False) if racers.shape[0]>0 else None\n",
    "    "
   ]
  },
  {
   "cell_type": "code",
   "execution_count": 44,
   "metadata": {
    "collapsed": false
   },
   "outputs": [
    {
     "name": "stdout",
     "output_type": "stream",
     "text": [
      "M [20, 29]\n",
      "F [20, 29]\n",
      "M [30, 39]\n",
      "F [30, 39]\n",
      "M [40, 49]\n",
      "F [40, 49]\n",
      "M [50, 59]\n",
      "F [50, 59]\n",
      "M [60, 69]\n",
      "F [60, 69]\n",
      "M [70, 99]\n",
      "F [70, 99]\n"
     ]
    }
   ],
   "source": [
    "for age in [[20,29],[30,39],[40,49],[50,59],[60,69],[70,99]]: \n",
    "    for gender in ['M','F']:\n",
    "        print gender, age\n",
    "        \n",
    "        prixReport(age[0],age[1],gender)"
   ]
  },
  {
   "cell_type": "code",
   "execution_count": 38,
   "metadata": {
    "collapsed": false
   },
   "outputs": [
    {
     "data": {
      "text/plain": [
       "[('M', 20), ('F', 30)]"
      ]
     },
     "execution_count": 38,
     "metadata": {},
     "output_type": "execute_result"
    }
   ],
   "source": [
    " zip(['M','F'],[20,30,40,50,60,70,100])"
   ]
  },
  {
   "cell_type": "code",
   "execution_count": 55,
   "metadata": {
    "collapsed": false
   },
   "outputs": [],
   "source": [
    "f = open('../hmrrcprix.html','w')\n",
    "\n",
    "message = \"\"\"<html>\n",
    "<head>\n",
    "    <meta charset=\"utf-8\">\n",
    "    <meta http-equiv=\"X-UA-Compatible\" content=\"chrome=1\">\n",
    "    <title>Runnin&#39; of the Green USATF Grand Prix</title>\n",
    "\n",
    "    <link rel=\"stylesheet\" href=\"stylesheets/styles.css\">\n",
    "    <link rel=\"stylesheet\" href=\"stylesheets/github-light.css\">\n",
    "    <meta name=\"viewport\" content=\"width=device-width\">\n",
    "    <!--[if lt IE 9]>\n",
    "    <script src=\"//html5shiv.googlecode.com/svn/trunk/html5.js\"></script>\n",
    "    <![endif]-->\n",
    "  </head>\n",
    "<body><h1>Runnin' of the Green HMRRC Grand Prix entrants</h1>\"\"\"\n",
    "\n",
    "for age in [[20,29],[30,39],[40,49],[50,59],[60,69],[70,99]]: \n",
    "    for gender in ['M','F']:\n",
    "        \n",
    "        table=prixReport(age[0],age[1],gender)\n",
    "\n",
    "        message=message+\"<h2>\"+gender+str(age)+\"</h2>\"\n",
    "        \n",
    "        if (table!=None):\n",
    "            message=message+table\n",
    "            message=message+\"<br>\"\n",
    "\n",
    "        message=message+\"\"\"</body>\n",
    "        </html>\"\"\"\n",
    "\n",
    "f.write(message)\n",
    "f.close()"
   ]
  },
  {
   "cell_type": "code",
   "execution_count": null,
   "metadata": {
    "collapsed": true
   },
   "outputs": [],
   "source": []
  }
 ],
 "metadata": {
  "kernelspec": {
   "display_name": "Python 2",
   "language": "python",
   "name": "python2"
  },
  "language_info": {
   "codemirror_mode": {
    "name": "ipython",
    "version": 2
   },
   "file_extension": ".py",
   "mimetype": "text/x-python",
   "name": "python",
   "nbconvert_exporter": "python",
   "pygments_lexer": "ipython2",
   "version": "2.7.11"
  }
 },
 "nbformat": 4,
 "nbformat_minor": 0
}
