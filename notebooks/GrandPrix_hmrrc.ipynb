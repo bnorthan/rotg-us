{
 "cells": [
  {
   "cell_type": "code",
   "execution_count": 1,
   "metadata": {
    "collapsed": false
   },
   "outputs": [
    {
     "data": {
      "text/plain": [
       "[u'Male',\n",
       " u'Female',\n",
       " u'Agegrade',\n",
       " u'Totals Worksheet',\n",
       " u'Stockadeathon',\n",
       " u'Marathon',\n",
       " u'Vville',\n",
       " u'SEFCU',\n",
       " u'Anniversary',\n",
       " u'Colonie Mile',\n",
       " u'Dist Serv Worksheet',\n",
       " u'Green Worksheet',\n",
       " u'Masters Worksheet']"
      ]
     },
     "execution_count": 1,
     "metadata": {},
     "output_type": "execute_result"
    }
   ],
   "source": [
    "import pandas as pd\n",
    "import operator\n",
    "from difflib import SequenceMatcher\n",
    "\n",
    "xl=pd.ExcelFile('..\\spreadsheet\\Grand_Prix_Post_Stockadeathontemp.xls')\n",
    "\n",
    "xl.sheet_names"
   ]
  },
  {
   "cell_type": "code",
   "execution_count": 2,
   "metadata": {
    "collapsed": true
   },
   "outputs": [],
   "source": [
    "df=xl.parse('Female')"
   ]
  },
  {
   "cell_type": "code",
   "execution_count": 3,
   "metadata": {
    "collapsed": false
   },
   "outputs": [
    {
     "data": {
      "text/html": [
       "<div style=\"max-height:1000px;max-width:1500px;overflow:auto;\">\n",
       "<table border=\"1\" class=\"dataframe\">\n",
       "  <thead>\n",
       "    <tr style=\"text-align: right;\">\n",
       "      <th></th>\n",
       "      <th>Race #1 Hangover Half Marathon, January 1, 2015</th>\n",
       "      <th>Unnamed: 1</th>\n",
       "      <th>Unnamed: 2</th>\n",
       "      <th>Unnamed: 3</th>\n",
       "      <th>Unnamed: 4</th>\n",
       "      <th>Unnamed: 5</th>\n",
       "      <th>Unnamed: 6</th>\n",
       "      <th>Unnamed: 7</th>\n",
       "      <th>Unnamed: 8</th>\n",
       "      <th>Unnamed: 9</th>\n",
       "      <th>Unnamed: 10</th>\n",
       "      <th>Unnamed: 11</th>\n",
       "      <th>Unnamed: 12</th>\n",
       "    </tr>\n",
       "  </thead>\n",
       "  <tbody>\n",
       "    <tr>\n",
       "      <th>0</th>\n",
       "      <td> NaN</td>\n",
       "      <td>NaN</td>\n",
       "      <td>     Female Open</td>\n",
       "      <td>NaN</td>\n",
       "      <td>    Female 30-39</td>\n",
       "      <td>NaN</td>\n",
       "      <td>    Female 40-49</td>\n",
       "      <td>NaN</td>\n",
       "      <td>       Female 50-59</td>\n",
       "      <td>NaN</td>\n",
       "      <td>     Female 60-69</td>\n",
       "      <td>NaN</td>\n",
       "      <td> Female 70-99</td>\n",
       "    </tr>\n",
       "    <tr>\n",
       "      <th>1</th>\n",
       "      <td>   1</td>\n",
       "      <td> 12</td>\n",
       "      <td>  Jessy Montrose</td>\n",
       "      <td> 12</td>\n",
       "      <td>  Karen Bertasso</td>\n",
       "      <td> 12</td>\n",
       "      <td>     Sally Drake</td>\n",
       "      <td> 12</td>\n",
       "      <td>   Colleen Brackett</td>\n",
       "      <td> 12</td>\n",
       "      <td>       Susan Wong</td>\n",
       "      <td> 12</td>\n",
       "      <td>          NaN</td>\n",
       "    </tr>\n",
       "    <tr>\n",
       "      <th>2</th>\n",
       "      <td>   2</td>\n",
       "      <td> 10</td>\n",
       "      <td> Hannah Patzwahl</td>\n",
       "      <td> 10</td>\n",
       "      <td> Karen Quaresimo</td>\n",
       "      <td> 10</td>\n",
       "      <td>     Karen Dolge</td>\n",
       "      <td> 10</td>\n",
       "      <td>      Nancy Briskie</td>\n",
       "      <td> 10</td>\n",
       "      <td>    Ginny Pezzula</td>\n",
       "      <td> 10</td>\n",
       "      <td>          NaN</td>\n",
       "    </tr>\n",
       "    <tr>\n",
       "      <th>3</th>\n",
       "      <td>   3</td>\n",
       "      <td>  8</td>\n",
       "      <td>  Michelle Davis</td>\n",
       "      <td>  8</td>\n",
       "      <td>      Janne Rand</td>\n",
       "      <td>  8</td>\n",
       "      <td> Regina McGarvey</td>\n",
       "      <td>  8</td>\n",
       "      <td> Denise Iannizzotto</td>\n",
       "      <td>  8</td>\n",
       "      <td>       Jill Mehan</td>\n",
       "      <td>  8</td>\n",
       "      <td>          NaN</td>\n",
       "    </tr>\n",
       "    <tr>\n",
       "      <th>4</th>\n",
       "      <td>   4</td>\n",
       "      <td>  7</td>\n",
       "      <td>   Jennifer Kehn</td>\n",
       "      <td>  7</td>\n",
       "      <td>  Lindsay Choppy</td>\n",
       "      <td>  7</td>\n",
       "      <td> Lara Stelmaszyk</td>\n",
       "      <td>  7</td>\n",
       "      <td>       Chris Varley</td>\n",
       "      <td>  7</td>\n",
       "      <td> Darlene Cardillo</td>\n",
       "      <td>  7</td>\n",
       "      <td>          NaN</td>\n",
       "    </tr>\n",
       "  </tbody>\n",
       "</table>\n",
       "</div>"
      ],
      "text/plain": [
       "  Race #1 Hangover Half Marathon, January 1, 2015  Unnamed: 1  \\\n",
       "0                                             NaN         NaN   \n",
       "1                                               1          12   \n",
       "2                                               2          10   \n",
       "3                                               3           8   \n",
       "4                                               4           7   \n",
       "\n",
       "        Unnamed: 2  Unnamed: 3       Unnamed: 4  Unnamed: 5       Unnamed: 6  \\\n",
       "0      Female Open         NaN     Female 30-39         NaN     Female 40-49   \n",
       "1   Jessy Montrose          12   Karen Bertasso          12      Sally Drake   \n",
       "2  Hannah Patzwahl          10  Karen Quaresimo          10      Karen Dolge   \n",
       "3   Michelle Davis           8       Janne Rand           8  Regina McGarvey   \n",
       "4    Jennifer Kehn           7   Lindsay Choppy           7  Lara Stelmaszyk   \n",
       "\n",
       "   Unnamed: 7          Unnamed: 8  Unnamed: 9       Unnamed: 10  Unnamed: 11  \\\n",
       "0         NaN        Female 50-59         NaN      Female 60-69          NaN   \n",
       "1          12    Colleen Brackett          12        Susan Wong           12   \n",
       "2          10       Nancy Briskie          10     Ginny Pezzula           10   \n",
       "3           8  Denise Iannizzotto           8        Jill Mehan            8   \n",
       "4           7        Chris Varley           7  Darlene Cardillo            7   \n",
       "\n",
       "    Unnamed: 12  \n",
       "0  Female 70-99  \n",
       "1           NaN  \n",
       "2           NaN  \n",
       "3           NaN  \n",
       "4           NaN  "
      ]
     },
     "execution_count": 3,
     "metadata": {},
     "output_type": "execute_result"
    }
   ],
   "source": [
    "df.head()"
   ]
  },
  {
   "cell_type": "code",
   "execution_count": 11,
   "metadata": {
    "collapsed": false
   },
   "outputs": [],
   "source": [
    "new=df.ix[:,5:7]\n",
    "new=new.dropna()\n",
    "new=new.reset_index()"
   ]
  },
  {
   "cell_type": "code",
   "execution_count": 12,
   "metadata": {
    "collapsed": false
   },
   "outputs": [
    {
     "name": "stdout",
     "output_type": "stream",
     "text": [
      "70 Sally Drake\n",
      "44 Emily Bryans\n",
      "33 Mary Fenton\n",
      "31 Stacia Smith\n",
      "28 Karen Dolge\n",
      "26 Lara Stelmaszyk\n",
      "22 Regina McGarvey\n",
      "19 Miriam Hardiin\n",
      "18 Erin Corcoran\n",
      "18 Terri Artese\n",
      "15 Kathy Vanvalen\n",
      "15 Alecia Thompson\n",
      "14 Colleen Murray\n",
      "14 Connie Smith\n",
      "12 Christa Dederick\n",
      "12 Michelle Pendergast\n",
      "10 Karen Blesser\n",
      "10 Ruth Sadinsky\n",
      "10 Heather Machabee\n",
      "8 Leah Giordano\n",
      "8 Andrea Robinson\n",
      "7 Tina Greene\n",
      "7 Debra Rothaupt\n",
      "7 Dee Fisher-Golden\n",
      "6 Sheila Couch\n",
      "6 Kimberly Miseno-Bow\n",
      "6 Sherri Benner\n",
      "6 Sarah Hesler\n",
      "6 Raychem Aigelin\n",
      "6 Teresa Stutsrim\n",
      "5 Anne Marie Bremm\n",
      "5 Shannon Pinkowski\n",
      "5 Lisa Scaringe\n",
      "5 Nanette Hatch\n",
      "4 Dora Anderson\n",
      "4 Barbara Rothaupt\n",
      "4 Lisa LaPlante\n",
      "4 Sharon Strodl\n",
      "3 Kirsten Vandyk\n",
      "3 Thessaly Bullard\n",
      "3 Diane Fisher\n",
      "2 Theresda Hudda\n",
      "2 Alison Johnson\n",
      "2 Diane Harris\n",
      "2 Sarah Vogel\n",
      "2 Kathleen Tersigni\n",
      "1 Mary Insogna\n",
      "1 Jennifer Groth\n",
      "1 Gail Doering\n",
      "1 Sharee L. Gritsavag\n"
     ]
    }
   ],
   "source": [
    "score(new)"
   ]
  },
  {
   "cell_type": "code",
   "execution_count": 4,
   "metadata": {
    "collapsed": false
   },
   "outputs": [],
   "source": [
    "def score(age_results):\n",
    "    \n",
    "    dicti={}\n",
    "\n",
    "    for row in age_results.index:\n",
    "        #name=new.NameO[row]\n",
    "        name=age_results.iloc[row,2]\n",
    "\n",
    "        p=age_results.iloc[row,1]\n",
    "        if name in dicti.keys():\n",
    "            points=dicti[name]\n",
    "            points.append(p)\n",
    "        else:\n",
    "            bestmatch=0\n",
    "            bestkey=None\n",
    "            for key in dicti.keys():\n",
    "                testmatch=SequenceMatcher(None, name, key).ratio()\n",
    "                if (testmatch>bestmatch):\n",
    "                    bestmatch=testmatch\n",
    "                    bestkey=key\n",
    "                       \n",
    "            if (bestmatch>0.85):\n",
    "                points=dicti[bestkey]\n",
    "                points.append(p)\n",
    "            else:\n",
    "                dicti[name]=[p]\n",
    "\n",
    "    totals={}\n",
    "\n",
    "    for name in dicti:\n",
    "        points=dicti[name]\n",
    "        points.sort(reverse=True)\n",
    "        total=points[0:6]\n",
    "        totals[name]=sum(total)\n",
    "\n",
    "\n",
    "    sorted_totals = sorted(totals.items(), key=operator.itemgetter(1), reverse=True)\n",
    "\n",
    "    for item in sorted_totals:\n",
    "        print str(int(item[1]))+' '+item[0]"
   ]
  },
  {
   "cell_type": "code",
   "execution_count": 7,
   "metadata": {
    "collapsed": false
   },
   "outputs": [
    {
     "ename": "TypeError",
     "evalue": "'type' object has no attribute '__getitem__'",
     "output_type": "error",
     "traceback": [
      "\u001b[1;31m---------------------------------------------------------------------------\u001b[0m",
      "\u001b[1;31mTypeError\u001b[0m                                 Traceback (most recent call last)",
      "\u001b[1;32m<ipython-input-7-0f752532c4cb>\u001b[0m in \u001b[0;36m<module>\u001b[1;34m()\u001b[0m\n\u001b[1;32m----> 1\u001b[1;33m \u001b[0mtest\u001b[0m\u001b[1;33m=\u001b[0m\u001b[0mdict\u001b[0m\u001b[1;33m[\u001b[0m\u001b[1;34m'Ben Heller'\u001b[0m\u001b[1;33m]\u001b[0m\u001b[1;33m\u001b[0m\u001b[0m\n\u001b[0m\u001b[0;32m      2\u001b[0m \u001b[1;33m\u001b[0m\u001b[0m\n\u001b[0;32m      3\u001b[0m \u001b[1;32mprint\u001b[0m \u001b[0mtest\u001b[0m\u001b[1;33m\u001b[0m\u001b[0m\n\u001b[0;32m      4\u001b[0m \u001b[1;32mprint\u001b[0m \u001b[0mtest\u001b[0m\u001b[1;33m.\u001b[0m\u001b[0msort\u001b[0m\u001b[1;33m(\u001b[0m\u001b[0mreverse\u001b[0m\u001b[1;33m=\u001b[0m\u001b[0mTrue\u001b[0m\u001b[1;33m)\u001b[0m\u001b[1;33m\u001b[0m\u001b[0m\n\u001b[0;32m      5\u001b[0m \u001b[1;32mprint\u001b[0m \u001b[0mtest\u001b[0m\u001b[1;33m\u001b[0m\u001b[0m\n",
      "\u001b[1;31mTypeError\u001b[0m: 'type' object has no attribute '__getitem__'"
     ]
    }
   ],
   "source": [
    "test=dict['Ben Heller']\n",
    "\n",
    "print test\n",
    "print test.sort(reverse=True)\n",
    "print test"
   ]
  },
  {
   "cell_type": "code",
   "execution_count": 8,
   "metadata": {
    "collapsed": false
   },
   "outputs": [
    {
     "name": "stdout",
     "output_type": "stream",
     "text": [
      "[1, 2, 3, 4, 5]\n"
     ]
    }
   ],
   "source": [
    "test=[1,2,3,4,5]\n",
    "print test[0:10]"
   ]
  },
  {
   "cell_type": "code",
   "execution_count": 12,
   "metadata": {
    "collapsed": true
   },
   "outputs": [],
   "source": []
  },
  {
   "cell_type": "code",
   "execution_count": 19,
   "metadata": {
    "collapsed": false
   },
   "outputs": [
    {
     "name": "stdout",
     "output_type": "stream",
     "text": [
      "0.818181818182\n"
     ]
    }
   ],
   "source": [
    "m=SequenceMatcher(None, \"Mick Blicker\", \"M. Blicker\")\n",
    "print m.ratio()"
   ]
  },
  {
   "cell_type": "code",
   "execution_count": null,
   "metadata": {
    "collapsed": true
   },
   "outputs": [],
   "source": []
  }
 ],
 "metadata": {
  "kernelspec": {
   "display_name": "Python 2",
   "language": "python",
   "name": "python2"
  },
  "language_info": {
   "codemirror_mode": {
    "name": "ipython",
    "version": 2
   },
   "file_extension": ".py",
   "mimetype": "text/x-python",
   "name": "python",
   "nbconvert_exporter": "python",
   "pygments_lexer": "ipython2",
   "version": "2.7.8"
  }
 },
 "nbformat": 4,
 "nbformat_minor": 0
}
