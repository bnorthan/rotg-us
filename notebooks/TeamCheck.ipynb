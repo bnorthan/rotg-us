{
 "cells": [
  {
   "cell_type": "code",
   "execution_count": 123,
   "metadata": {
    "collapsed": true
   },
   "outputs": [],
   "source": [
    "import pandas as pd\n",
    "from IPython.display import display"
   ]
  },
  {
   "cell_type": "code",
   "execution_count": 124,
   "metadata": {
    "collapsed": false
   },
   "outputs": [
    {
     "data": {
      "text/html": [
       "<div>\n",
       "<table border=\"1\" class=\"dataframe\">\n",
       "  <thead>\n",
       "    <tr style=\"text-align: right;\">\n",
       "      <th></th>\n",
       "      <th>No.</th>\n",
       "      <th>First name</th>\n",
       "      <th>Last name</th>\n",
       "      <th>Gender</th>\n",
       "      <th>City/Town</th>\n",
       "      <th>State</th>\n",
       "      <th>Age</th>\n",
       "    </tr>\n",
       "  </thead>\n",
       "  <tbody>\n",
       "    <tr>\n",
       "      <th>0</th>\n",
       "      <td>101.0</td>\n",
       "      <td>Chris</td>\n",
       "      <td>Abowd</td>\n",
       "      <td>Female</td>\n",
       "      <td>Glenmont</td>\n",
       "      <td>NY</td>\n",
       "      <td>53.0</td>\n",
       "    </tr>\n",
       "    <tr>\n",
       "      <th>1</th>\n",
       "      <td>102.0</td>\n",
       "      <td>Tom</td>\n",
       "      <td>Adams</td>\n",
       "      <td>Male</td>\n",
       "      <td>Schenectady</td>\n",
       "      <td>NY</td>\n",
       "      <td>72.0</td>\n",
       "    </tr>\n",
       "    <tr>\n",
       "      <th>2</th>\n",
       "      <td>103.0</td>\n",
       "      <td>Katherine</td>\n",
       "      <td>Ambrosio</td>\n",
       "      <td>Female</td>\n",
       "      <td>Delmar</td>\n",
       "      <td>NY</td>\n",
       "      <td>66.0</td>\n",
       "    </tr>\n",
       "    <tr>\n",
       "      <th>3</th>\n",
       "      <td>104.0</td>\n",
       "      <td>Gabe</td>\n",
       "      <td>Anderson</td>\n",
       "      <td>Male</td>\n",
       "      <td>Saratoga Springs</td>\n",
       "      <td>NY</td>\n",
       "      <td>39.0</td>\n",
       "    </tr>\n",
       "    <tr>\n",
       "      <th>4</th>\n",
       "      <td>105.0</td>\n",
       "      <td>Jacob</td>\n",
       "      <td>Andrews</td>\n",
       "      <td>Male</td>\n",
       "      <td>Troy</td>\n",
       "      <td>NY</td>\n",
       "      <td>23.0</td>\n",
       "    </tr>\n",
       "  </tbody>\n",
       "</table>\n",
       "</div>"
      ],
      "text/plain": [
       "     No. First name Last name  Gender         City/Town State   Age\n",
       "0  101.0      Chris     Abowd  Female          Glenmont    NY  53.0\n",
       "1  102.0        Tom     Adams    Male       Schenectady    NY  72.0\n",
       "2  103.0  Katherine  Ambrosio  Female            Delmar    NY  66.0\n",
       "3  104.0       Gabe  Anderson    Male  Saratoga Springs    NY  39.0\n",
       "4  105.0      Jacob   Andrews    Male              Troy    NY  23.0"
      ]
     },
     "execution_count": 124,
     "metadata": {},
     "output_type": "execute_result"
    }
   ],
   "source": [
    "entrants=pd.read_csv('2017_Bibs_Rotg v3.csv')\n",
    "\n",
    "entrants.head()"
   ]
  },
  {
   "cell_type": "code",
   "execution_count": 125,
   "metadata": {
    "collapsed": true
   },
   "outputs": [],
   "source": [
    "entrants['fname']=entrants['First name']+\" \"+entrants['Last name']"
   ]
  },
  {
   "cell_type": "code",
   "execution_count": 126,
   "metadata": {
    "collapsed": false
   },
   "outputs": [
    {
     "data": {
      "text/html": [
       "<div>\n",
       "<table border=\"1\" class=\"dataframe\">\n",
       "  <thead>\n",
       "    <tr style=\"text-align: right;\">\n",
       "      <th></th>\n",
       "      <th>No.</th>\n",
       "      <th>First name</th>\n",
       "      <th>Last name</th>\n",
       "      <th>Gender</th>\n",
       "      <th>City/Town</th>\n",
       "      <th>State</th>\n",
       "      <th>Age</th>\n",
       "      <th>fname</th>\n",
       "    </tr>\n",
       "  </thead>\n",
       "  <tbody>\n",
       "    <tr>\n",
       "      <th>0</th>\n",
       "      <td>101.0</td>\n",
       "      <td>Chris</td>\n",
       "      <td>Abowd</td>\n",
       "      <td>Female</td>\n",
       "      <td>Glenmont</td>\n",
       "      <td>NY</td>\n",
       "      <td>53.0</td>\n",
       "      <td>Chris Abowd</td>\n",
       "    </tr>\n",
       "    <tr>\n",
       "      <th>1</th>\n",
       "      <td>102.0</td>\n",
       "      <td>Tom</td>\n",
       "      <td>Adams</td>\n",
       "      <td>Male</td>\n",
       "      <td>Schenectady</td>\n",
       "      <td>NY</td>\n",
       "      <td>72.0</td>\n",
       "      <td>Tom Adams</td>\n",
       "    </tr>\n",
       "    <tr>\n",
       "      <th>2</th>\n",
       "      <td>103.0</td>\n",
       "      <td>Katherine</td>\n",
       "      <td>Ambrosio</td>\n",
       "      <td>Female</td>\n",
       "      <td>Delmar</td>\n",
       "      <td>NY</td>\n",
       "      <td>66.0</td>\n",
       "      <td>Katherine Ambrosio</td>\n",
       "    </tr>\n",
       "    <tr>\n",
       "      <th>3</th>\n",
       "      <td>104.0</td>\n",
       "      <td>Gabe</td>\n",
       "      <td>Anderson</td>\n",
       "      <td>Male</td>\n",
       "      <td>Saratoga Springs</td>\n",
       "      <td>NY</td>\n",
       "      <td>39.0</td>\n",
       "      <td>Gabe Anderson</td>\n",
       "    </tr>\n",
       "    <tr>\n",
       "      <th>4</th>\n",
       "      <td>105.0</td>\n",
       "      <td>Jacob</td>\n",
       "      <td>Andrews</td>\n",
       "      <td>Male</td>\n",
       "      <td>Troy</td>\n",
       "      <td>NY</td>\n",
       "      <td>23.0</td>\n",
       "      <td>Jacob Andrews</td>\n",
       "    </tr>\n",
       "  </tbody>\n",
       "</table>\n",
       "</div>"
      ],
      "text/plain": [
       "     No. First name Last name  Gender         City/Town State   Age  \\\n",
       "0  101.0      Chris     Abowd  Female          Glenmont    NY  53.0   \n",
       "1  102.0        Tom     Adams    Male       Schenectady    NY  72.0   \n",
       "2  103.0  Katherine  Ambrosio  Female            Delmar    NY  66.0   \n",
       "3  104.0       Gabe  Anderson    Male  Saratoga Springs    NY  39.0   \n",
       "4  105.0      Jacob   Andrews    Male              Troy    NY  23.0   \n",
       "\n",
       "                fname  \n",
       "0         Chris Abowd  \n",
       "1           Tom Adams  \n",
       "2  Katherine Ambrosio  \n",
       "3       Gabe Anderson  \n",
       "4       Jacob Andrews  "
      ]
     },
     "execution_count": 126,
     "metadata": {},
     "output_type": "execute_result"
    }
   ],
   "source": [
    "entrants.head()"
   ]
  },
  {
   "cell_type": "code",
   "execution_count": 127,
   "metadata": {
    "collapsed": false
   },
   "outputs": [
    {
     "data": {
      "text/html": [
       "<div>\n",
       "<table border=\"1\" class=\"dataframe\">\n",
       "  <thead>\n",
       "    <tr style=\"text-align: right;\">\n",
       "      <th></th>\n",
       "      <th>No.</th>\n",
       "      <th>First name</th>\n",
       "      <th>Last name</th>\n",
       "      <th>Gender</th>\n",
       "      <th>City/Town</th>\n",
       "      <th>State</th>\n",
       "      <th>Age</th>\n",
       "      <th>fname</th>\n",
       "    </tr>\n",
       "  </thead>\n",
       "  <tbody>\n",
       "    <tr>\n",
       "      <th>196</th>\n",
       "      <td>297.0</td>\n",
       "      <td>John</td>\n",
       "      <td>Noonan</td>\n",
       "      <td>Male</td>\n",
       "      <td>Ballston Spa</td>\n",
       "      <td>NY</td>\n",
       "      <td>57.0</td>\n",
       "      <td>John Noonan</td>\n",
       "    </tr>\n",
       "  </tbody>\n",
       "</table>\n",
       "</div>"
      ],
      "text/plain": [
       "       No. First name Last name Gender     City/Town State   Age        fname\n",
       "196  297.0       John    Noonan   Male  Ballston Spa    NY  57.0  John Noonan"
      ]
     },
     "execution_count": 127,
     "metadata": {},
     "output_type": "execute_result"
    }
   ],
   "source": [
    "entrants[entrants['fname']=='John Noonan']"
   ]
  },
  {
   "cell_type": "code",
   "execution_count": 128,
   "metadata": {
    "collapsed": false
   },
   "outputs": [
    {
     "data": {
      "text/html": [
       "<div>\n",
       "<table border=\"1\" class=\"dataframe\">\n",
       "  <thead>\n",
       "    <tr style=\"text-align: right;\">\n",
       "      <th></th>\n",
       "      <th>Team Name</th>\n",
       "      <th>Open Male</th>\n",
       "      <th>Open Female</th>\n",
       "      <th>Agegraded1</th>\n",
       "      <th>Agegraded2</th>\n",
       "      <th>Extra 1</th>\n",
       "      <th>Extra 2</th>\n",
       "    </tr>\n",
       "  </thead>\n",
       "  <tbody>\n",
       "    <tr>\n",
       "      <th>0</th>\n",
       "      <td>Noonan_Team</td>\n",
       "      <td>Shaun Donegan</td>\n",
       "      <td>Meghan Louden</td>\n",
       "      <td>John Noonan</td>\n",
       "      <td>Stephanie Landy</td>\n",
       "      <td></td>\n",
       "      <td></td>\n",
       "    </tr>\n",
       "    <tr>\n",
       "      <th>1</th>\n",
       "      <td>Team Loco</td>\n",
       "      <td>Joseph Sullivan</td>\n",
       "      <td>Kelly Sullivan</td>\n",
       "      <td>Steven Nicoll</td>\n",
       "      <td>Sara Madden</td>\n",
       "      <td></td>\n",
       "      <td></td>\n",
       "    </tr>\n",
       "    <tr>\n",
       "      <th>2</th>\n",
       "      <td>WillowStreetAC1</td>\n",
       "      <td>Matt Brooker</td>\n",
       "      <td>Mollie Turner</td>\n",
       "      <td>Derrick Staley</td>\n",
       "      <td>Beth Stalker</td>\n",
       "      <td>Janne Rand</td>\n",
       "      <td></td>\n",
       "    </tr>\n",
       "    <tr>\n",
       "      <th>3</th>\n",
       "      <td>WillowStreetAC2</td>\n",
       "      <td>Dan Jordy</td>\n",
       "      <td>Hannah Brooker</td>\n",
       "      <td>Nancy Nicholson</td>\n",
       "      <td>Colleen Ottalagano-McGarry</td>\n",
       "      <td>Elizabeth Chauhan</td>\n",
       "      <td>Kari Deer</td>\n",
       "    </tr>\n",
       "    <tr>\n",
       "      <th>4</th>\n",
       "      <td>WillowStreetAC3</td>\n",
       "      <td>John Stadtlander</td>\n",
       "      <td>Erin Lopez</td>\n",
       "      <td>Lori Kingsley</td>\n",
       "      <td>Danielle Maslowsky</td>\n",
       "      <td>Chuck Terry</td>\n",
       "      <td></td>\n",
       "    </tr>\n",
       "  </tbody>\n",
       "</table>\n",
       "</div>"
      ],
      "text/plain": [
       "         Team Name         Open Male     Open Female       Agegraded1  \\\n",
       "0      Noonan_Team     Shaun Donegan   Meghan Louden      John Noonan   \n",
       "1        Team Loco   Joseph Sullivan  Kelly Sullivan    Steven Nicoll   \n",
       "2  WillowStreetAC1      Matt Brooker   Mollie Turner   Derrick Staley   \n",
       "3  WillowStreetAC2         Dan Jordy  Hannah Brooker  Nancy Nicholson   \n",
       "4  WillowStreetAC3  John Stadtlander      Erin Lopez    Lori Kingsley   \n",
       "\n",
       "                   Agegraded2            Extra 1    Extra 2  \n",
       "0             Stephanie Landy                                \n",
       "1                 Sara Madden                                \n",
       "2                Beth Stalker         Janne Rand             \n",
       "3  Colleen Ottalagano-McGarry  Elizabeth Chauhan  Kari Deer  \n",
       "4          Danielle Maslowsky        Chuck Terry             "
      ]
     },
     "execution_count": 128,
     "metadata": {},
     "output_type": "execute_result"
    }
   ],
   "source": [
    "teams=pd.read_csv('teams.csv')\n",
    "teams=teams.fillna(' ')\n",
    "teams.head()"
   ]
  },
  {
   "cell_type": "code",
   "execution_count": 129,
   "metadata": {
    "collapsed": false
   },
   "outputs": [
    {
     "name": "stdout",
     "output_type": "stream",
     "text": [
      "Chuck Terry ERRROR!!!!!\n",
      "Cassandra Vega ERRROR!!!!!\n"
     ]
    }
   ],
   "source": [
    "for index, team in teams.iterrows():\n",
    "    for i in range(1,6):\n",
    "        #print team.iloc[i]\n",
    "        if (team.iloc[i]!=' '):\n",
    "            if (entrants[entrants.fname==team.iloc[i]].shape[0]==0):\n",
    "                print team.iloc[i]+\" ERRROR!!!!!\""
   ]
  },
  {
   "cell_type": "code",
   "execution_count": null,
   "metadata": {
    "collapsed": true
   },
   "outputs": [],
   "source": []
  },
  {
   "cell_type": "code",
   "execution_count": null,
   "metadata": {
    "collapsed": true
   },
   "outputs": [],
   "source": []
  }
 ],
 "metadata": {
  "kernelspec": {
   "display_name": "Python 2",
   "language": "python",
   "name": "python2"
  },
  "language_info": {
   "codemirror_mode": {
    "name": "ipython",
    "version": 2
   },
   "file_extension": ".py",
   "mimetype": "text/x-python",
   "name": "python",
   "nbconvert_exporter": "python",
   "pygments_lexer": "ipython2",
   "version": "2.7.11"
  }
 },
 "nbformat": 4,
 "nbformat_minor": 0
}
