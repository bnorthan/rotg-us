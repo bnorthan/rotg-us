{
 "cells": [
  {
   "cell_type": "code",
   "execution_count": 5,
   "metadata": {
    "collapsed": true
   },
   "outputs": [],
   "source": [
    "import pandas as pd"
   ]
  },
  {
   "cell_type": "code",
   "execution_count": 6,
   "metadata": {
    "collapsed": false
   },
   "outputs": [
    {
     "name": "stdout",
     "output_type": "stream",
     "text": [
      "(318, 12)\n"
     ]
    },
    {
     "data": {
      "text/html": [
       "<div>\n",
       "<table border=\"1\" class=\"dataframe\">\n",
       "  <thead>\n",
       "    <tr style=\"text-align: right;\">\n",
       "      <th></th>\n",
       "      <th>first</th>\n",
       "      <th>last</th>\n",
       "      <th>gender</th>\n",
       "      <th>city</th>\n",
       "      <th>state</th>\n",
       "      <th>age</th>\n",
       "      <th>usatfnum</th>\n",
       "      <th>hmrrc</th>\n",
       "      <th>usatf</th>\n",
       "      <th>clubname</th>\n",
       "      <th>uptodate</th>\n",
       "      <th>paid</th>\n",
       "      <th>Name</th>\n",
       "    </tr>\n",
       "  </thead>\n",
       "  <tbody>\n",
       "    <tr>\n",
       "      <th>0</th>\n",
       "      <td>Raymond W.</td>\n",
       "      <td>Lee, Jr.</td>\n",
       "      <td>M</td>\n",
       "      <td>Halfmoon</td>\n",
       "      <td>NY</td>\n",
       "      <td>74</td>\n",
       "      <td>1400029425</td>\n",
       "      <td>Yes</td>\n",
       "      <td>Yes</td>\n",
       "      <td>Adirondack Athletic Club</td>\n",
       "      <td>yes</td>\n",
       "      <td>yes</td>\n",
       "      <td>Raymond W. Lee, Jr.</td>\n",
       "    </tr>\n",
       "    <tr>\n",
       "      <th>1</th>\n",
       "      <td>Thomas</td>\n",
       "      <td>Dalton</td>\n",
       "      <td>M</td>\n",
       "      <td>Schenectady</td>\n",
       "      <td>NY</td>\n",
       "      <td>57</td>\n",
       "      <td>1400029581</td>\n",
       "      <td>No</td>\n",
       "      <td>Yes</td>\n",
       "      <td>Adirondack Athletic Club</td>\n",
       "      <td>yes</td>\n",
       "      <td>yes</td>\n",
       "      <td>Thomas Dalton</td>\n",
       "    </tr>\n",
       "    <tr>\n",
       "      <th>2</th>\n",
       "      <td>rob</td>\n",
       "      <td>picotte</td>\n",
       "      <td>M</td>\n",
       "      <td>Malta</td>\n",
       "      <td>NY</td>\n",
       "      <td>62</td>\n",
       "      <td>1400510465</td>\n",
       "      <td>Yes</td>\n",
       "      <td>Yes</td>\n",
       "      <td>Adirondack Athletic Club</td>\n",
       "      <td>yes</td>\n",
       "      <td>yes</td>\n",
       "      <td>rob picotte</td>\n",
       "    </tr>\n",
       "    <tr>\n",
       "      <th>3</th>\n",
       "      <td>Chris</td>\n",
       "      <td>Buckley</td>\n",
       "      <td>M</td>\n",
       "      <td>Burnt Hills</td>\n",
       "      <td>NY</td>\n",
       "      <td>54</td>\n",
       "      <td>1400713184</td>\n",
       "      <td>Yes</td>\n",
       "      <td>Yes</td>\n",
       "      <td>Adirondack Athletic Club</td>\n",
       "      <td>yes</td>\n",
       "      <td>yes</td>\n",
       "      <td>Chris Buckley</td>\n",
       "    </tr>\n",
       "    <tr>\n",
       "      <th>4</th>\n",
       "      <td>Christopher</td>\n",
       "      <td>Rush</td>\n",
       "      <td>M</td>\n",
       "      <td>Schenectady</td>\n",
       "      <td>NY</td>\n",
       "      <td>79</td>\n",
       "      <td>1401406259</td>\n",
       "      <td>Yes</td>\n",
       "      <td>Yes</td>\n",
       "      <td>Adirondack Athletic Club</td>\n",
       "      <td>NaN</td>\n",
       "      <td>yes</td>\n",
       "      <td>Christopher Rush</td>\n",
       "    </tr>\n",
       "  </tbody>\n",
       "</table>\n",
       "</div>"
      ],
      "text/plain": [
       "         first      last gender         city state  age    usatfnum hmrrc  \\\n",
       "0   Raymond W.  Lee, Jr.      M     Halfmoon    NY   74  1400029425   Yes   \n",
       "1       Thomas    Dalton      M  Schenectady    NY   57  1400029581    No   \n",
       "2          rob   picotte      M        Malta    NY   62  1400510465   Yes   \n",
       "3        Chris   Buckley      M  Burnt Hills    NY   54  1400713184   Yes   \n",
       "4  Christopher      Rush      M  Schenectady    NY   79  1401406259   Yes   \n",
       "\n",
       "  usatf                  clubname uptodate paid                 Name  \n",
       "0   Yes  Adirondack Athletic Club      yes  yes  Raymond W. Lee, Jr.  \n",
       "1   Yes  Adirondack Athletic Club      yes  yes        Thomas Dalton  \n",
       "2   Yes  Adirondack Athletic Club      yes  yes          rob picotte  \n",
       "3   Yes  Adirondack Athletic Club      yes  yes        Chris Buckley  \n",
       "4   Yes  Adirondack Athletic Club      NaN  yes     Christopher Rush  "
      ]
     },
     "execution_count": 6,
     "metadata": {},
     "output_type": "execute_result"
    }
   ],
   "source": [
    "# import pre-race file with club names\n",
    "clubs=pd.read_csv('../data/rotg-clubs.csv')\n",
    "print clubs.shape\n",
    "clubs['Name']=clubs['first']+\" \"+clubs['last']\n",
    "clubs.head()"
   ]
  },
  {
   "cell_type": "code",
   "execution_count": 7,
   "metadata": {
    "collapsed": false
   },
   "outputs": [
    {
     "data": {
      "text/html": [
       "<div>\n",
       "<table border=\"1\" class=\"dataframe\">\n",
       "  <thead>\n",
       "    <tr style=\"text-align: right;\">\n",
       "      <th></th>\n",
       "      <th>Place</th>\n",
       "      <th>Name</th>\n",
       "      <th>No.</th>\n",
       "      <th>Age</th>\n",
       "      <th>S</th>\n",
       "      <th>City</th>\n",
       "      <th>St</th>\n",
       "      <th>Time</th>\n",
       "      <th>Pace</th>\n",
       "    </tr>\n",
       "  </thead>\n",
       "  <tbody>\n",
       "    <tr>\n",
       "      <th>0</th>\n",
       "      <td>1</td>\n",
       "      <td>Eric Macknight</td>\n",
       "      <td>383</td>\n",
       "      <td>27</td>\n",
       "      <td>M</td>\n",
       "      <td>Ballston Lake</td>\n",
       "      <td>NY</td>\n",
       "      <td>19:57</td>\n",
       "      <td>5:00</td>\n",
       "    </tr>\n",
       "    <tr>\n",
       "      <th>1</th>\n",
       "      <td>2</td>\n",
       "      <td>Aaron Lozier</td>\n",
       "      <td>378</td>\n",
       "      <td>27</td>\n",
       "      <td>M</td>\n",
       "      <td>Albany</td>\n",
       "      <td>NY</td>\n",
       "      <td>20:22</td>\n",
       "      <td>5:06</td>\n",
       "    </tr>\n",
       "    <tr>\n",
       "      <th>2</th>\n",
       "      <td>3</td>\n",
       "      <td>Alex Benway</td>\n",
       "      <td>217</td>\n",
       "      <td>25</td>\n",
       "      <td>M</td>\n",
       "      <td>Saratoga Spring</td>\n",
       "      <td>NY</td>\n",
       "      <td>20:52</td>\n",
       "      <td>5:13</td>\n",
       "    </tr>\n",
       "    <tr>\n",
       "      <th>3</th>\n",
       "      <td>4</td>\n",
       "      <td>Shaun Donegan</td>\n",
       "      <td>278</td>\n",
       "      <td>30</td>\n",
       "      <td>M</td>\n",
       "      <td>Malta</td>\n",
       "      <td>NY</td>\n",
       "      <td>20:58</td>\n",
       "      <td>5:15</td>\n",
       "    </tr>\n",
       "    <tr>\n",
       "      <th>4</th>\n",
       "      <td>5</td>\n",
       "      <td>Macky Lloyd</td>\n",
       "      <td>374</td>\n",
       "      <td>25</td>\n",
       "      <td>M</td>\n",
       "      <td>Albany</td>\n",
       "      <td>NY</td>\n",
       "      <td>21:13</td>\n",
       "      <td>5:19</td>\n",
       "    </tr>\n",
       "  </tbody>\n",
       "</table>\n",
       "</div>"
      ],
      "text/plain": [
       "   Place            Name  No.  Age  S             City  St   Time  Pace\n",
       "0      1  Eric Macknight  383   27  M    Ballston Lake  NY  19:57  5:00\n",
       "1      2    Aaron Lozier  378   27  M           Albany  NY  20:22  5:06\n",
       "2      3     Alex Benway  217   25  M  Saratoga Spring  NY  20:52  5:13\n",
       "3      4   Shaun Donegan  278   30  M            Malta  NY  20:58  5:15\n",
       "4      5     Macky Lloyd  374   25  M           Albany  NY  21:13  5:19"
      ]
     },
     "execution_count": 7,
     "metadata": {},
     "output_type": "execute_result"
    }
   ],
   "source": [
    "# import the results\n",
    "results=pd.read_fwf('../data/rotg2016.txt')\n",
    "\n",
    "results.head()"
   ]
  },
  {
   "cell_type": "code",
   "execution_count": 8,
   "metadata": {
    "collapsed": true
   },
   "outputs": [],
   "source": [
    "# in this step we use diflib to map 'results.Name' to the closest match in 'clubs.Name' this will ensure\n",
    "# we have the same name in each\n",
    "import difflib \n",
    "results.Name = results.Name.map(lambda x: difflib.get_close_matches(x, clubs.Name, cutoff=0.4)[0])"
   ]
  },
  {
   "cell_type": "code",
   "execution_count": 9,
   "metadata": {
    "collapsed": true
   },
   "outputs": [],
   "source": [
    "results=pd.merge(clubs, results, on='Name')"
   ]
  },
  {
   "cell_type": "code",
   "execution_count": 10,
   "metadata": {
    "collapsed": false
   },
   "outputs": [
    {
     "data": {
      "text/plain": [
       "(305, 24)"
      ]
     },
     "execution_count": 10,
     "metadata": {},
     "output_type": "execute_result"
    }
   ],
   "source": [
    "import numpy as np\n",
    "import datetime\n",
    "\n",
    "\n",
    "results['time'] = results.Time.apply(lambda x: datetime.datetime.strptime(x,'%M:%S'))\n",
    "results['timedelta'] = results.time - datetime.datetime.strptime('00:00,0','%M:%S,%f')\n",
    "results['secs'] = results['timedelta'].apply(lambda x: x / np.timedelta64(1, 's'))\n",
    "\n",
    "results.shape"
   ]
  },
  {
   "cell_type": "code",
   "execution_count": 11,
   "metadata": {
    "collapsed": false
   },
   "outputs": [
    {
     "data": {
      "text/html": [
       "<div>\n",
       "<table border=\"1\" class=\"dataframe\">\n",
       "  <thead>\n",
       "    <tr style=\"text-align: right;\">\n",
       "      <th></th>\n",
       "      <th>first</th>\n",
       "      <th>last</th>\n",
       "      <th>gender</th>\n",
       "      <th>age</th>\n",
       "      <th>timedelta</th>\n",
       "    </tr>\n",
       "  </thead>\n",
       "  <tbody>\n",
       "    <tr>\n",
       "      <th>0</th>\n",
       "      <td>Raymond W.</td>\n",
       "      <td>Lee, Jr.</td>\n",
       "      <td>M</td>\n",
       "      <td>74</td>\n",
       "      <td>00:51:32</td>\n",
       "    </tr>\n",
       "    <tr>\n",
       "      <th>1</th>\n",
       "      <td>rob</td>\n",
       "      <td>picotte</td>\n",
       "      <td>M</td>\n",
       "      <td>62</td>\n",
       "      <td>00:28:16</td>\n",
       "    </tr>\n",
       "    <tr>\n",
       "      <th>2</th>\n",
       "      <td>Chris</td>\n",
       "      <td>Buckley</td>\n",
       "      <td>M</td>\n",
       "      <td>54</td>\n",
       "      <td>00:26:11</td>\n",
       "    </tr>\n",
       "    <tr>\n",
       "      <th>3</th>\n",
       "      <td>Christopher</td>\n",
       "      <td>Rush</td>\n",
       "      <td>M</td>\n",
       "      <td>79</td>\n",
       "      <td>00:39:33</td>\n",
       "    </tr>\n",
       "    <tr>\n",
       "      <th>4</th>\n",
       "      <td>Tom</td>\n",
       "      <td>McGuire</td>\n",
       "      <td>M</td>\n",
       "      <td>64</td>\n",
       "      <td>00:29:09</td>\n",
       "    </tr>\n",
       "  </tbody>\n",
       "</table>\n",
       "</div>"
      ],
      "text/plain": [
       "         first      last gender  age  timedelta\n",
       "0   Raymond W.  Lee, Jr.      M   74   00:51:32\n",
       "1          rob   picotte      M   62   00:28:16\n",
       "2        Chris   Buckley      M   54   00:26:11\n",
       "3  Christopher      Rush      M   79   00:39:33\n",
       "4          Tom   McGuire      M   64   00:29:09"
      ]
     },
     "execution_count": 11,
     "metadata": {},
     "output_type": "execute_result"
    }
   ],
   "source": [
    "hmrrc=results[results.hmrrc=='Yes']\n",
    "hmrrc=hmrrc[['first','last','gender','age','timedelta']]\n",
    "hmrrc.head()"
   ]
  },
  {
   "cell_type": "code",
   "execution_count": 16,
   "metadata": {
    "collapsed": false
   },
   "outputs": [],
   "source": [
    "def prixReport(agemin, agemax, gender):\n",
    "    racers=hmrrc[hmrrc.gender==gender]\n",
    "    racers=racers[racers.age>=agemin]\n",
    "    racers=racers[racers.age<=agemax]\n",
    "    \n",
    "    racers=racers.sort('timedelta').iloc[0:10]\n",
    "    \n",
    "    return racers\n",
    "    "
   ]
  },
  {
   "cell_type": "code",
   "execution_count": 17,
   "metadata": {
    "collapsed": false
   },
   "outputs": [
    {
     "name": "stdout",
     "output_type": "stream",
     "text": [
      "M [20, 29]\n",
      "F [20, 29]\n",
      "M [30, 39]\n",
      "F [30, 39]\n",
      "M [40, 49]\n",
      "F [40, 49]\n",
      "M [50, 59]\n",
      "F [50, 59]\n",
      "M [60, 69]\n",
      "F [60, 69]\n",
      "M [70, 99]\n",
      "F [70, 99]\n"
     ]
    }
   ],
   "source": [
    "for age in [[20,29],[30,39],[40,49],[50,59],[60,69],[70,99]]: \n",
    "    for gender in ['M','F']:\n",
    "        print gender, age\n",
    "        \n",
    "        prixReport(age[0],age[1],gender)"
   ]
  },
  {
   "cell_type": "code",
   "execution_count": 19,
   "metadata": {
    "collapsed": false
   },
   "outputs": [],
   "source": [
    "f = open('../output/hmrrcp.html','w')\n",
    "\n",
    "message = \"\"\"<html>\n",
    "<head>\n",
    "    <meta charset=\"utf-8\">\n",
    "    <meta http-equiv=\"X-UA-Compatible\" content=\"chrome=1\">\n",
    "    <title>Runnin&#39; of the Green HMRRC Grand Prix</title>\n",
    "\n",
    "    <link rel=\"stylesheet\" href=\"stylesheets/styles.css\">\n",
    "    <link rel=\"stylesheet\" href=\"stylesheets/github-light.css\">\n",
    "    <meta name=\"viewport\" content=\"width=device-width\">\n",
    "    <!--[if lt IE 9]>\n",
    "    <script src=\"//html5shiv.googlecode.com/svn/trunk/html5.js\"></script>\n",
    "    <![endif]-->\n",
    "  </head>\n",
    "<body><h1>Runnin' of the Green HMRRC Grand Prix Preliminary Results</h1>\"\"\"\n",
    "\n",
    "for age in [[20,29],[30,39],[40,49],[50,59],[60,69],[70,99]]: \n",
    "    for gender in ['M','F']:\n",
    "        \n",
    "        table=prixReport(age[0],age[1],gender)\n",
    "        \n",
    "        table=table.to_html(index=False) if table.shape[0]>0 else None\n",
    "\n",
    "        message=message+\"<h2>\"+gender+str(age)+\"</h2>\"\n",
    "        \n",
    "        if (table!=None):\n",
    "            message=message+table\n",
    "            message=message+\"<br>\"\n",
    "\n",
    "        message=message+\"\"\"</body>\n",
    "        </html>\"\"\"\n",
    "\n",
    "f.write(message)\n",
    "f.close()\n",
    "\n",
    "#HTML(\"../output/hmrrcp.html\").write_pdf(\"../output/rotg2016_hmrrcgrandprix.pdf\")"
   ]
  },
  {
   "cell_type": "code",
   "execution_count": 76,
   "metadata": {
    "collapsed": false
   },
   "outputs": [],
   "source": [
    "def gp_table(gender):\n",
    "    final=pd.DataFrame(index=range(0,10))\n",
    "    \n",
    "    agestrings=['open','30-39','40-49','50-59','60-69','70+']\n",
    "    i=0\n",
    "    \n",
    "    for age in [[20,29],[30,39],[40,49],[50,59],[60,69],[70,99]]:\n",
    "        table=prixReport(age[0],age[1],gender)\n",
    "        table=table.reset_index(drop=True)\n",
    "        \n",
    "        final[str(gender)+agestrings[i]+' points']=[12,10,8,7,6,5,4,3,2,1]\n",
    "        final[str(gender)+agestrings[i]]=table['first']+' '+table['last']\n",
    "        final[str(gender)+agestrings[i]]=final[str(gender)+agestrings[i]].fillna(\"\")\n",
    "        i=i+1\n",
    "        \n",
    "    return final\n",
    "        \n",
    "    "
   ]
  },
  {
   "cell_type": "code",
   "execution_count": 77,
   "metadata": {
    "collapsed": false
   },
   "outputs": [],
   "source": [
    "males=gp_table('M')\n",
    "females=gp_table('F')"
   ]
  },
  {
   "cell_type": "code",
   "execution_count": 78,
   "metadata": {
    "collapsed": true
   },
   "outputs": [],
   "source": [
    "from pandas import ExcelWriter\n",
    "import os\n",
    "def dfs2xlsx(list_dfs,xls_path = None):\n",
    "    #save_xls([df1,df2],'output1.xlsx')\n",
    "    if xls_path == None :\n",
    "        xls_path = '~tmp.xlsx'\n",
    "    writer = ExcelWriter(xls_path)\n",
    "    i=0\n",
    "    for n, df in enumerate(list_dfs):\n",
    "        df.to_excel(writer,'Sheet1',startcol=0,startrow =i,index=False)\n",
    "        i+= df.shape[0] + 2\n",
    "    writer.save()\n",
    "    os.system('start excel.exe %s' %(writer.path ))"
   ]
  },
  {
   "cell_type": "code",
   "execution_count": 79,
   "metadata": {
    "collapsed": false
   },
   "outputs": [],
   "source": [
    "dfs2xlsx([males,females],'../output/rotg_gp.xlsx')"
   ]
  },
  {
   "cell_type": "code",
   "execution_count": 62,
   "metadata": {
    "collapsed": false
   },
   "outputs": [
    {
     "data": {
      "text/plain": [
       "120"
      ]
     },
     "execution_count": 62,
     "metadata": {},
     "output_type": "execute_result"
    }
   ],
   "source": [
    "females.size"
   ]
  },
  {
   "cell_type": "code",
   "execution_count": 63,
   "metadata": {
    "collapsed": false
   },
   "outputs": [
    {
     "data": {
      "text/plain": [
       "(10, 12)"
      ]
     },
     "execution_count": 63,
     "metadata": {},
     "output_type": "execute_result"
    }
   ],
   "source": [
    "females.shape"
   ]
  },
  {
   "cell_type": "code",
   "execution_count": null,
   "metadata": {
    "collapsed": true
   },
   "outputs": [],
   "source": []
  }
 ],
 "metadata": {
  "kernelspec": {
   "display_name": "Python 2",
   "language": "python",
   "name": "python2"
  },
  "language_info": {
   "codemirror_mode": {
    "name": "ipython",
    "version": 2
   },
   "file_extension": ".py",
   "mimetype": "text/x-python",
   "name": "python",
   "nbconvert_exporter": "python",
   "pygments_lexer": "ipython2",
   "version": "2.7.11"
  }
 },
 "nbformat": 4,
 "nbformat_minor": 0
}
