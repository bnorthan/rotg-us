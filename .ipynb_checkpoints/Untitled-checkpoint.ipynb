{
 "cells": [
  {
   "cell_type": "code",
   "execution_count": 70,
   "metadata": {
    "collapsed": false
   },
   "outputs": [],
   "source": [
    "import pandas as pd\n",
    "import sys"
   ]
  },
  {
   "cell_type": "code",
   "execution_count": 71,
   "metadata": {
    "collapsed": false
   },
   "outputs": [],
   "source": [
    "rotg=[pd.read_fwf('./data/'+str(year)+'.txt') for year in range(2000,2016)]"
   ]
  },
  {
   "cell_type": "code",
   "execution_count": 72,
   "metadata": {
    "collapsed": false,
    "scrolled": true
   },
   "outputs": [
    {
     "name": "stdout",
     "output_type": "stream",
     "text": [
      "Index([u'PLACE', u'NAME', u'AGE', u'SEX', u'CITY', u'ST', u'TIME', u'PACE'], dtype='object')\n"
     ]
    },
    {
     "data": {
      "text/html": [
       "<div>\n",
       "<table border=\"1\" class=\"dataframe\">\n",
       "  <thead>\n",
       "    <tr style=\"text-align: right;\">\n",
       "      <th></th>\n",
       "      <th>PLACE</th>\n",
       "      <th>AGE</th>\n",
       "      <th>SEX</th>\n",
       "      <th>CITY</th>\n",
       "      <th>ST</th>\n",
       "      <th>TIME</th>\n",
       "      <th>PACE</th>\n",
       "      <th>FIRST_NAME</th>\n",
       "      <th>LAST_NAME</th>\n",
       "    </tr>\n",
       "  </thead>\n",
       "  <tbody>\n",
       "    <tr>\n",
       "      <th>0</th>\n",
       "      <td>1</td>\n",
       "      <td>22</td>\n",
       "      <td>M</td>\n",
       "      <td>Albany</td>\n",
       "      <td>NY</td>\n",
       "      <td>19:52</td>\n",
       "      <td>4:58</td>\n",
       "      <td>Jeffrey</td>\n",
       "      <td>Brooks</td>\n",
       "    </tr>\n",
       "    <tr>\n",
       "      <th>1</th>\n",
       "      <td>2</td>\n",
       "      <td>24</td>\n",
       "      <td>M</td>\n",
       "      <td>Albany</td>\n",
       "      <td>NY</td>\n",
       "      <td>19:56</td>\n",
       "      <td>4:59</td>\n",
       "      <td>Nick</td>\n",
       "      <td>Conway</td>\n",
       "    </tr>\n",
       "    <tr>\n",
       "      <th>2</th>\n",
       "      <td>3</td>\n",
       "      <td>23</td>\n",
       "      <td>M</td>\n",
       "      <td>Schenectady</td>\n",
       "      <td>NY</td>\n",
       "      <td>20:22</td>\n",
       "      <td>5:06</td>\n",
       "      <td>Peter</td>\n",
       "      <td>Flynn</td>\n",
       "    </tr>\n",
       "    <tr>\n",
       "      <th>3</th>\n",
       "      <td>4</td>\n",
       "      <td>19</td>\n",
       "      <td>M</td>\n",
       "      <td>Albany</td>\n",
       "      <td>NY</td>\n",
       "      <td>20:33</td>\n",
       "      <td>5:09</td>\n",
       "      <td>Jaime</td>\n",
       "      <td>Rodriguez</td>\n",
       "    </tr>\n",
       "    <tr>\n",
       "      <th>4</th>\n",
       "      <td>5</td>\n",
       "      <td>17</td>\n",
       "      <td>M</td>\n",
       "      <td>West Sand Lake</td>\n",
       "      <td>NY</td>\n",
       "      <td>21:08</td>\n",
       "      <td>5:17</td>\n",
       "      <td>Tyson</td>\n",
       "      <td>Evensen</td>\n",
       "    </tr>\n",
       "  </tbody>\n",
       "</table>\n",
       "</div>"
      ],
      "text/plain": [
       "   PLACE  AGE SEX            CITY  ST   TIME  PACE FIRST_NAME  LAST_NAME\n",
       "0      1   22   M          Albany  NY  19:52  4:58    Jeffrey     Brooks\n",
       "1      2   24   M          Albany  NY  19:56  4:59       Nick     Conway\n",
       "2      3   23   M     Schenectady  NY  20:22  5:06      Peter      Flynn\n",
       "3      4   19   M          Albany  NY  20:33  5:09      Jaime  Rodriguez\n",
       "4      5   17   M  West Sand Lake  NY  21:08  5:17      Tyson    Evensen"
      ]
     },
     "execution_count": 72,
     "metadata": {},
     "output_type": "execute_result"
    }
   ],
   "source": [
    "test=rotg[0]\n",
    "df = pd.DataFrame(test.NAME.str.split(' ',1).tolist(),\n",
    "                                   columns = ['FIRST_NAME','LAST_NAME'])\n",
    "\n",
    "print test.columns\n",
    "test=test.drop('NAME',1)\n",
    "test=test.join(df)\n",
    "\n",
    "test.head()\n",
    "\n"
   ]
  },
  {
   "cell_type": "code",
   "execution_count": 73,
   "metadata": {
    "collapsed": false
   },
   "outputs": [
    {
     "name": "stdout",
     "output_type": "stream",
     "text": [
      "Unexpected error: <type 'exceptions.AttributeError'>\n"
     ]
    },
    {
     "name": "stderr",
     "output_type": "stream",
     "text": [
      "/home/bnorthan/anaconda/lib/python2.7/site-packages/IPython/kernel/__main__.py:22: SettingWithCopyWarning: \n",
      "A value is trying to be set on a copy of a slice from a DataFrame.\n",
      "Try using .loc[row_indexer,col_indexer] = value instead\n",
      "\n",
      "See the the caveats in the documentation: http://pandas.pydata.org/pandas-docs/stable/indexing.html#indexing-view-versus-copy\n"
     ]
    }
   ],
   "source": [
    "master=pd.DataFrame()\n",
    "rotg2=[]\n",
    "i=0 \n",
    "year=2000\n",
    "\n",
    "for i in range(len(rotg)):\n",
    "    \n",
    "    try :\n",
    "        rotg[i].NAME=rotg[i].NAME.fillna('No Name')\n",
    "        rotg[i].TIME=rotg[i].TIME.fillna('59:21.5')\n",
    "        temp = pd.DataFrame(rotg[i].NAME.str.split(' ',1).tolist(),\n",
    "                                   columns = ['FIRSTNAME','LASTNAME'])\n",
    "        \n",
    "\n",
    "        rotg[i]=rotg[i].drop('NAME',1)\n",
    "        rotg[i]=rotg[i].join(temp)\n",
    "        \n",
    "    except :\n",
    "        print \"Unexpected error:\", sys.exc_info()[0]\n",
    "        pass\n",
    "    newdf=rotg[i][['PLACE', 'FIRSTNAME', 'LASTNAME', 'AGE', 'SEX', 'CITY', 'ST', 'TIME']]\n",
    "    newdf['YEAR']=[year]*len(newdf.PLACE)\n",
    "    year=year+1\n",
    "    master=master.append(newdf)\n",
    "    i=i+1\n",
    "    "
   ]
  },
  {
   "cell_type": "code",
   "execution_count": 74,
   "metadata": {
    "collapsed": false
   },
   "outputs": [
    {
     "data": {
      "text/html": [
       "<div>\n",
       "<table border=\"1\" class=\"dataframe\">\n",
       "  <thead>\n",
       "    <tr style=\"text-align: right;\">\n",
       "      <th></th>\n",
       "      <th>PLACE</th>\n",
       "      <th>FIRSTNAME</th>\n",
       "      <th>LASTNAME</th>\n",
       "      <th>AGE</th>\n",
       "      <th>SEX</th>\n",
       "      <th>CITY</th>\n",
       "      <th>ST</th>\n",
       "      <th>TIME</th>\n",
       "      <th>YEAR</th>\n",
       "    </tr>\n",
       "  </thead>\n",
       "  <tbody>\n",
       "    <tr>\n",
       "      <th>0</th>\n",
       "      <td>1</td>\n",
       "      <td>Jeffrey</td>\n",
       "      <td>Brooks</td>\n",
       "      <td>22</td>\n",
       "      <td>M</td>\n",
       "      <td>Albany</td>\n",
       "      <td>NY</td>\n",
       "      <td>19:52</td>\n",
       "      <td>2000</td>\n",
       "    </tr>\n",
       "    <tr>\n",
       "      <th>1</th>\n",
       "      <td>2</td>\n",
       "      <td>Nick</td>\n",
       "      <td>Conway</td>\n",
       "      <td>24</td>\n",
       "      <td>M</td>\n",
       "      <td>Albany</td>\n",
       "      <td>NY</td>\n",
       "      <td>19:56</td>\n",
       "      <td>2000</td>\n",
       "    </tr>\n",
       "    <tr>\n",
       "      <th>2</th>\n",
       "      <td>3</td>\n",
       "      <td>Peter</td>\n",
       "      <td>Flynn</td>\n",
       "      <td>23</td>\n",
       "      <td>M</td>\n",
       "      <td>Schenectady</td>\n",
       "      <td>NY</td>\n",
       "      <td>20:22</td>\n",
       "      <td>2000</td>\n",
       "    </tr>\n",
       "    <tr>\n",
       "      <th>3</th>\n",
       "      <td>4</td>\n",
       "      <td>Jaime</td>\n",
       "      <td>Rodriguez</td>\n",
       "      <td>19</td>\n",
       "      <td>M</td>\n",
       "      <td>Albany</td>\n",
       "      <td>NY</td>\n",
       "      <td>20:33</td>\n",
       "      <td>2000</td>\n",
       "    </tr>\n",
       "    <tr>\n",
       "      <th>4</th>\n",
       "      <td>5</td>\n",
       "      <td>Tyson</td>\n",
       "      <td>Evensen</td>\n",
       "      <td>17</td>\n",
       "      <td>M</td>\n",
       "      <td>West Sand Lake</td>\n",
       "      <td>NY</td>\n",
       "      <td>21:08</td>\n",
       "      <td>2000</td>\n",
       "    </tr>\n",
       "  </tbody>\n",
       "</table>\n",
       "</div>"
      ],
      "text/plain": [
       "   PLACE FIRSTNAME   LASTNAME  AGE SEX            CITY  ST   TIME  YEAR\n",
       "0      1   Jeffrey     Brooks   22   M          Albany  NY  19:52  2000\n",
       "1      2      Nick     Conway   24   M          Albany  NY  19:56  2000\n",
       "2      3     Peter      Flynn   23   M     Schenectady  NY  20:22  2000\n",
       "3      4     Jaime  Rodriguez   19   M          Albany  NY  20:33  2000\n",
       "4      5     Tyson    Evensen   17   M  West Sand Lake  NY  21:08  2000"
      ]
     },
     "execution_count": 74,
     "metadata": {},
     "output_type": "execute_result"
    }
   ],
   "source": [
    "master.head()"
   ]
  },
  {
   "cell_type": "code",
   "execution_count": 75,
   "metadata": {
    "collapsed": false
   },
   "outputs": [],
   "source": [
    "master=master.reset_index(drop=True)"
   ]
  },
  {
   "cell_type": "code",
   "execution_count": 76,
   "metadata": {
    "collapsed": false
   },
   "outputs": [],
   "source": [
    "master=master.drop(213)\n",
    "master=master.reset_index(drop=True)"
   ]
  },
  {
   "cell_type": "code",
   "execution_count": 77,
   "metadata": {
    "collapsed": false
   },
   "outputs": [],
   "source": [
    "new_time=[]\n",
    "for i in range(len(master.TIME)):\n",
    "    if len(master.TIME[i].split(':'))==2:\n",
    "        time_string='00:'+master.TIME[i]\n",
    "    else:\n",
    "        time_string=master.TIME[i]\n",
    "        \n",
    "    if (type(pd.to_datetime(time_string))!=pd.tslib.Timestamp):\n",
    "        time_stamp=pd.to_datetime('00:40:00')\n",
    "    else:\n",
    "        time_stamp=pd.to_datetime(time_string)\n",
    "    \n",
    "    new_time.append(time_stamp)\n",
    "\n",
    "master['TIMESTAMP']=new_time"
   ]
  },
  {
   "cell_type": "code",
   "execution_count": 78,
   "metadata": {
    "collapsed": false
   },
   "outputs": [
    {
     "name": "stdout",
     "output_type": "stream",
     "text": [
      "2016-02-22 00:19:36\n",
      "2016-02-22 01:05:22\n"
     ]
    }
   ],
   "source": [
    "print master.TIMESTAMP.min()\n",
    "print master.TIMESTAMP.max()\n"
   ]
  },
  {
   "cell_type": "code",
   "execution_count": 96,
   "metadata": {
    "collapsed": false
   },
   "outputs": [
    {
     "ename": "AttributeError",
     "evalue": "'Document' object has no attribute 'add_root'",
     "output_type": "error",
     "traceback": [
      "\u001b[1;31m---------------------------------------------------------------------------\u001b[0m",
      "\u001b[1;31mAttributeError\u001b[0m                            Traceback (most recent call last)",
      "\u001b[1;32m<ipython-input-96-5d725631a2a1>\u001b[0m in \u001b[0;36m<module>\u001b[1;34m()\u001b[0m\n\u001b[0;32m     33\u001b[0m \u001b[0minputs\u001b[0m \u001b[1;33m=\u001b[0m \u001b[0mHBox\u001b[0m\u001b[1;33m(\u001b[0m\u001b[0mVBoxForm\u001b[0m\u001b[1;33m(\u001b[0m\u001b[1;33m*\u001b[0m\u001b[0mcontrols\u001b[0m\u001b[1;33m)\u001b[0m\u001b[1;33m,\u001b[0m \u001b[0mwidth\u001b[0m\u001b[1;33m=\u001b[0m\u001b[1;36m300\u001b[0m\u001b[1;33m)\u001b[0m\u001b[1;33m\u001b[0m\u001b[0m\n\u001b[0;32m     34\u001b[0m \u001b[0mupdate\u001b[0m\u001b[1;33m(\u001b[0m\u001b[0mNone\u001b[0m\u001b[1;33m,\u001b[0m \u001b[0mNone\u001b[0m\u001b[1;33m,\u001b[0m \u001b[0mNone\u001b[0m\u001b[1;33m)\u001b[0m \u001b[1;31m# initial load of the data\u001b[0m\u001b[1;33m\u001b[0m\u001b[0m\n\u001b[1;32m---> 35\u001b[1;33m \u001b[0mcurdoc\u001b[0m\u001b[1;33m(\u001b[0m\u001b[1;33m)\u001b[0m\u001b[1;33m.\u001b[0m\u001b[0madd_root\u001b[0m\u001b[1;33m(\u001b[0m\u001b[0mHBox\u001b[0m\u001b[1;33m(\u001b[0m\u001b[0minputs\u001b[0m\u001b[1;33m,\u001b[0m \u001b[0mp\u001b[0m\u001b[1;33m,\u001b[0m \u001b[0mwidth\u001b[0m\u001b[1;33m=\u001b[0m\u001b[1;36m1100\u001b[0m\u001b[1;33m)\u001b[0m\u001b[1;33m)\u001b[0m\u001b[1;33m\u001b[0m\u001b[0m\n\u001b[0m\u001b[0;32m     36\u001b[0m \u001b[1;33m\u001b[0m\u001b[0m\n\u001b[0;32m     37\u001b[0m \u001b[1;33m\u001b[0m\u001b[0m\n",
      "\u001b[1;31mAttributeError\u001b[0m: 'Document' object has no attribute 'add_root'"
     ]
    }
   ],
   "source": [
    "import numpy as np\n",
    "from bokeh.models import HoverTool\n",
    "from bokeh.models.widgets import Slider, Select, TextInput\n",
    "from bokeh.models import ColumnDataSource, HoverTool, HBox, VBoxForm\n",
    "from bokeh.io import curdoc\n",
    "\n",
    "from bokeh.plotting import figure, ColumnDataSource, show, output_file\n",
    "\n",
    "output_file('test.html',\"test\")\n",
    "\n",
    "min_year = Slider(title=\"Year released\", start=2000, end=2015, value=2000, step=1)\n",
    "max_year = Slider(title=\"End Year released\", start=2000, end=2015, value=2015, step=1)\n",
    "\n",
    "master[\"color\"] = np.where(master[\"SEX\"] == 'F', \"red\", \"blue\")\n",
    "\n",
    "p = figure(width=1400, height=800, y_axis_type='datetime')\n",
    "\n",
    "\n",
    "#source = ColumnDataSource(data=dict(x=[], y=[], color=[], time=[], year=[], revenue=[]))\n",
    "source=ColumnDataSource(data=master)\n",
    "\n",
    "s1=p.scatter('AGE', 'TIMESTAMP', source =  source,\\\n",
    " size=10,color=master.color, alpha=0.5)\n",
    "\n",
    "hover = HoverTool()\n",
    "hover.tooltips = [('First Name', '@FIRSTNAME'), ('Last Name', '@LASTNAME'), ('Time', '@TIME')]\n",
    "p.add_tools(hover)\n",
    "\n",
    "controls = [min_year, max_year]\n",
    "for control in controls:\n",
    "    control.on_change('value', update)\n",
    "\n",
    "    \n",
    "inputs = HBox(VBoxForm(*controls), width=300)\n",
    "update(None, None, None) # initial load of the data\n",
    "curdoc().add_root(HBox(inputs, p, width=1100))\n",
    "\n",
    "\n",
    "show(p)"
   ]
  },
  {
   "cell_type": "code",
   "execution_count": 9,
   "metadata": {
    "collapsed": false
   },
   "outputs": [],
   "source": [
    "from bokeh.plotting import figure, show, output_file\n",
    "\n",
    "output_file('test.hrml',\"test\")\n",
    "\n",
    "p = figure(width=800, height=600)#, y_axis_type='datetime')\n",
    "\n",
    "s1=p.circle([1,2,3], [1,2,3], size=10,color='blue', alpha=0.5)\n",
    "\n",
    "show(p)"
   ]
  },
  {
   "cell_type": "code",
   "execution_count": 91,
   "metadata": {
    "collapsed": true
   },
   "outputs": [],
   "source": [
    "def select_runners():\n",
    "    #genre_val = genre.value\n",
    "    #director_val = director.value.strip()\n",
    "    #cast_val = cast.value.strip()\n",
    "    selected = master[\n",
    "        (master.YEAR >= min_year.value) &\n",
    "        (master.YEAR <= max_year.value) \n",
    "    ]\n",
    "    '''\n",
    "    if (genre_val != \"All\"):\n",
    "        selected = selected[selected.Genre.str.contains(genre_val)==True]\n",
    "    if (director_val != \"\"):\n",
    "        selected = selected[selected.Director.str.contains(director_val)==True]\n",
    "    if (cast_val != \"\"):\n",
    "        selected = selected[selected.Cast.str.contains(cast_val)==True]\n",
    "    '''\n",
    "    return selected\n",
    "    "
   ]
  },
  {
   "cell_type": "code",
   "execution_count": 94,
   "metadata": {
    "collapsed": false
   },
   "outputs": [],
   "source": [
    "def update(attrname, old, new):\n",
    "    df = select_runners()\n",
    "    \n",
    "    source.data = df.to_dict()\n",
    "    "
   ]
  },
  {
   "cell_type": "code",
   "execution_count": null,
   "metadata": {
    "collapsed": true
   },
   "outputs": [],
   "source": []
  }
 ],
 "metadata": {
  "kernelspec": {
   "display_name": "Python 2",
   "language": "python",
   "name": "python2"
  },
  "language_info": {
   "codemirror_mode": {
    "name": "ipython",
    "version": 2
   },
   "file_extension": ".py",
   "mimetype": "text/x-python",
   "name": "python",
   "nbconvert_exporter": "python",
   "pygments_lexer": "ipython2",
   "version": "2.7.11"
  }
 },
 "nbformat": 4,
 "nbformat_minor": 0
}
